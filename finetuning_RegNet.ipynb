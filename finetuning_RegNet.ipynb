{
  "cells": [
    {
      "cell_type": "markdown",
      "metadata": {
        "id": "view-in-github",
        "colab_type": "text"
      },
      "source": [
        "<a href=\"https://colab.research.google.com/github/RuthKassahun/Melanoma_Classification/blob/main/finetuning_RegNet.ipynb\" target=\"_parent\"><img src=\"https://colab.research.google.com/assets/colab-badge.svg\" alt=\"Open In Colab\"/></a>"
      ]
    },
    {
      "cell_type": "code",
      "execution_count": 1,
      "metadata": {
        "id": "m19hdxiiu_Kl"
      },
      "outputs": [],
      "source": [
        "import tensorflow as tf"
      ]
    },
    {
      "cell_type": "code",
      "execution_count": null,
      "metadata": {
        "id": "6zRAdpWsu_Kq",
        "outputId": "79f40d9d-4e6d-489c-d445-0c5b67a60e53"
      },
      "outputs": [
        {
          "name": "stdout",
          "output_type": "stream",
          "text": [
            "Num GPUs Available:  3\n",
            "3 Physical GPUs,  1 Logical GPU\n"
          ]
        },
        {
          "name": "stderr",
          "output_type": "stream",
          "text": [
            "2023-01-14 23:30:27.210739: I tensorflow/core/platform/cpu_feature_guard.cc:193] This TensorFlow binary is optimized with oneAPI Deep Neural Network Library (oneDNN) to use the following CPU instructions in performance-critical operations:  AVX2 AVX512F AVX512_VNNI FMA\n",
            "To enable them in other operations, rebuild TensorFlow with the appropriate compiler flags.\n",
            "2023-01-14 23:30:31.174888: I tensorflow/core/common_runtime/gpu/gpu_device.cc:1613] Created device /job:localhost/replica:0/task:0/device:GPU:0 with 22104 MB memory:  -> device: 2, name: NVIDIA A30, pci bus id: 0000:ca:00.0, compute capability: 8.0\n"
          ]
        }
      ],
      "source": [
        "selected_gpu = 2 # here you select the GPU used (0, 1 or 2)\n",
        "gpus = tf.config.experimental.list_physical_devices('GPU')\n",
        "print(\"Num GPUs Available: \", len(gpus))\n",
        "if gpus:\n",
        "    try:\n",
        "        tf.config.set_visible_devices(gpus[selected_gpu], 'GPU')\n",
        "        logical_gpus = tf.config.list_logical_devices('GPU')\n",
        "        print(len(gpus), \"Physical GPUs, \", len(logical_gpus),\"Logical GPU\")\n",
        "    except RuntimeError as e:\n",
        "    # Visible devices must be set before GPUs have been initialized\n",
        "        print(e)"
      ]
    },
    {
      "cell_type": "code",
      "execution_count": 19,
      "metadata": {
        "id": "g22aFLCzu_Kr"
      },
      "outputs": [],
      "source": [
        "from keras.applications.regnet import RegNetX002"
      ]
    },
    {
      "cell_type": "code",
      "execution_count": 3,
      "metadata": {
        "id": "Jz25dwwbOB5q"
      },
      "outputs": [],
      "source": [
        "import os\n",
        "from glob import glob\n",
        "import cv2\n",
        "import glob\n",
        "\n",
        "import pandas as pd\n",
        "import numpy as np\n",
        "from sklearn.model_selection import train_test_split\n",
        "from keras.utils.np_utils import to_categorical # convert to one-hot-encoding\n",
        "from sklearn import preprocessing\n",
        "from keras.preprocessing.image import ImageDataGenerator\n",
        "from keras import layers\n",
        "from keras import Model\n",
        "from keras.applications.densenet import DenseNet201\n",
        "from keras.applications.efficientnet import EfficientNetB0\n",
        "from keras.applications.mobilenet_v2 import MobileNetV2\n",
        "from keras.optimizers import Adam\n",
        "from keras.callbacks import ReduceLROnPlateau\n",
        "import keras.backend as K\n",
        "\n",
        "%matplotlib inline\n",
        "import matplotlib.pyplot as plt"
      ]
    },
    {
      "cell_type": "code",
      "source": [
        "from google.colab import drive\n",
        "drive.mount('/content/drive')"
      ],
      "metadata": {
        "colab": {
          "base_uri": "https://localhost:8080/"
        },
        "id": "jXJ3WgHvvee4",
        "outputId": "0dc58a0a-67f4-401a-d73a-343ff7489866"
      },
      "execution_count": 7,
      "outputs": [
        {
          "output_type": "stream",
          "name": "stdout",
          "text": [
            "Mounted at /content/drive\n"
          ]
        }
      ]
    },
    {
      "cell_type": "code",
      "execution_count": 8,
      "metadata": {
        "id": "-lpAcRkOOkZe"
      },
      "outputs": [],
      "source": [
        "SIZE = 224\n",
        "train_images_lbp = []\n",
        "train_labels_lbp = []\n",
        "for directory_path in glob.glob(\"/content/drive/MyDrive/MultiClass_Skin_lesion/train/*\"):\n",
        "    label_lbp_train = directory_path.split(\"/\")[-1]\n",
        "    label = directory_path.split(\"/\")[-1]\n",
        "    #print(label_lbp_train)\n",
        "    for img_path in glob.glob(os.path.join(directory_path, \"*.jpg\")):\n",
        "        #print(img_path)\n",
        "        img1 = cv2.imread(img_path,1) #Reading color images\n",
        "        img1 = cv2.resize(img1, (SIZE, SIZE)) #Resize images\n",
        "        arr = np.array(img1) # convert the image to numpy array\n",
        "        train_images_lbp.append(arr)\n",
        "        train_labels_lbp.append(label_lbp_train)\n",
        "\n",
        "train_images_lbp =np.array(train_images_lbp)\n",
        "trait_labels_lbp =np.array(train_labels_lbp)"
      ]
    },
    {
      "cell_type": "code",
      "execution_count": 9,
      "metadata": {
        "id": "XfZaW1FUu_Ks"
      },
      "outputs": [],
      "source": [
        "from sklearn.utils import class_weight"
      ]
    },
    {
      "cell_type": "code",
      "execution_count": 10,
      "metadata": {
        "id": "eUONlmTxzcet"
      },
      "outputs": [],
      "source": [
        "from sklearn.utils.class_weight import compute_class_weight\n",
        "class_weights = compute_class_weight(class_weight = \"balanced\", classes= np.unique(trait_labels_lbp), y= trait_labels_lbp)"
      ]
    },
    {
      "cell_type": "code",
      "execution_count": null,
      "metadata": {
        "id": "VmXrk32NPKpF"
      },
      "outputs": [],
      "source": [
        "#train_images_lbp.shape"
      ]
    },
    {
      "cell_type": "code",
      "execution_count": null,
      "metadata": {
        "id": "vd2CCcplQo2O"
      },
      "outputs": [],
      "source": [
        "#trait_labels_lbp.shape"
      ]
    },
    {
      "cell_type": "code",
      "execution_count": 11,
      "metadata": {
        "id": "VMrFyqwwPSK1"
      },
      "outputs": [],
      "source": [
        "test_images_lbp = []\n",
        "test_labels_lbp = [] \n",
        "#for directory_path in glob.glob(\"cell_images/train/*\"):\n",
        "for directory_path in glob.glob(\"/content/drive/MyDrive/MultiClass_Skin_lesion/val/*\"):\n",
        "    label_lbp_test = directory_path.split(\"/\")[-1]\n",
        "    label = directory_path.split(\"/\")[-1]\n",
        "    #print(label_lbp_test)\n",
        "    for img_path in glob.glob(os.path.join(directory_path, \"*.jpg\")):\n",
        "        #print(img_path)\n",
        "        img2 = cv2.imread(img_path,1) #Reading color images\n",
        "        img2 = cv2.resize(img2, (SIZE, SIZE)) #Resize images\n",
        "        arr = np.array(img2) # convert the image to numpy array\n",
        "        test_images_lbp.append(arr)\n",
        "        test_labels_lbp.append(label_lbp_test)\n",
        "\n",
        "test_images_lbp =np.array(test_images_lbp)\n",
        "test_labels_lbp =np.array(test_labels_lbp)"
      ]
    },
    {
      "cell_type": "code",
      "execution_count": 12,
      "metadata": {
        "colab": {
          "base_uri": "https://localhost:8080/"
        },
        "id": "wcbgCL8dP06v",
        "outputId": "fd4beb41-4cb5-4098-fcbd-7fbce7273871"
      },
      "outputs": [
        {
          "output_type": "execute_result",
          "data": {
            "text/plain": [
              "(1270, 224, 224, 3)"
            ]
          },
          "metadata": {},
          "execution_count": 12
        }
      ],
      "source": [
        "test_images_lbp.shape"
      ]
    },
    {
      "cell_type": "code",
      "execution_count": 13,
      "metadata": {
        "id": "-CGE6IGqQ6Ck"
      },
      "outputs": [],
      "source": [
        "X_train, y_train , X_val, y_val = train_images_lbp,trait_labels_lbp,test_images_lbp,test_labels_lbp"
      ]
    },
    {
      "cell_type": "code",
      "execution_count": null,
      "metadata": {
        "id": "ukdps1CuRXEm"
      },
      "outputs": [],
      "source": [
        "#X_train.shape"
      ]
    },
    {
      "cell_type": "code",
      "execution_count": null,
      "metadata": {
        "id": "xtXByy5CWK6W"
      },
      "outputs": [],
      "source": [
        "#X_val.shape"
      ]
    },
    {
      "cell_type": "code",
      "execution_count": null,
      "metadata": {
        "id": "fMOxXoAkWQED"
      },
      "outputs": [],
      "source": [
        "#y_train.shape"
      ]
    },
    {
      "cell_type": "code",
      "execution_count": null,
      "metadata": {
        "id": "ic26qfuWWSCQ"
      },
      "outputs": [],
      "source": [
        "#y_val.shape"
      ]
    },
    {
      "cell_type": "code",
      "execution_count": 15,
      "metadata": {
        "id": "G--IK7cRRrHb"
      },
      "outputs": [],
      "source": [
        "from keras.utils.np_utils import to_categorical"
      ]
    },
    {
      "cell_type": "code",
      "execution_count": 14,
      "metadata": {
        "id": "hn9cVKg-SAgq"
      },
      "outputs": [],
      "source": [
        "le = preprocessing.LabelEncoder()\n",
        "le.fit(y_val)\n",
        "y_val = le.transform(y_val)\n",
        "le.fit(y_train)\n",
        "y_train = le.transform(y_train)"
      ]
    },
    {
      "cell_type": "code",
      "execution_count": 16,
      "metadata": {
        "id": "ON_UZRZuVCkH"
      },
      "outputs": [],
      "source": [
        "y_train = to_categorical(y_train)\n",
        "y_val = to_categorical(y_val)"
      ]
    },
    {
      "cell_type": "code",
      "execution_count": null,
      "metadata": {
        "id": "DGbRhbMpSirS"
      },
      "outputs": [],
      "source": [
        "#y_val.shape"
      ]
    },
    {
      "cell_type": "code",
      "execution_count": null,
      "metadata": {
        "id": "6JMIhuIqVBVP"
      },
      "outputs": [],
      "source": [
        "#y_train.shape"
      ]
    },
    {
      "cell_type": "code",
      "execution_count": null,
      "metadata": {
        "id": "9imlFAuelBKW"
      },
      "outputs": [],
      "source": []
    },
    {
      "cell_type": "code",
      "execution_count": 20,
      "metadata": {
        "colab": {
          "base_uri": "https://localhost:8080/"
        },
        "id": "Hz5dqUIMWp9z",
        "outputId": "ce493f75-2b3d-4c52-9a27-c349dbfde780"
      },
      "outputs": [
        {
          "output_type": "stream",
          "name": "stdout",
          "text": [
            "Downloading data from https://storage.googleapis.com/tensorflow/keras-applications/regnet/regnetx002_notop.h5\n",
            "9797576/9797576 [==============================] - 1s 0us/step\n"
          ]
        }
      ],
      "source": [
        "pre_trained_model = RegNetX002(input_shape=(224, 224, 3), include_top=False, weights=\"imagenet\")"
      ]
    },
    {
      "cell_type": "code",
      "execution_count": null,
      "metadata": {
        "colab": {
          "base_uri": "https://localhost:8080/"
        },
        "id": "Ilm8wexeVaCL",
        "outputId": "e1539edf-80e9-4502-f56a-ab422f431d69"
      },
      "outputs": [
        {
          "name": "stdout",
          "output_type": "stream",
          "text": [
            "Downloading data from https://storage.googleapis.com/tensorflow/keras-applications/densenet/densenet201_weights_tf_dim_ordering_tf_kernels_notop.h5\n",
            "74836368/74836368 [==============================] - 4s 0us/step\n"
          ]
        }
      ],
      "source": [
        "#pre_trained_model = DenseNet201(input_shape=(224, 224, 3), include_top=False, weights=\"imagenet\")\n"
      ]
    },
    {
      "cell_type": "code",
      "execution_count": 21,
      "metadata": {
        "id": "XijHdVvtXlfE"
      },
      "outputs": [],
      "source": [
        "for layer in pre_trained_model.layers:\n",
        "    #print(layer.name)\n",
        "    if hasattr(layer, 'moving_mean') and hasattr(layer, 'moving_variance'):\n",
        "        layer.trainable = True\n",
        "        K.eval(K.update(layer.moving_mean, K.zeros_like(layer.moving_mean)))\n",
        "        K.eval(K.update(layer.moving_variance, K.zeros_like(layer.moving_variance)))\n",
        "    else:\n",
        "        layer.trainable = False\n",
        "\n",
        "#print(len(pre_trained_model.layers))"
      ]
    },
    {
      "cell_type": "code",
      "execution_count": 22,
      "metadata": {
        "colab": {
          "base_uri": "https://localhost:8080/"
        },
        "id": "5NUgKJz_W4my",
        "outputId": "99482806-1370-429f-faf9-f7fa4337a109"
      },
      "outputs": [
        {
          "output_type": "stream",
          "name": "stdout",
          "text": [
            "Model: \"regnetx002\"\n",
            "__________________________________________________________________________________________________\n",
            " Layer (type)                   Output Shape         Param #     Connected to                     \n",
            "==================================================================================================\n",
            " input_1 (InputLayer)           [(None, 224, 224, 3  0           []                               \n",
            "                                )]                                                                \n",
            "                                                                                                  \n",
            " regnetx002_prestem_rescaling (  (None, 224, 224, 3)  0          ['input_1[0][0]']                \n",
            " Rescaling)                                                                                       \n",
            "                                                                                                  \n",
            " regnetx002_stem_conv (Conv2D)  (None, 112, 112, 32  864         ['regnetx002_prestem_rescaling[0]\n",
            "                                )                                [0]']                            \n",
            "                                                                                                  \n",
            " regnetx002_stem_bn (BatchNorma  (None, 112, 112, 32  128        ['regnetx002_stem_conv[0][0]']   \n",
            " lization)                      )                                                                 \n",
            "                                                                                                  \n",
            " regnetx002_stem_relu (ReLU)    (None, 112, 112, 32  0           ['regnetx002_stem_bn[0][0]']     \n",
            "                                )                                                                 \n",
            "                                                                                                  \n",
            " regnetx002_Stage_0_XBlock_0_co  (None, 112, 112, 24  768        ['regnetx002_stem_relu[0][0]']   \n",
            " nv_1x1_1 (Conv2D)              )                                                                 \n",
            "                                                                                                  \n",
            " regnetx002_Stage_0_XBlock_0_co  (None, 112, 112, 24  96         ['regnetx002_Stage_0_XBlock_0_con\n",
            " nv_1x1_1_bn (BatchNormalizatio  )                               v_1x1_1[0][0]']                  \n",
            " n)                                                                                               \n",
            "                                                                                                  \n",
            " regnetx002_Stage_0_XBlock_0_co  (None, 112, 112, 24  0          ['regnetx002_Stage_0_XBlock_0_con\n",
            " nv_1x1_1_relu (ReLU)           )                                v_1x1_1_bn[0][0]']               \n",
            "                                                                                                  \n",
            " regnetx002_Stage_0_XBlock_0_co  (None, 56, 56, 24)  1728        ['regnetx002_Stage_0_XBlock_0_con\n",
            " nv_3x3 (Conv2D)                                                 v_1x1_1_relu[0][0]']             \n",
            "                                                                                                  \n",
            " regnetx002_Stage_0_XBlock_0_co  (None, 56, 56, 24)  96          ['regnetx002_Stage_0_XBlock_0_con\n",
            " nv_3x3_bn (BatchNormalization)                                  v_3x3[0][0]']                    \n",
            "                                                                                                  \n",
            " regnetx002_Stage_0_XBlock_0_co  (None, 56, 56, 24)  0           ['regnetx002_Stage_0_XBlock_0_con\n",
            " nv_3x3_relu (ReLU)                                              v_3x3_bn[0][0]']                 \n",
            "                                                                                                  \n",
            " regnetx002_Stage_0_XBlock_0_co  (None, 56, 56, 24)  576         ['regnetx002_Stage_0_XBlock_0_con\n",
            " nv_1x1_2 (Conv2D)                                               v_3x3_relu[0][0]']               \n",
            "                                                                                                  \n",
            " regnetx002_Stage_0_XBlock_0_sk  (None, 56, 56, 24)  768         ['regnetx002_stem_relu[0][0]']   \n",
            " ip_1x1 (Conv2D)                                                                                  \n",
            "                                                                                                  \n",
            " regnetx002_Stage_0_XBlock_0_co  (None, 56, 56, 24)  96          ['regnetx002_Stage_0_XBlock_0_con\n",
            " nv_1x1_2_bn (BatchNormalizatio                                  v_1x1_2[0][0]']                  \n",
            " n)                                                                                               \n",
            "                                                                                                  \n",
            " regnetx002_Stage_0_XBlock_0_sk  (None, 56, 56, 24)  96          ['regnetx002_Stage_0_XBlock_0_ski\n",
            " ip_bn (BatchNormalization)                                      p_1x1[0][0]']                    \n",
            "                                                                                                  \n",
            " tf.__operators__.add (TFOpLamb  (None, 56, 56, 24)  0           ['regnetx002_Stage_0_XBlock_0_con\n",
            " da)                                                             v_1x1_2_bn[0][0]',               \n",
            "                                                                  'regnetx002_Stage_0_XBlock_0_ski\n",
            "                                                                 p_bn[0][0]']                     \n",
            "                                                                                                  \n",
            " regnetx002_Stage_0_XBlock_0_ex  (None, 56, 56, 24)  0           ['tf.__operators__.add[0][0]']   \n",
            " it_relu (ReLU)                                                                                   \n",
            "                                                                                                  \n",
            " regnetx002_Stage_1_XBlock_0_co  (None, 56, 56, 56)  1344        ['regnetx002_Stage_0_XBlock_0_exi\n",
            " nv_1x1_1 (Conv2D)                                               t_relu[0][0]']                   \n",
            "                                                                                                  \n",
            " regnetx002_Stage_1_XBlock_0_co  (None, 56, 56, 56)  224         ['regnetx002_Stage_1_XBlock_0_con\n",
            " nv_1x1_1_bn (BatchNormalizatio                                  v_1x1_1[0][0]']                  \n",
            " n)                                                                                               \n",
            "                                                                                                  \n",
            " regnetx002_Stage_1_XBlock_0_co  (None, 56, 56, 56)  0           ['regnetx002_Stage_1_XBlock_0_con\n",
            " nv_1x1_1_relu (ReLU)                                            v_1x1_1_bn[0][0]']               \n",
            "                                                                                                  \n",
            " regnetx002_Stage_1_XBlock_0_co  (None, 28, 28, 56)  4032        ['regnetx002_Stage_1_XBlock_0_con\n",
            " nv_3x3 (Conv2D)                                                 v_1x1_1_relu[0][0]']             \n",
            "                                                                                                  \n",
            " regnetx002_Stage_1_XBlock_0_co  (None, 28, 28, 56)  224         ['regnetx002_Stage_1_XBlock_0_con\n",
            " nv_3x3_bn (BatchNormalization)                                  v_3x3[0][0]']                    \n",
            "                                                                                                  \n",
            " regnetx002_Stage_1_XBlock_0_co  (None, 28, 28, 56)  0           ['regnetx002_Stage_1_XBlock_0_con\n",
            " nv_3x3_relu (ReLU)                                              v_3x3_bn[0][0]']                 \n",
            "                                                                                                  \n",
            " regnetx002_Stage_1_XBlock_0_co  (None, 28, 28, 56)  3136        ['regnetx002_Stage_1_XBlock_0_con\n",
            " nv_1x1_2 (Conv2D)                                               v_3x3_relu[0][0]']               \n",
            "                                                                                                  \n",
            " regnetx002_Stage_1_XBlock_0_sk  (None, 28, 28, 56)  1344        ['regnetx002_Stage_0_XBlock_0_exi\n",
            " ip_1x1 (Conv2D)                                                 t_relu[0][0]']                   \n",
            "                                                                                                  \n",
            " regnetx002_Stage_1_XBlock_0_co  (None, 28, 28, 56)  224         ['regnetx002_Stage_1_XBlock_0_con\n",
            " nv_1x1_2_bn (BatchNormalizatio                                  v_1x1_2[0][0]']                  \n",
            " n)                                                                                               \n",
            "                                                                                                  \n",
            " regnetx002_Stage_1_XBlock_0_sk  (None, 28, 28, 56)  224         ['regnetx002_Stage_1_XBlock_0_ski\n",
            " ip_bn (BatchNormalization)                                      p_1x1[0][0]']                    \n",
            "                                                                                                  \n",
            " tf.__operators__.add_1 (TFOpLa  (None, 28, 28, 56)  0           ['regnetx002_Stage_1_XBlock_0_con\n",
            " mbda)                                                           v_1x1_2_bn[0][0]',               \n",
            "                                                                  'regnetx002_Stage_1_XBlock_0_ski\n",
            "                                                                 p_bn[0][0]']                     \n",
            "                                                                                                  \n",
            " regnetx002_Stage_1_XBlock_0_ex  (None, 28, 28, 56)  0           ['tf.__operators__.add_1[0][0]'] \n",
            " it_relu (ReLU)                                                                                   \n",
            "                                                                                                  \n",
            " regnetx002_Stage_2_XBlock_0_co  (None, 28, 28, 152)  8512       ['regnetx002_Stage_1_XBlock_0_exi\n",
            " nv_1x1_1 (Conv2D)                                               t_relu[0][0]']                   \n",
            "                                                                                                  \n",
            " regnetx002_Stage_2_XBlock_0_co  (None, 28, 28, 152)  608        ['regnetx002_Stage_2_XBlock_0_con\n",
            " nv_1x1_1_bn (BatchNormalizatio                                  v_1x1_1[0][0]']                  \n",
            " n)                                                                                               \n",
            "                                                                                                  \n",
            " regnetx002_Stage_2_XBlock_0_co  (None, 28, 28, 152)  0          ['regnetx002_Stage_2_XBlock_0_con\n",
            " nv_1x1_1_relu (ReLU)                                            v_1x1_1_bn[0][0]']               \n",
            "                                                                                                  \n",
            " regnetx002_Stage_2_XBlock_0_co  (None, 14, 14, 152)  10944      ['regnetx002_Stage_2_XBlock_0_con\n",
            " nv_3x3 (Conv2D)                                                 v_1x1_1_relu[0][0]']             \n",
            "                                                                                                  \n",
            " regnetx002_Stage_2_XBlock_0_co  (None, 14, 14, 152)  608        ['regnetx002_Stage_2_XBlock_0_con\n",
            " nv_3x3_bn (BatchNormalization)                                  v_3x3[0][0]']                    \n",
            "                                                                                                  \n",
            " regnetx002_Stage_2_XBlock_0_co  (None, 14, 14, 152)  0          ['regnetx002_Stage_2_XBlock_0_con\n",
            " nv_3x3_relu (ReLU)                                              v_3x3_bn[0][0]']                 \n",
            "                                                                                                  \n",
            " regnetx002_Stage_2_XBlock_0_co  (None, 14, 14, 152)  23104      ['regnetx002_Stage_2_XBlock_0_con\n",
            " nv_1x1_2 (Conv2D)                                               v_3x3_relu[0][0]']               \n",
            "                                                                                                  \n",
            " regnetx002_Stage_2_XBlock_0_sk  (None, 14, 14, 152)  8512       ['regnetx002_Stage_1_XBlock_0_exi\n",
            " ip_1x1 (Conv2D)                                                 t_relu[0][0]']                   \n",
            "                                                                                                  \n",
            " regnetx002_Stage_2_XBlock_0_co  (None, 14, 14, 152)  608        ['regnetx002_Stage_2_XBlock_0_con\n",
            " nv_1x1_2_bn (BatchNormalizatio                                  v_1x1_2[0][0]']                  \n",
            " n)                                                                                               \n",
            "                                                                                                  \n",
            " regnetx002_Stage_2_XBlock_0_sk  (None, 14, 14, 152)  608        ['regnetx002_Stage_2_XBlock_0_ski\n",
            " ip_bn (BatchNormalization)                                      p_1x1[0][0]']                    \n",
            "                                                                                                  \n",
            " tf.__operators__.add_2 (TFOpLa  (None, 14, 14, 152)  0          ['regnetx002_Stage_2_XBlock_0_con\n",
            " mbda)                                                           v_1x1_2_bn[0][0]',               \n",
            "                                                                  'regnetx002_Stage_2_XBlock_0_ski\n",
            "                                                                 p_bn[0][0]']                     \n",
            "                                                                                                  \n",
            " regnetx002_Stage_2_XBlock_0_ex  (None, 14, 14, 152)  0          ['tf.__operators__.add_2[0][0]'] \n",
            " it_relu (ReLU)                                                                                   \n",
            "                                                                                                  \n",
            " regnetx002_Stage_2_XBlock_1_co  (None, 14, 14, 152)  23104      ['regnetx002_Stage_2_XBlock_0_exi\n",
            " nv_1x1_1 (Conv2D)                                               t_relu[0][0]']                   \n",
            "                                                                                                  \n",
            " regnetx002_Stage_2_XBlock_1_co  (None, 14, 14, 152)  608        ['regnetx002_Stage_2_XBlock_1_con\n",
            " nv_1x1_1_bn (BatchNormalizatio                                  v_1x1_1[0][0]']                  \n",
            " n)                                                                                               \n",
            "                                                                                                  \n",
            " regnetx002_Stage_2_XBlock_1_co  (None, 14, 14, 152)  0          ['regnetx002_Stage_2_XBlock_1_con\n",
            " nv_1x1_1_relu (ReLU)                                            v_1x1_1_bn[0][0]']               \n",
            "                                                                                                  \n",
            " regnetx002_Stage_2_XBlock_1_co  (None, 14, 14, 152)  10944      ['regnetx002_Stage_2_XBlock_1_con\n",
            " nv_3x3 (Conv2D)                                                 v_1x1_1_relu[0][0]']             \n",
            "                                                                                                  \n",
            " regnetx002_Stage_2_XBlock_1_co  (None, 14, 14, 152)  608        ['regnetx002_Stage_2_XBlock_1_con\n",
            " nv_3x3_bn (BatchNormalization)                                  v_3x3[0][0]']                    \n",
            "                                                                                                  \n",
            " regnetx002_Stage_2_XBlock_1_co  (None, 14, 14, 152)  0          ['regnetx002_Stage_2_XBlock_1_con\n",
            " nv_3x3_relu (ReLU)                                              v_3x3_bn[0][0]']                 \n",
            "                                                                                                  \n",
            " regnetx002_Stage_2_XBlock_1_co  (None, 14, 14, 152)  23104      ['regnetx002_Stage_2_XBlock_1_con\n",
            " nv_1x1_2 (Conv2D)                                               v_3x3_relu[0][0]']               \n",
            "                                                                                                  \n",
            " regnetx002_Stage_2_XBlock_1_co  (None, 14, 14, 152)  608        ['regnetx002_Stage_2_XBlock_1_con\n",
            " nv_1x1_2_bn (BatchNormalizatio                                  v_1x1_2[0][0]']                  \n",
            " n)                                                                                               \n",
            "                                                                                                  \n",
            " tf.__operators__.add_3 (TFOpLa  (None, 14, 14, 152)  0          ['regnetx002_Stage_2_XBlock_1_con\n",
            " mbda)                                                           v_1x1_2_bn[0][0]',               \n",
            "                                                                  'regnetx002_Stage_2_XBlock_0_exi\n",
            "                                                                 t_relu[0][0]']                   \n",
            "                                                                                                  \n",
            " regnetx002_Stage_2_XBlock_1_ex  (None, 14, 14, 152)  0          ['tf.__operators__.add_3[0][0]'] \n",
            " it_relu (ReLU)                                                                                   \n",
            "                                                                                                  \n",
            " regnetx002_Stage_2_XBlock_2_co  (None, 14, 14, 152)  23104      ['regnetx002_Stage_2_XBlock_1_exi\n",
            " nv_1x1_1 (Conv2D)                                               t_relu[0][0]']                   \n",
            "                                                                                                  \n",
            " regnetx002_Stage_2_XBlock_2_co  (None, 14, 14, 152)  608        ['regnetx002_Stage_2_XBlock_2_con\n",
            " nv_1x1_1_bn (BatchNormalizatio                                  v_1x1_1[0][0]']                  \n",
            " n)                                                                                               \n",
            "                                                                                                  \n",
            " regnetx002_Stage_2_XBlock_2_co  (None, 14, 14, 152)  0          ['regnetx002_Stage_2_XBlock_2_con\n",
            " nv_1x1_1_relu (ReLU)                                            v_1x1_1_bn[0][0]']               \n",
            "                                                                                                  \n",
            " regnetx002_Stage_2_XBlock_2_co  (None, 14, 14, 152)  10944      ['regnetx002_Stage_2_XBlock_2_con\n",
            " nv_3x3 (Conv2D)                                                 v_1x1_1_relu[0][0]']             \n",
            "                                                                                                  \n",
            " regnetx002_Stage_2_XBlock_2_co  (None, 14, 14, 152)  608        ['regnetx002_Stage_2_XBlock_2_con\n",
            " nv_3x3_bn (BatchNormalization)                                  v_3x3[0][0]']                    \n",
            "                                                                                                  \n",
            " regnetx002_Stage_2_XBlock_2_co  (None, 14, 14, 152)  0          ['regnetx002_Stage_2_XBlock_2_con\n",
            " nv_3x3_relu (ReLU)                                              v_3x3_bn[0][0]']                 \n",
            "                                                                                                  \n",
            " regnetx002_Stage_2_XBlock_2_co  (None, 14, 14, 152)  23104      ['regnetx002_Stage_2_XBlock_2_con\n",
            " nv_1x1_2 (Conv2D)                                               v_3x3_relu[0][0]']               \n",
            "                                                                                                  \n",
            " regnetx002_Stage_2_XBlock_2_co  (None, 14, 14, 152)  608        ['regnetx002_Stage_2_XBlock_2_con\n",
            " nv_1x1_2_bn (BatchNormalizatio                                  v_1x1_2[0][0]']                  \n",
            " n)                                                                                               \n",
            "                                                                                                  \n",
            " tf.__operators__.add_4 (TFOpLa  (None, 14, 14, 152)  0          ['regnetx002_Stage_2_XBlock_2_con\n",
            " mbda)                                                           v_1x1_2_bn[0][0]',               \n",
            "                                                                  'regnetx002_Stage_2_XBlock_1_exi\n",
            "                                                                 t_relu[0][0]']                   \n",
            "                                                                                                  \n",
            " regnetx002_Stage_2_XBlock_2_ex  (None, 14, 14, 152)  0          ['tf.__operators__.add_4[0][0]'] \n",
            " it_relu (ReLU)                                                                                   \n",
            "                                                                                                  \n",
            " regnetx002_Stage_2_XBlock_3_co  (None, 14, 14, 152)  23104      ['regnetx002_Stage_2_XBlock_2_exi\n",
            " nv_1x1_1 (Conv2D)                                               t_relu[0][0]']                   \n",
            "                                                                                                  \n",
            " regnetx002_Stage_2_XBlock_3_co  (None, 14, 14, 152)  608        ['regnetx002_Stage_2_XBlock_3_con\n",
            " nv_1x1_1_bn (BatchNormalizatio                                  v_1x1_1[0][0]']                  \n",
            " n)                                                                                               \n",
            "                                                                                                  \n",
            " regnetx002_Stage_2_XBlock_3_co  (None, 14, 14, 152)  0          ['regnetx002_Stage_2_XBlock_3_con\n",
            " nv_1x1_1_relu (ReLU)                                            v_1x1_1_bn[0][0]']               \n",
            "                                                                                                  \n",
            " regnetx002_Stage_2_XBlock_3_co  (None, 14, 14, 152)  10944      ['regnetx002_Stage_2_XBlock_3_con\n",
            " nv_3x3 (Conv2D)                                                 v_1x1_1_relu[0][0]']             \n",
            "                                                                                                  \n",
            " regnetx002_Stage_2_XBlock_3_co  (None, 14, 14, 152)  608        ['regnetx002_Stage_2_XBlock_3_con\n",
            " nv_3x3_bn (BatchNormalization)                                  v_3x3[0][0]']                    \n",
            "                                                                                                  \n",
            " regnetx002_Stage_2_XBlock_3_co  (None, 14, 14, 152)  0          ['regnetx002_Stage_2_XBlock_3_con\n",
            " nv_3x3_relu (ReLU)                                              v_3x3_bn[0][0]']                 \n",
            "                                                                                                  \n",
            " regnetx002_Stage_2_XBlock_3_co  (None, 14, 14, 152)  23104      ['regnetx002_Stage_2_XBlock_3_con\n",
            " nv_1x1_2 (Conv2D)                                               v_3x3_relu[0][0]']               \n",
            "                                                                                                  \n",
            " regnetx002_Stage_2_XBlock_3_co  (None, 14, 14, 152)  608        ['regnetx002_Stage_2_XBlock_3_con\n",
            " nv_1x1_2_bn (BatchNormalizatio                                  v_1x1_2[0][0]']                  \n",
            " n)                                                                                               \n",
            "                                                                                                  \n",
            " tf.__operators__.add_5 (TFOpLa  (None, 14, 14, 152)  0          ['regnetx002_Stage_2_XBlock_3_con\n",
            " mbda)                                                           v_1x1_2_bn[0][0]',               \n",
            "                                                                  'regnetx002_Stage_2_XBlock_2_exi\n",
            "                                                                 t_relu[0][0]']                   \n",
            "                                                                                                  \n",
            " regnetx002_Stage_2_XBlock_3_ex  (None, 14, 14, 152)  0          ['tf.__operators__.add_5[0][0]'] \n",
            " it_relu (ReLU)                                                                                   \n",
            "                                                                                                  \n",
            " regnetx002_Stage_3_XBlock_0_co  (None, 14, 14, 368)  55936      ['regnetx002_Stage_2_XBlock_3_exi\n",
            " nv_1x1_1 (Conv2D)                                               t_relu[0][0]']                   \n",
            "                                                                                                  \n",
            " regnetx002_Stage_3_XBlock_0_co  (None, 14, 14, 368)  1472       ['regnetx002_Stage_3_XBlock_0_con\n",
            " nv_1x1_1_bn (BatchNormalizatio                                  v_1x1_1[0][0]']                  \n",
            " n)                                                                                               \n",
            "                                                                                                  \n",
            " regnetx002_Stage_3_XBlock_0_co  (None, 14, 14, 368)  0          ['regnetx002_Stage_3_XBlock_0_con\n",
            " nv_1x1_1_relu (ReLU)                                            v_1x1_1_bn[0][0]']               \n",
            "                                                                                                  \n",
            " regnetx002_Stage_3_XBlock_0_co  (None, 7, 7, 368)   26496       ['regnetx002_Stage_3_XBlock_0_con\n",
            " nv_3x3 (Conv2D)                                                 v_1x1_1_relu[0][0]']             \n",
            "                                                                                                  \n",
            " regnetx002_Stage_3_XBlock_0_co  (None, 7, 7, 368)   1472        ['regnetx002_Stage_3_XBlock_0_con\n",
            " nv_3x3_bn (BatchNormalization)                                  v_3x3[0][0]']                    \n",
            "                                                                                                  \n",
            " regnetx002_Stage_3_XBlock_0_co  (None, 7, 7, 368)   0           ['regnetx002_Stage_3_XBlock_0_con\n",
            " nv_3x3_relu (ReLU)                                              v_3x3_bn[0][0]']                 \n",
            "                                                                                                  \n",
            " regnetx002_Stage_3_XBlock_0_co  (None, 7, 7, 368)   135424      ['regnetx002_Stage_3_XBlock_0_con\n",
            " nv_1x1_2 (Conv2D)                                               v_3x3_relu[0][0]']               \n",
            "                                                                                                  \n",
            " regnetx002_Stage_3_XBlock_0_sk  (None, 7, 7, 368)   55936       ['regnetx002_Stage_2_XBlock_3_exi\n",
            " ip_1x1 (Conv2D)                                                 t_relu[0][0]']                   \n",
            "                                                                                                  \n",
            " regnetx002_Stage_3_XBlock_0_co  (None, 7, 7, 368)   1472        ['regnetx002_Stage_3_XBlock_0_con\n",
            " nv_1x1_2_bn (BatchNormalizatio                                  v_1x1_2[0][0]']                  \n",
            " n)                                                                                               \n",
            "                                                                                                  \n",
            " regnetx002_Stage_3_XBlock_0_sk  (None, 7, 7, 368)   1472        ['regnetx002_Stage_3_XBlock_0_ski\n",
            " ip_bn (BatchNormalization)                                      p_1x1[0][0]']                    \n",
            "                                                                                                  \n",
            " tf.__operators__.add_6 (TFOpLa  (None, 7, 7, 368)   0           ['regnetx002_Stage_3_XBlock_0_con\n",
            " mbda)                                                           v_1x1_2_bn[0][0]',               \n",
            "                                                                  'regnetx002_Stage_3_XBlock_0_ski\n",
            "                                                                 p_bn[0][0]']                     \n",
            "                                                                                                  \n",
            " regnetx002_Stage_3_XBlock_0_ex  (None, 7, 7, 368)   0           ['tf.__operators__.add_6[0][0]'] \n",
            " it_relu (ReLU)                                                                                   \n",
            "                                                                                                  \n",
            " regnetx002_Stage_3_XBlock_1_co  (None, 7, 7, 368)   135424      ['regnetx002_Stage_3_XBlock_0_exi\n",
            " nv_1x1_1 (Conv2D)                                               t_relu[0][0]']                   \n",
            "                                                                                                  \n",
            " regnetx002_Stage_3_XBlock_1_co  (None, 7, 7, 368)   1472        ['regnetx002_Stage_3_XBlock_1_con\n",
            " nv_1x1_1_bn (BatchNormalizatio                                  v_1x1_1[0][0]']                  \n",
            " n)                                                                                               \n",
            "                                                                                                  \n",
            " regnetx002_Stage_3_XBlock_1_co  (None, 7, 7, 368)   0           ['regnetx002_Stage_3_XBlock_1_con\n",
            " nv_1x1_1_relu (ReLU)                                            v_1x1_1_bn[0][0]']               \n",
            "                                                                                                  \n",
            " regnetx002_Stage_3_XBlock_1_co  (None, 7, 7, 368)   26496       ['regnetx002_Stage_3_XBlock_1_con\n",
            " nv_3x3 (Conv2D)                                                 v_1x1_1_relu[0][0]']             \n",
            "                                                                                                  \n",
            " regnetx002_Stage_3_XBlock_1_co  (None, 7, 7, 368)   1472        ['regnetx002_Stage_3_XBlock_1_con\n",
            " nv_3x3_bn (BatchNormalization)                                  v_3x3[0][0]']                    \n",
            "                                                                                                  \n",
            " regnetx002_Stage_3_XBlock_1_co  (None, 7, 7, 368)   0           ['regnetx002_Stage_3_XBlock_1_con\n",
            " nv_3x3_relu (ReLU)                                              v_3x3_bn[0][0]']                 \n",
            "                                                                                                  \n",
            " regnetx002_Stage_3_XBlock_1_co  (None, 7, 7, 368)   135424      ['regnetx002_Stage_3_XBlock_1_con\n",
            " nv_1x1_2 (Conv2D)                                               v_3x3_relu[0][0]']               \n",
            "                                                                                                  \n",
            " regnetx002_Stage_3_XBlock_1_co  (None, 7, 7, 368)   1472        ['regnetx002_Stage_3_XBlock_1_con\n",
            " nv_1x1_2_bn (BatchNormalizatio                                  v_1x1_2[0][0]']                  \n",
            " n)                                                                                               \n",
            "                                                                                                  \n",
            " tf.__operators__.add_7 (TFOpLa  (None, 7, 7, 368)   0           ['regnetx002_Stage_3_XBlock_1_con\n",
            " mbda)                                                           v_1x1_2_bn[0][0]',               \n",
            "                                                                  'regnetx002_Stage_3_XBlock_0_exi\n",
            "                                                                 t_relu[0][0]']                   \n",
            "                                                                                                  \n",
            " regnetx002_Stage_3_XBlock_1_ex  (None, 7, 7, 368)   0           ['tf.__operators__.add_7[0][0]'] \n",
            " it_relu (ReLU)                                                                                   \n",
            "                                                                                                  \n",
            " regnetx002_Stage_3_XBlock_2_co  (None, 7, 7, 368)   135424      ['regnetx002_Stage_3_XBlock_1_exi\n",
            " nv_1x1_1 (Conv2D)                                               t_relu[0][0]']                   \n",
            "                                                                                                  \n",
            " regnetx002_Stage_3_XBlock_2_co  (None, 7, 7, 368)   1472        ['regnetx002_Stage_3_XBlock_2_con\n",
            " nv_1x1_1_bn (BatchNormalizatio                                  v_1x1_1[0][0]']                  \n",
            " n)                                                                                               \n",
            "                                                                                                  \n",
            " regnetx002_Stage_3_XBlock_2_co  (None, 7, 7, 368)   0           ['regnetx002_Stage_3_XBlock_2_con\n",
            " nv_1x1_1_relu (ReLU)                                            v_1x1_1_bn[0][0]']               \n",
            "                                                                                                  \n",
            " regnetx002_Stage_3_XBlock_2_co  (None, 7, 7, 368)   26496       ['regnetx002_Stage_3_XBlock_2_con\n",
            " nv_3x3 (Conv2D)                                                 v_1x1_1_relu[0][0]']             \n",
            "                                                                                                  \n",
            " regnetx002_Stage_3_XBlock_2_co  (None, 7, 7, 368)   1472        ['regnetx002_Stage_3_XBlock_2_con\n",
            " nv_3x3_bn (BatchNormalization)                                  v_3x3[0][0]']                    \n",
            "                                                                                                  \n",
            " regnetx002_Stage_3_XBlock_2_co  (None, 7, 7, 368)   0           ['regnetx002_Stage_3_XBlock_2_con\n",
            " nv_3x3_relu (ReLU)                                              v_3x3_bn[0][0]']                 \n",
            "                                                                                                  \n",
            " regnetx002_Stage_3_XBlock_2_co  (None, 7, 7, 368)   135424      ['regnetx002_Stage_3_XBlock_2_con\n",
            " nv_1x1_2 (Conv2D)                                               v_3x3_relu[0][0]']               \n",
            "                                                                                                  \n",
            " regnetx002_Stage_3_XBlock_2_co  (None, 7, 7, 368)   1472        ['regnetx002_Stage_3_XBlock_2_con\n",
            " nv_1x1_2_bn (BatchNormalizatio                                  v_1x1_2[0][0]']                  \n",
            " n)                                                                                               \n",
            "                                                                                                  \n",
            " tf.__operators__.add_8 (TFOpLa  (None, 7, 7, 368)   0           ['regnetx002_Stage_3_XBlock_2_con\n",
            " mbda)                                                           v_1x1_2_bn[0][0]',               \n",
            "                                                                  'regnetx002_Stage_3_XBlock_1_exi\n",
            "                                                                 t_relu[0][0]']                   \n",
            "                                                                                                  \n",
            " regnetx002_Stage_3_XBlock_2_ex  (None, 7, 7, 368)   0           ['tf.__operators__.add_8[0][0]'] \n",
            " it_relu (ReLU)                                                                                   \n",
            "                                                                                                  \n",
            " regnetx002_Stage_3_XBlock_3_co  (None, 7, 7, 368)   135424      ['regnetx002_Stage_3_XBlock_2_exi\n",
            " nv_1x1_1 (Conv2D)                                               t_relu[0][0]']                   \n",
            "                                                                                                  \n",
            " regnetx002_Stage_3_XBlock_3_co  (None, 7, 7, 368)   1472        ['regnetx002_Stage_3_XBlock_3_con\n",
            " nv_1x1_1_bn (BatchNormalizatio                                  v_1x1_1[0][0]']                  \n",
            " n)                                                                                               \n",
            "                                                                                                  \n",
            " regnetx002_Stage_3_XBlock_3_co  (None, 7, 7, 368)   0           ['regnetx002_Stage_3_XBlock_3_con\n",
            " nv_1x1_1_relu (ReLU)                                            v_1x1_1_bn[0][0]']               \n",
            "                                                                                                  \n",
            " regnetx002_Stage_3_XBlock_3_co  (None, 7, 7, 368)   26496       ['regnetx002_Stage_3_XBlock_3_con\n",
            " nv_3x3 (Conv2D)                                                 v_1x1_1_relu[0][0]']             \n",
            "                                                                                                  \n",
            " regnetx002_Stage_3_XBlock_3_co  (None, 7, 7, 368)   1472        ['regnetx002_Stage_3_XBlock_3_con\n",
            " nv_3x3_bn (BatchNormalization)                                  v_3x3[0][0]']                    \n",
            "                                                                                                  \n",
            " regnetx002_Stage_3_XBlock_3_co  (None, 7, 7, 368)   0           ['regnetx002_Stage_3_XBlock_3_con\n",
            " nv_3x3_relu (ReLU)                                              v_3x3_bn[0][0]']                 \n",
            "                                                                                                  \n",
            " regnetx002_Stage_3_XBlock_3_co  (None, 7, 7, 368)   135424      ['regnetx002_Stage_3_XBlock_3_con\n",
            " nv_1x1_2 (Conv2D)                                               v_3x3_relu[0][0]']               \n",
            "                                                                                                  \n",
            " regnetx002_Stage_3_XBlock_3_co  (None, 7, 7, 368)   1472        ['regnetx002_Stage_3_XBlock_3_con\n",
            " nv_1x1_2_bn (BatchNormalizatio                                  v_1x1_2[0][0]']                  \n",
            " n)                                                                                               \n",
            "                                                                                                  \n",
            " tf.__operators__.add_9 (TFOpLa  (None, 7, 7, 368)   0           ['regnetx002_Stage_3_XBlock_3_con\n",
            " mbda)                                                           v_1x1_2_bn[0][0]',               \n",
            "                                                                  'regnetx002_Stage_3_XBlock_2_exi\n",
            "                                                                 t_relu[0][0]']                   \n",
            "                                                                                                  \n",
            " regnetx002_Stage_3_XBlock_3_ex  (None, 7, 7, 368)   0           ['tf.__operators__.add_9[0][0]'] \n",
            " it_relu (ReLU)                                                                                   \n",
            "                                                                                                  \n",
            " regnetx002_Stage_3_XBlock_4_co  (None, 7, 7, 368)   135424      ['regnetx002_Stage_3_XBlock_3_exi\n",
            " nv_1x1_1 (Conv2D)                                               t_relu[0][0]']                   \n",
            "                                                                                                  \n",
            " regnetx002_Stage_3_XBlock_4_co  (None, 7, 7, 368)   1472        ['regnetx002_Stage_3_XBlock_4_con\n",
            " nv_1x1_1_bn (BatchNormalizatio                                  v_1x1_1[0][0]']                  \n",
            " n)                                                                                               \n",
            "                                                                                                  \n",
            " regnetx002_Stage_3_XBlock_4_co  (None, 7, 7, 368)   0           ['regnetx002_Stage_3_XBlock_4_con\n",
            " nv_1x1_1_relu (ReLU)                                            v_1x1_1_bn[0][0]']               \n",
            "                                                                                                  \n",
            " regnetx002_Stage_3_XBlock_4_co  (None, 7, 7, 368)   26496       ['regnetx002_Stage_3_XBlock_4_con\n",
            " nv_3x3 (Conv2D)                                                 v_1x1_1_relu[0][0]']             \n",
            "                                                                                                  \n",
            " regnetx002_Stage_3_XBlock_4_co  (None, 7, 7, 368)   1472        ['regnetx002_Stage_3_XBlock_4_con\n",
            " nv_3x3_bn (BatchNormalization)                                  v_3x3[0][0]']                    \n",
            "                                                                                                  \n",
            " regnetx002_Stage_3_XBlock_4_co  (None, 7, 7, 368)   0           ['regnetx002_Stage_3_XBlock_4_con\n",
            " nv_3x3_relu (ReLU)                                              v_3x3_bn[0][0]']                 \n",
            "                                                                                                  \n",
            " regnetx002_Stage_3_XBlock_4_co  (None, 7, 7, 368)   135424      ['regnetx002_Stage_3_XBlock_4_con\n",
            " nv_1x1_2 (Conv2D)                                               v_3x3_relu[0][0]']               \n",
            "                                                                                                  \n",
            " regnetx002_Stage_3_XBlock_4_co  (None, 7, 7, 368)   1472        ['regnetx002_Stage_3_XBlock_4_con\n",
            " nv_1x1_2_bn (BatchNormalizatio                                  v_1x1_2[0][0]']                  \n",
            " n)                                                                                               \n",
            "                                                                                                  \n",
            " tf.__operators__.add_10 (TFOpL  (None, 7, 7, 368)   0           ['regnetx002_Stage_3_XBlock_4_con\n",
            " ambda)                                                          v_1x1_2_bn[0][0]',               \n",
            "                                                                  'regnetx002_Stage_3_XBlock_3_exi\n",
            "                                                                 t_relu[0][0]']                   \n",
            "                                                                                                  \n",
            " regnetx002_Stage_3_XBlock_4_ex  (None, 7, 7, 368)   0           ['tf.__operators__.add_10[0][0]']\n",
            " it_relu (ReLU)                                                                                   \n",
            "                                                                                                  \n",
            " regnetx002_Stage_3_XBlock_5_co  (None, 7, 7, 368)   135424      ['regnetx002_Stage_3_XBlock_4_exi\n",
            " nv_1x1_1 (Conv2D)                                               t_relu[0][0]']                   \n",
            "                                                                                                  \n",
            " regnetx002_Stage_3_XBlock_5_co  (None, 7, 7, 368)   1472        ['regnetx002_Stage_3_XBlock_5_con\n",
            " nv_1x1_1_bn (BatchNormalizatio                                  v_1x1_1[0][0]']                  \n",
            " n)                                                                                               \n",
            "                                                                                                  \n",
            " regnetx002_Stage_3_XBlock_5_co  (None, 7, 7, 368)   0           ['regnetx002_Stage_3_XBlock_5_con\n",
            " nv_1x1_1_relu (ReLU)                                            v_1x1_1_bn[0][0]']               \n",
            "                                                                                                  \n",
            " regnetx002_Stage_3_XBlock_5_co  (None, 7, 7, 368)   26496       ['regnetx002_Stage_3_XBlock_5_con\n",
            " nv_3x3 (Conv2D)                                                 v_1x1_1_relu[0][0]']             \n",
            "                                                                                                  \n",
            " regnetx002_Stage_3_XBlock_5_co  (None, 7, 7, 368)   1472        ['regnetx002_Stage_3_XBlock_5_con\n",
            " nv_3x3_bn (BatchNormalization)                                  v_3x3[0][0]']                    \n",
            "                                                                                                  \n",
            " regnetx002_Stage_3_XBlock_5_co  (None, 7, 7, 368)   0           ['regnetx002_Stage_3_XBlock_5_con\n",
            " nv_3x3_relu (ReLU)                                              v_3x3_bn[0][0]']                 \n",
            "                                                                                                  \n",
            " regnetx002_Stage_3_XBlock_5_co  (None, 7, 7, 368)   135424      ['regnetx002_Stage_3_XBlock_5_con\n",
            " nv_1x1_2 (Conv2D)                                               v_3x3_relu[0][0]']               \n",
            "                                                                                                  \n",
            " regnetx002_Stage_3_XBlock_5_co  (None, 7, 7, 368)   1472        ['regnetx002_Stage_3_XBlock_5_con\n",
            " nv_1x1_2_bn (BatchNormalizatio                                  v_1x1_2[0][0]']                  \n",
            " n)                                                                                               \n",
            "                                                                                                  \n",
            " tf.__operators__.add_11 (TFOpL  (None, 7, 7, 368)   0           ['regnetx002_Stage_3_XBlock_5_con\n",
            " ambda)                                                          v_1x1_2_bn[0][0]',               \n",
            "                                                                  'regnetx002_Stage_3_XBlock_4_exi\n",
            "                                                                 t_relu[0][0]']                   \n",
            "                                                                                                  \n",
            " regnetx002_Stage_3_XBlock_5_ex  (None, 7, 7, 368)   0           ['tf.__operators__.add_11[0][0]']\n",
            " it_relu (ReLU)                                                                                   \n",
            "                                                                                                  \n",
            " regnetx002_Stage_3_XBlock_6_co  (None, 7, 7, 368)   135424      ['regnetx002_Stage_3_XBlock_5_exi\n",
            " nv_1x1_1 (Conv2D)                                               t_relu[0][0]']                   \n",
            "                                                                                                  \n",
            " regnetx002_Stage_3_XBlock_6_co  (None, 7, 7, 368)   1472        ['regnetx002_Stage_3_XBlock_6_con\n",
            " nv_1x1_1_bn (BatchNormalizatio                                  v_1x1_1[0][0]']                  \n",
            " n)                                                                                               \n",
            "                                                                                                  \n",
            " regnetx002_Stage_3_XBlock_6_co  (None, 7, 7, 368)   0           ['regnetx002_Stage_3_XBlock_6_con\n",
            " nv_1x1_1_relu (ReLU)                                            v_1x1_1_bn[0][0]']               \n",
            "                                                                                                  \n",
            " regnetx002_Stage_3_XBlock_6_co  (None, 7, 7, 368)   26496       ['regnetx002_Stage_3_XBlock_6_con\n",
            " nv_3x3 (Conv2D)                                                 v_1x1_1_relu[0][0]']             \n",
            "                                                                                                  \n",
            " regnetx002_Stage_3_XBlock_6_co  (None, 7, 7, 368)   1472        ['regnetx002_Stage_3_XBlock_6_con\n",
            " nv_3x3_bn (BatchNormalization)                                  v_3x3[0][0]']                    \n",
            "                                                                                                  \n",
            " regnetx002_Stage_3_XBlock_6_co  (None, 7, 7, 368)   0           ['regnetx002_Stage_3_XBlock_6_con\n",
            " nv_3x3_relu (ReLU)                                              v_3x3_bn[0][0]']                 \n",
            "                                                                                                  \n",
            " regnetx002_Stage_3_XBlock_6_co  (None, 7, 7, 368)   135424      ['regnetx002_Stage_3_XBlock_6_con\n",
            " nv_1x1_2 (Conv2D)                                               v_3x3_relu[0][0]']               \n",
            "                                                                                                  \n",
            " regnetx002_Stage_3_XBlock_6_co  (None, 7, 7, 368)   1472        ['regnetx002_Stage_3_XBlock_6_con\n",
            " nv_1x1_2_bn (BatchNormalizatio                                  v_1x1_2[0][0]']                  \n",
            " n)                                                                                               \n",
            "                                                                                                  \n",
            " tf.__operators__.add_12 (TFOpL  (None, 7, 7, 368)   0           ['regnetx002_Stage_3_XBlock_6_con\n",
            " ambda)                                                          v_1x1_2_bn[0][0]',               \n",
            "                                                                  'regnetx002_Stage_3_XBlock_5_exi\n",
            "                                                                 t_relu[0][0]']                   \n",
            "                                                                                                  \n",
            " regnetx002_Stage_3_XBlock_6_ex  (None, 7, 7, 368)   0           ['tf.__operators__.add_12[0][0]']\n",
            " it_relu (ReLU)                                                                                   \n",
            "                                                                                                  \n",
            "==================================================================================================\n",
            "Total params: 2,336,640\n",
            "Trainable params: 20,848\n",
            "Non-trainable params: 2,315,792\n",
            "__________________________________________________________________________________________________\n"
          ]
        }
      ],
      "source": [
        "pre_trained_model.summary()"
      ]
    },
    {
      "cell_type": "code",
      "execution_count": 23,
      "metadata": {
        "colab": {
          "base_uri": "https://localhost:8080/"
        },
        "id": "a5ioKDI1Xqhb",
        "outputId": "eeec16f1-73ce-46d2-c0fa-2df1983be313"
      },
      "outputs": [
        {
          "output_type": "stream",
          "name": "stdout",
          "text": [
            "last layer output shape: (None, 7, 7, 368)\n"
          ]
        }
      ],
      "source": [
        "last_layer = pre_trained_model.get_layer('regnetx002_Stage_3_XBlock_6_exit_relu')\n",
        "print('last layer output shape:', last_layer.output_shape)\n",
        "last_output = last_layer.output"
      ]
    },
    {
      "cell_type": "code",
      "execution_count": 24,
      "metadata": {
        "id": "CoPYAJ24X9MX"
      },
      "outputs": [],
      "source": [
        "# Flatten the output layer to 1 dimension\n",
        "x = layers.GlobalMaxPooling2D()(last_output)\n",
        "# Add a fully connected layer with 512 hidden units and ReLU activation\n",
        "x = layers.Dense(512, activation='relu')(x)\n",
        "# Add a dropout rate of 0.5\n",
        "x = layers.Dropout(0.5)(x)\n",
        "# Add a final sigmoid layer for classification\n",
        "x = layers.Dense(3, activation='softmax')(x)\n",
        "\n",
        "# Configure and compile the model\n",
        "\n",
        "model = Model(pre_trained_model.input, x)\n"
      ]
    },
    {
      "cell_type": "code",
      "execution_count": 25,
      "metadata": {
        "colab": {
          "base_uri": "https://localhost:8080/"
        },
        "id": "by3PSM4UYzYE",
        "outputId": "9722794b-bef4-4e17-de9c-03f805a00a5c"
      },
      "outputs": [
        {
          "output_type": "stream",
          "name": "stdout",
          "text": [
            "Model: \"model\"\n",
            "__________________________________________________________________________________________________\n",
            " Layer (type)                   Output Shape         Param #     Connected to                     \n",
            "==================================================================================================\n",
            " input_1 (InputLayer)           [(None, 224, 224, 3  0           []                               \n",
            "                                )]                                                                \n",
            "                                                                                                  \n",
            " regnetx002_prestem_rescaling (  (None, 224, 224, 3)  0          ['input_1[0][0]']                \n",
            " Rescaling)                                                                                       \n",
            "                                                                                                  \n",
            " regnetx002_stem_conv (Conv2D)  (None, 112, 112, 32  864         ['regnetx002_prestem_rescaling[0]\n",
            "                                )                                [0]']                            \n",
            "                                                                                                  \n",
            " regnetx002_stem_bn (BatchNorma  (None, 112, 112, 32  128        ['regnetx002_stem_conv[0][0]']   \n",
            " lization)                      )                                                                 \n",
            "                                                                                                  \n",
            " regnetx002_stem_relu (ReLU)    (None, 112, 112, 32  0           ['regnetx002_stem_bn[0][0]']     \n",
            "                                )                                                                 \n",
            "                                                                                                  \n",
            " regnetx002_Stage_0_XBlock_0_co  (None, 112, 112, 24  768        ['regnetx002_stem_relu[0][0]']   \n",
            " nv_1x1_1 (Conv2D)              )                                                                 \n",
            "                                                                                                  \n",
            " regnetx002_Stage_0_XBlock_0_co  (None, 112, 112, 24  96         ['regnetx002_Stage_0_XBlock_0_con\n",
            " nv_1x1_1_bn (BatchNormalizatio  )                               v_1x1_1[0][0]']                  \n",
            " n)                                                                                               \n",
            "                                                                                                  \n",
            " regnetx002_Stage_0_XBlock_0_co  (None, 112, 112, 24  0          ['regnetx002_Stage_0_XBlock_0_con\n",
            " nv_1x1_1_relu (ReLU)           )                                v_1x1_1_bn[0][0]']               \n",
            "                                                                                                  \n",
            " regnetx002_Stage_0_XBlock_0_co  (None, 56, 56, 24)  1728        ['regnetx002_Stage_0_XBlock_0_con\n",
            " nv_3x3 (Conv2D)                                                 v_1x1_1_relu[0][0]']             \n",
            "                                                                                                  \n",
            " regnetx002_Stage_0_XBlock_0_co  (None, 56, 56, 24)  96          ['regnetx002_Stage_0_XBlock_0_con\n",
            " nv_3x3_bn (BatchNormalization)                                  v_3x3[0][0]']                    \n",
            "                                                                                                  \n",
            " regnetx002_Stage_0_XBlock_0_co  (None, 56, 56, 24)  0           ['regnetx002_Stage_0_XBlock_0_con\n",
            " nv_3x3_relu (ReLU)                                              v_3x3_bn[0][0]']                 \n",
            "                                                                                                  \n",
            " regnetx002_Stage_0_XBlock_0_co  (None, 56, 56, 24)  576         ['regnetx002_Stage_0_XBlock_0_con\n",
            " nv_1x1_2 (Conv2D)                                               v_3x3_relu[0][0]']               \n",
            "                                                                                                  \n",
            " regnetx002_Stage_0_XBlock_0_sk  (None, 56, 56, 24)  768         ['regnetx002_stem_relu[0][0]']   \n",
            " ip_1x1 (Conv2D)                                                                                  \n",
            "                                                                                                  \n",
            " regnetx002_Stage_0_XBlock_0_co  (None, 56, 56, 24)  96          ['regnetx002_Stage_0_XBlock_0_con\n",
            " nv_1x1_2_bn (BatchNormalizatio                                  v_1x1_2[0][0]']                  \n",
            " n)                                                                                               \n",
            "                                                                                                  \n",
            " regnetx002_Stage_0_XBlock_0_sk  (None, 56, 56, 24)  96          ['regnetx002_Stage_0_XBlock_0_ski\n",
            " ip_bn (BatchNormalization)                                      p_1x1[0][0]']                    \n",
            "                                                                                                  \n",
            " tf.__operators__.add (TFOpLamb  (None, 56, 56, 24)  0           ['regnetx002_Stage_0_XBlock_0_con\n",
            " da)                                                             v_1x1_2_bn[0][0]',               \n",
            "                                                                  'regnetx002_Stage_0_XBlock_0_ski\n",
            "                                                                 p_bn[0][0]']                     \n",
            "                                                                                                  \n",
            " regnetx002_Stage_0_XBlock_0_ex  (None, 56, 56, 24)  0           ['tf.__operators__.add[0][0]']   \n",
            " it_relu (ReLU)                                                                                   \n",
            "                                                                                                  \n",
            " regnetx002_Stage_1_XBlock_0_co  (None, 56, 56, 56)  1344        ['regnetx002_Stage_0_XBlock_0_exi\n",
            " nv_1x1_1 (Conv2D)                                               t_relu[0][0]']                   \n",
            "                                                                                                  \n",
            " regnetx002_Stage_1_XBlock_0_co  (None, 56, 56, 56)  224         ['regnetx002_Stage_1_XBlock_0_con\n",
            " nv_1x1_1_bn (BatchNormalizatio                                  v_1x1_1[0][0]']                  \n",
            " n)                                                                                               \n",
            "                                                                                                  \n",
            " regnetx002_Stage_1_XBlock_0_co  (None, 56, 56, 56)  0           ['regnetx002_Stage_1_XBlock_0_con\n",
            " nv_1x1_1_relu (ReLU)                                            v_1x1_1_bn[0][0]']               \n",
            "                                                                                                  \n",
            " regnetx002_Stage_1_XBlock_0_co  (None, 28, 28, 56)  4032        ['regnetx002_Stage_1_XBlock_0_con\n",
            " nv_3x3 (Conv2D)                                                 v_1x1_1_relu[0][0]']             \n",
            "                                                                                                  \n",
            " regnetx002_Stage_1_XBlock_0_co  (None, 28, 28, 56)  224         ['regnetx002_Stage_1_XBlock_0_con\n",
            " nv_3x3_bn (BatchNormalization)                                  v_3x3[0][0]']                    \n",
            "                                                                                                  \n",
            " regnetx002_Stage_1_XBlock_0_co  (None, 28, 28, 56)  0           ['regnetx002_Stage_1_XBlock_0_con\n",
            " nv_3x3_relu (ReLU)                                              v_3x3_bn[0][0]']                 \n",
            "                                                                                                  \n",
            " regnetx002_Stage_1_XBlock_0_co  (None, 28, 28, 56)  3136        ['regnetx002_Stage_1_XBlock_0_con\n",
            " nv_1x1_2 (Conv2D)                                               v_3x3_relu[0][0]']               \n",
            "                                                                                                  \n",
            " regnetx002_Stage_1_XBlock_0_sk  (None, 28, 28, 56)  1344        ['regnetx002_Stage_0_XBlock_0_exi\n",
            " ip_1x1 (Conv2D)                                                 t_relu[0][0]']                   \n",
            "                                                                                                  \n",
            " regnetx002_Stage_1_XBlock_0_co  (None, 28, 28, 56)  224         ['regnetx002_Stage_1_XBlock_0_con\n",
            " nv_1x1_2_bn (BatchNormalizatio                                  v_1x1_2[0][0]']                  \n",
            " n)                                                                                               \n",
            "                                                                                                  \n",
            " regnetx002_Stage_1_XBlock_0_sk  (None, 28, 28, 56)  224         ['regnetx002_Stage_1_XBlock_0_ski\n",
            " ip_bn (BatchNormalization)                                      p_1x1[0][0]']                    \n",
            "                                                                                                  \n",
            " tf.__operators__.add_1 (TFOpLa  (None, 28, 28, 56)  0           ['regnetx002_Stage_1_XBlock_0_con\n",
            " mbda)                                                           v_1x1_2_bn[0][0]',               \n",
            "                                                                  'regnetx002_Stage_1_XBlock_0_ski\n",
            "                                                                 p_bn[0][0]']                     \n",
            "                                                                                                  \n",
            " regnetx002_Stage_1_XBlock_0_ex  (None, 28, 28, 56)  0           ['tf.__operators__.add_1[0][0]'] \n",
            " it_relu (ReLU)                                                                                   \n",
            "                                                                                                  \n",
            " regnetx002_Stage_2_XBlock_0_co  (None, 28, 28, 152)  8512       ['regnetx002_Stage_1_XBlock_0_exi\n",
            " nv_1x1_1 (Conv2D)                                               t_relu[0][0]']                   \n",
            "                                                                                                  \n",
            " regnetx002_Stage_2_XBlock_0_co  (None, 28, 28, 152)  608        ['regnetx002_Stage_2_XBlock_0_con\n",
            " nv_1x1_1_bn (BatchNormalizatio                                  v_1x1_1[0][0]']                  \n",
            " n)                                                                                               \n",
            "                                                                                                  \n",
            " regnetx002_Stage_2_XBlock_0_co  (None, 28, 28, 152)  0          ['regnetx002_Stage_2_XBlock_0_con\n",
            " nv_1x1_1_relu (ReLU)                                            v_1x1_1_bn[0][0]']               \n",
            "                                                                                                  \n",
            " regnetx002_Stage_2_XBlock_0_co  (None, 14, 14, 152)  10944      ['regnetx002_Stage_2_XBlock_0_con\n",
            " nv_3x3 (Conv2D)                                                 v_1x1_1_relu[0][0]']             \n",
            "                                                                                                  \n",
            " regnetx002_Stage_2_XBlock_0_co  (None, 14, 14, 152)  608        ['regnetx002_Stage_2_XBlock_0_con\n",
            " nv_3x3_bn (BatchNormalization)                                  v_3x3[0][0]']                    \n",
            "                                                                                                  \n",
            " regnetx002_Stage_2_XBlock_0_co  (None, 14, 14, 152)  0          ['regnetx002_Stage_2_XBlock_0_con\n",
            " nv_3x3_relu (ReLU)                                              v_3x3_bn[0][0]']                 \n",
            "                                                                                                  \n",
            " regnetx002_Stage_2_XBlock_0_co  (None, 14, 14, 152)  23104      ['regnetx002_Stage_2_XBlock_0_con\n",
            " nv_1x1_2 (Conv2D)                                               v_3x3_relu[0][0]']               \n",
            "                                                                                                  \n",
            " regnetx002_Stage_2_XBlock_0_sk  (None, 14, 14, 152)  8512       ['regnetx002_Stage_1_XBlock_0_exi\n",
            " ip_1x1 (Conv2D)                                                 t_relu[0][0]']                   \n",
            "                                                                                                  \n",
            " regnetx002_Stage_2_XBlock_0_co  (None, 14, 14, 152)  608        ['regnetx002_Stage_2_XBlock_0_con\n",
            " nv_1x1_2_bn (BatchNormalizatio                                  v_1x1_2[0][0]']                  \n",
            " n)                                                                                               \n",
            "                                                                                                  \n",
            " regnetx002_Stage_2_XBlock_0_sk  (None, 14, 14, 152)  608        ['regnetx002_Stage_2_XBlock_0_ski\n",
            " ip_bn (BatchNormalization)                                      p_1x1[0][0]']                    \n",
            "                                                                                                  \n",
            " tf.__operators__.add_2 (TFOpLa  (None, 14, 14, 152)  0          ['regnetx002_Stage_2_XBlock_0_con\n",
            " mbda)                                                           v_1x1_2_bn[0][0]',               \n",
            "                                                                  'regnetx002_Stage_2_XBlock_0_ski\n",
            "                                                                 p_bn[0][0]']                     \n",
            "                                                                                                  \n",
            " regnetx002_Stage_2_XBlock_0_ex  (None, 14, 14, 152)  0          ['tf.__operators__.add_2[0][0]'] \n",
            " it_relu (ReLU)                                                                                   \n",
            "                                                                                                  \n",
            " regnetx002_Stage_2_XBlock_1_co  (None, 14, 14, 152)  23104      ['regnetx002_Stage_2_XBlock_0_exi\n",
            " nv_1x1_1 (Conv2D)                                               t_relu[0][0]']                   \n",
            "                                                                                                  \n",
            " regnetx002_Stage_2_XBlock_1_co  (None, 14, 14, 152)  608        ['regnetx002_Stage_2_XBlock_1_con\n",
            " nv_1x1_1_bn (BatchNormalizatio                                  v_1x1_1[0][0]']                  \n",
            " n)                                                                                               \n",
            "                                                                                                  \n",
            " regnetx002_Stage_2_XBlock_1_co  (None, 14, 14, 152)  0          ['regnetx002_Stage_2_XBlock_1_con\n",
            " nv_1x1_1_relu (ReLU)                                            v_1x1_1_bn[0][0]']               \n",
            "                                                                                                  \n",
            " regnetx002_Stage_2_XBlock_1_co  (None, 14, 14, 152)  10944      ['regnetx002_Stage_2_XBlock_1_con\n",
            " nv_3x3 (Conv2D)                                                 v_1x1_1_relu[0][0]']             \n",
            "                                                                                                  \n",
            " regnetx002_Stage_2_XBlock_1_co  (None, 14, 14, 152)  608        ['regnetx002_Stage_2_XBlock_1_con\n",
            " nv_3x3_bn (BatchNormalization)                                  v_3x3[0][0]']                    \n",
            "                                                                                                  \n",
            " regnetx002_Stage_2_XBlock_1_co  (None, 14, 14, 152)  0          ['regnetx002_Stage_2_XBlock_1_con\n",
            " nv_3x3_relu (ReLU)                                              v_3x3_bn[0][0]']                 \n",
            "                                                                                                  \n",
            " regnetx002_Stage_2_XBlock_1_co  (None, 14, 14, 152)  23104      ['regnetx002_Stage_2_XBlock_1_con\n",
            " nv_1x1_2 (Conv2D)                                               v_3x3_relu[0][0]']               \n",
            "                                                                                                  \n",
            " regnetx002_Stage_2_XBlock_1_co  (None, 14, 14, 152)  608        ['regnetx002_Stage_2_XBlock_1_con\n",
            " nv_1x1_2_bn (BatchNormalizatio                                  v_1x1_2[0][0]']                  \n",
            " n)                                                                                               \n",
            "                                                                                                  \n",
            " tf.__operators__.add_3 (TFOpLa  (None, 14, 14, 152)  0          ['regnetx002_Stage_2_XBlock_1_con\n",
            " mbda)                                                           v_1x1_2_bn[0][0]',               \n",
            "                                                                  'regnetx002_Stage_2_XBlock_0_exi\n",
            "                                                                 t_relu[0][0]']                   \n",
            "                                                                                                  \n",
            " regnetx002_Stage_2_XBlock_1_ex  (None, 14, 14, 152)  0          ['tf.__operators__.add_3[0][0]'] \n",
            " it_relu (ReLU)                                                                                   \n",
            "                                                                                                  \n",
            " regnetx002_Stage_2_XBlock_2_co  (None, 14, 14, 152)  23104      ['regnetx002_Stage_2_XBlock_1_exi\n",
            " nv_1x1_1 (Conv2D)                                               t_relu[0][0]']                   \n",
            "                                                                                                  \n",
            " regnetx002_Stage_2_XBlock_2_co  (None, 14, 14, 152)  608        ['regnetx002_Stage_2_XBlock_2_con\n",
            " nv_1x1_1_bn (BatchNormalizatio                                  v_1x1_1[0][0]']                  \n",
            " n)                                                                                               \n",
            "                                                                                                  \n",
            " regnetx002_Stage_2_XBlock_2_co  (None, 14, 14, 152)  0          ['regnetx002_Stage_2_XBlock_2_con\n",
            " nv_1x1_1_relu (ReLU)                                            v_1x1_1_bn[0][0]']               \n",
            "                                                                                                  \n",
            " regnetx002_Stage_2_XBlock_2_co  (None, 14, 14, 152)  10944      ['regnetx002_Stage_2_XBlock_2_con\n",
            " nv_3x3 (Conv2D)                                                 v_1x1_1_relu[0][0]']             \n",
            "                                                                                                  \n",
            " regnetx002_Stage_2_XBlock_2_co  (None, 14, 14, 152)  608        ['regnetx002_Stage_2_XBlock_2_con\n",
            " nv_3x3_bn (BatchNormalization)                                  v_3x3[0][0]']                    \n",
            "                                                                                                  \n",
            " regnetx002_Stage_2_XBlock_2_co  (None, 14, 14, 152)  0          ['regnetx002_Stage_2_XBlock_2_con\n",
            " nv_3x3_relu (ReLU)                                              v_3x3_bn[0][0]']                 \n",
            "                                                                                                  \n",
            " regnetx002_Stage_2_XBlock_2_co  (None, 14, 14, 152)  23104      ['regnetx002_Stage_2_XBlock_2_con\n",
            " nv_1x1_2 (Conv2D)                                               v_3x3_relu[0][0]']               \n",
            "                                                                                                  \n",
            " regnetx002_Stage_2_XBlock_2_co  (None, 14, 14, 152)  608        ['regnetx002_Stage_2_XBlock_2_con\n",
            " nv_1x1_2_bn (BatchNormalizatio                                  v_1x1_2[0][0]']                  \n",
            " n)                                                                                               \n",
            "                                                                                                  \n",
            " tf.__operators__.add_4 (TFOpLa  (None, 14, 14, 152)  0          ['regnetx002_Stage_2_XBlock_2_con\n",
            " mbda)                                                           v_1x1_2_bn[0][0]',               \n",
            "                                                                  'regnetx002_Stage_2_XBlock_1_exi\n",
            "                                                                 t_relu[0][0]']                   \n",
            "                                                                                                  \n",
            " regnetx002_Stage_2_XBlock_2_ex  (None, 14, 14, 152)  0          ['tf.__operators__.add_4[0][0]'] \n",
            " it_relu (ReLU)                                                                                   \n",
            "                                                                                                  \n",
            " regnetx002_Stage_2_XBlock_3_co  (None, 14, 14, 152)  23104      ['regnetx002_Stage_2_XBlock_2_exi\n",
            " nv_1x1_1 (Conv2D)                                               t_relu[0][0]']                   \n",
            "                                                                                                  \n",
            " regnetx002_Stage_2_XBlock_3_co  (None, 14, 14, 152)  608        ['regnetx002_Stage_2_XBlock_3_con\n",
            " nv_1x1_1_bn (BatchNormalizatio                                  v_1x1_1[0][0]']                  \n",
            " n)                                                                                               \n",
            "                                                                                                  \n",
            " regnetx002_Stage_2_XBlock_3_co  (None, 14, 14, 152)  0          ['regnetx002_Stage_2_XBlock_3_con\n",
            " nv_1x1_1_relu (ReLU)                                            v_1x1_1_bn[0][0]']               \n",
            "                                                                                                  \n",
            " regnetx002_Stage_2_XBlock_3_co  (None, 14, 14, 152)  10944      ['regnetx002_Stage_2_XBlock_3_con\n",
            " nv_3x3 (Conv2D)                                                 v_1x1_1_relu[0][0]']             \n",
            "                                                                                                  \n",
            " regnetx002_Stage_2_XBlock_3_co  (None, 14, 14, 152)  608        ['regnetx002_Stage_2_XBlock_3_con\n",
            " nv_3x3_bn (BatchNormalization)                                  v_3x3[0][0]']                    \n",
            "                                                                                                  \n",
            " regnetx002_Stage_2_XBlock_3_co  (None, 14, 14, 152)  0          ['regnetx002_Stage_2_XBlock_3_con\n",
            " nv_3x3_relu (ReLU)                                              v_3x3_bn[0][0]']                 \n",
            "                                                                                                  \n",
            " regnetx002_Stage_2_XBlock_3_co  (None, 14, 14, 152)  23104      ['regnetx002_Stage_2_XBlock_3_con\n",
            " nv_1x1_2 (Conv2D)                                               v_3x3_relu[0][0]']               \n",
            "                                                                                                  \n",
            " regnetx002_Stage_2_XBlock_3_co  (None, 14, 14, 152)  608        ['regnetx002_Stage_2_XBlock_3_con\n",
            " nv_1x1_2_bn (BatchNormalizatio                                  v_1x1_2[0][0]']                  \n",
            " n)                                                                                               \n",
            "                                                                                                  \n",
            " tf.__operators__.add_5 (TFOpLa  (None, 14, 14, 152)  0          ['regnetx002_Stage_2_XBlock_3_con\n",
            " mbda)                                                           v_1x1_2_bn[0][0]',               \n",
            "                                                                  'regnetx002_Stage_2_XBlock_2_exi\n",
            "                                                                 t_relu[0][0]']                   \n",
            "                                                                                                  \n",
            " regnetx002_Stage_2_XBlock_3_ex  (None, 14, 14, 152)  0          ['tf.__operators__.add_5[0][0]'] \n",
            " it_relu (ReLU)                                                                                   \n",
            "                                                                                                  \n",
            " regnetx002_Stage_3_XBlock_0_co  (None, 14, 14, 368)  55936      ['regnetx002_Stage_2_XBlock_3_exi\n",
            " nv_1x1_1 (Conv2D)                                               t_relu[0][0]']                   \n",
            "                                                                                                  \n",
            " regnetx002_Stage_3_XBlock_0_co  (None, 14, 14, 368)  1472       ['regnetx002_Stage_3_XBlock_0_con\n",
            " nv_1x1_1_bn (BatchNormalizatio                                  v_1x1_1[0][0]']                  \n",
            " n)                                                                                               \n",
            "                                                                                                  \n",
            " regnetx002_Stage_3_XBlock_0_co  (None, 14, 14, 368)  0          ['regnetx002_Stage_3_XBlock_0_con\n",
            " nv_1x1_1_relu (ReLU)                                            v_1x1_1_bn[0][0]']               \n",
            "                                                                                                  \n",
            " regnetx002_Stage_3_XBlock_0_co  (None, 7, 7, 368)   26496       ['regnetx002_Stage_3_XBlock_0_con\n",
            " nv_3x3 (Conv2D)                                                 v_1x1_1_relu[0][0]']             \n",
            "                                                                                                  \n",
            " regnetx002_Stage_3_XBlock_0_co  (None, 7, 7, 368)   1472        ['regnetx002_Stage_3_XBlock_0_con\n",
            " nv_3x3_bn (BatchNormalization)                                  v_3x3[0][0]']                    \n",
            "                                                                                                  \n",
            " regnetx002_Stage_3_XBlock_0_co  (None, 7, 7, 368)   0           ['regnetx002_Stage_3_XBlock_0_con\n",
            " nv_3x3_relu (ReLU)                                              v_3x3_bn[0][0]']                 \n",
            "                                                                                                  \n",
            " regnetx002_Stage_3_XBlock_0_co  (None, 7, 7, 368)   135424      ['regnetx002_Stage_3_XBlock_0_con\n",
            " nv_1x1_2 (Conv2D)                                               v_3x3_relu[0][0]']               \n",
            "                                                                                                  \n",
            " regnetx002_Stage_3_XBlock_0_sk  (None, 7, 7, 368)   55936       ['regnetx002_Stage_2_XBlock_3_exi\n",
            " ip_1x1 (Conv2D)                                                 t_relu[0][0]']                   \n",
            "                                                                                                  \n",
            " regnetx002_Stage_3_XBlock_0_co  (None, 7, 7, 368)   1472        ['regnetx002_Stage_3_XBlock_0_con\n",
            " nv_1x1_2_bn (BatchNormalizatio                                  v_1x1_2[0][0]']                  \n",
            " n)                                                                                               \n",
            "                                                                                                  \n",
            " regnetx002_Stage_3_XBlock_0_sk  (None, 7, 7, 368)   1472        ['regnetx002_Stage_3_XBlock_0_ski\n",
            " ip_bn (BatchNormalization)                                      p_1x1[0][0]']                    \n",
            "                                                                                                  \n",
            " tf.__operators__.add_6 (TFOpLa  (None, 7, 7, 368)   0           ['regnetx002_Stage_3_XBlock_0_con\n",
            " mbda)                                                           v_1x1_2_bn[0][0]',               \n",
            "                                                                  'regnetx002_Stage_3_XBlock_0_ski\n",
            "                                                                 p_bn[0][0]']                     \n",
            "                                                                                                  \n",
            " regnetx002_Stage_3_XBlock_0_ex  (None, 7, 7, 368)   0           ['tf.__operators__.add_6[0][0]'] \n",
            " it_relu (ReLU)                                                                                   \n",
            "                                                                                                  \n",
            " regnetx002_Stage_3_XBlock_1_co  (None, 7, 7, 368)   135424      ['regnetx002_Stage_3_XBlock_0_exi\n",
            " nv_1x1_1 (Conv2D)                                               t_relu[0][0]']                   \n",
            "                                                                                                  \n",
            " regnetx002_Stage_3_XBlock_1_co  (None, 7, 7, 368)   1472        ['regnetx002_Stage_3_XBlock_1_con\n",
            " nv_1x1_1_bn (BatchNormalizatio                                  v_1x1_1[0][0]']                  \n",
            " n)                                                                                               \n",
            "                                                                                                  \n",
            " regnetx002_Stage_3_XBlock_1_co  (None, 7, 7, 368)   0           ['regnetx002_Stage_3_XBlock_1_con\n",
            " nv_1x1_1_relu (ReLU)                                            v_1x1_1_bn[0][0]']               \n",
            "                                                                                                  \n",
            " regnetx002_Stage_3_XBlock_1_co  (None, 7, 7, 368)   26496       ['regnetx002_Stage_3_XBlock_1_con\n",
            " nv_3x3 (Conv2D)                                                 v_1x1_1_relu[0][0]']             \n",
            "                                                                                                  \n",
            " regnetx002_Stage_3_XBlock_1_co  (None, 7, 7, 368)   1472        ['regnetx002_Stage_3_XBlock_1_con\n",
            " nv_3x3_bn (BatchNormalization)                                  v_3x3[0][0]']                    \n",
            "                                                                                                  \n",
            " regnetx002_Stage_3_XBlock_1_co  (None, 7, 7, 368)   0           ['regnetx002_Stage_3_XBlock_1_con\n",
            " nv_3x3_relu (ReLU)                                              v_3x3_bn[0][0]']                 \n",
            "                                                                                                  \n",
            " regnetx002_Stage_3_XBlock_1_co  (None, 7, 7, 368)   135424      ['regnetx002_Stage_3_XBlock_1_con\n",
            " nv_1x1_2 (Conv2D)                                               v_3x3_relu[0][0]']               \n",
            "                                                                                                  \n",
            " regnetx002_Stage_3_XBlock_1_co  (None, 7, 7, 368)   1472        ['regnetx002_Stage_3_XBlock_1_con\n",
            " nv_1x1_2_bn (BatchNormalizatio                                  v_1x1_2[0][0]']                  \n",
            " n)                                                                                               \n",
            "                                                                                                  \n",
            " tf.__operators__.add_7 (TFOpLa  (None, 7, 7, 368)   0           ['regnetx002_Stage_3_XBlock_1_con\n",
            " mbda)                                                           v_1x1_2_bn[0][0]',               \n",
            "                                                                  'regnetx002_Stage_3_XBlock_0_exi\n",
            "                                                                 t_relu[0][0]']                   \n",
            "                                                                                                  \n",
            " regnetx002_Stage_3_XBlock_1_ex  (None, 7, 7, 368)   0           ['tf.__operators__.add_7[0][0]'] \n",
            " it_relu (ReLU)                                                                                   \n",
            "                                                                                                  \n",
            " regnetx002_Stage_3_XBlock_2_co  (None, 7, 7, 368)   135424      ['regnetx002_Stage_3_XBlock_1_exi\n",
            " nv_1x1_1 (Conv2D)                                               t_relu[0][0]']                   \n",
            "                                                                                                  \n",
            " regnetx002_Stage_3_XBlock_2_co  (None, 7, 7, 368)   1472        ['regnetx002_Stage_3_XBlock_2_con\n",
            " nv_1x1_1_bn (BatchNormalizatio                                  v_1x1_1[0][0]']                  \n",
            " n)                                                                                               \n",
            "                                                                                                  \n",
            " regnetx002_Stage_3_XBlock_2_co  (None, 7, 7, 368)   0           ['regnetx002_Stage_3_XBlock_2_con\n",
            " nv_1x1_1_relu (ReLU)                                            v_1x1_1_bn[0][0]']               \n",
            "                                                                                                  \n",
            " regnetx002_Stage_3_XBlock_2_co  (None, 7, 7, 368)   26496       ['regnetx002_Stage_3_XBlock_2_con\n",
            " nv_3x3 (Conv2D)                                                 v_1x1_1_relu[0][0]']             \n",
            "                                                                                                  \n",
            " regnetx002_Stage_3_XBlock_2_co  (None, 7, 7, 368)   1472        ['regnetx002_Stage_3_XBlock_2_con\n",
            " nv_3x3_bn (BatchNormalization)                                  v_3x3[0][0]']                    \n",
            "                                                                                                  \n",
            " regnetx002_Stage_3_XBlock_2_co  (None, 7, 7, 368)   0           ['regnetx002_Stage_3_XBlock_2_con\n",
            " nv_3x3_relu (ReLU)                                              v_3x3_bn[0][0]']                 \n",
            "                                                                                                  \n",
            " regnetx002_Stage_3_XBlock_2_co  (None, 7, 7, 368)   135424      ['regnetx002_Stage_3_XBlock_2_con\n",
            " nv_1x1_2 (Conv2D)                                               v_3x3_relu[0][0]']               \n",
            "                                                                                                  \n",
            " regnetx002_Stage_3_XBlock_2_co  (None, 7, 7, 368)   1472        ['regnetx002_Stage_3_XBlock_2_con\n",
            " nv_1x1_2_bn (BatchNormalizatio                                  v_1x1_2[0][0]']                  \n",
            " n)                                                                                               \n",
            "                                                                                                  \n",
            " tf.__operators__.add_8 (TFOpLa  (None, 7, 7, 368)   0           ['regnetx002_Stage_3_XBlock_2_con\n",
            " mbda)                                                           v_1x1_2_bn[0][0]',               \n",
            "                                                                  'regnetx002_Stage_3_XBlock_1_exi\n",
            "                                                                 t_relu[0][0]']                   \n",
            "                                                                                                  \n",
            " regnetx002_Stage_3_XBlock_2_ex  (None, 7, 7, 368)   0           ['tf.__operators__.add_8[0][0]'] \n",
            " it_relu (ReLU)                                                                                   \n",
            "                                                                                                  \n",
            " regnetx002_Stage_3_XBlock_3_co  (None, 7, 7, 368)   135424      ['regnetx002_Stage_3_XBlock_2_exi\n",
            " nv_1x1_1 (Conv2D)                                               t_relu[0][0]']                   \n",
            "                                                                                                  \n",
            " regnetx002_Stage_3_XBlock_3_co  (None, 7, 7, 368)   1472        ['regnetx002_Stage_3_XBlock_3_con\n",
            " nv_1x1_1_bn (BatchNormalizatio                                  v_1x1_1[0][0]']                  \n",
            " n)                                                                                               \n",
            "                                                                                                  \n",
            " regnetx002_Stage_3_XBlock_3_co  (None, 7, 7, 368)   0           ['regnetx002_Stage_3_XBlock_3_con\n",
            " nv_1x1_1_relu (ReLU)                                            v_1x1_1_bn[0][0]']               \n",
            "                                                                                                  \n",
            " regnetx002_Stage_3_XBlock_3_co  (None, 7, 7, 368)   26496       ['regnetx002_Stage_3_XBlock_3_con\n",
            " nv_3x3 (Conv2D)                                                 v_1x1_1_relu[0][0]']             \n",
            "                                                                                                  \n",
            " regnetx002_Stage_3_XBlock_3_co  (None, 7, 7, 368)   1472        ['regnetx002_Stage_3_XBlock_3_con\n",
            " nv_3x3_bn (BatchNormalization)                                  v_3x3[0][0]']                    \n",
            "                                                                                                  \n",
            " regnetx002_Stage_3_XBlock_3_co  (None, 7, 7, 368)   0           ['regnetx002_Stage_3_XBlock_3_con\n",
            " nv_3x3_relu (ReLU)                                              v_3x3_bn[0][0]']                 \n",
            "                                                                                                  \n",
            " regnetx002_Stage_3_XBlock_3_co  (None, 7, 7, 368)   135424      ['regnetx002_Stage_3_XBlock_3_con\n",
            " nv_1x1_2 (Conv2D)                                               v_3x3_relu[0][0]']               \n",
            "                                                                                                  \n",
            " regnetx002_Stage_3_XBlock_3_co  (None, 7, 7, 368)   1472        ['regnetx002_Stage_3_XBlock_3_con\n",
            " nv_1x1_2_bn (BatchNormalizatio                                  v_1x1_2[0][0]']                  \n",
            " n)                                                                                               \n",
            "                                                                                                  \n",
            " tf.__operators__.add_9 (TFOpLa  (None, 7, 7, 368)   0           ['regnetx002_Stage_3_XBlock_3_con\n",
            " mbda)                                                           v_1x1_2_bn[0][0]',               \n",
            "                                                                  'regnetx002_Stage_3_XBlock_2_exi\n",
            "                                                                 t_relu[0][0]']                   \n",
            "                                                                                                  \n",
            " regnetx002_Stage_3_XBlock_3_ex  (None, 7, 7, 368)   0           ['tf.__operators__.add_9[0][0]'] \n",
            " it_relu (ReLU)                                                                                   \n",
            "                                                                                                  \n",
            " regnetx002_Stage_3_XBlock_4_co  (None, 7, 7, 368)   135424      ['regnetx002_Stage_3_XBlock_3_exi\n",
            " nv_1x1_1 (Conv2D)                                               t_relu[0][0]']                   \n",
            "                                                                                                  \n",
            " regnetx002_Stage_3_XBlock_4_co  (None, 7, 7, 368)   1472        ['regnetx002_Stage_3_XBlock_4_con\n",
            " nv_1x1_1_bn (BatchNormalizatio                                  v_1x1_1[0][0]']                  \n",
            " n)                                                                                               \n",
            "                                                                                                  \n",
            " regnetx002_Stage_3_XBlock_4_co  (None, 7, 7, 368)   0           ['regnetx002_Stage_3_XBlock_4_con\n",
            " nv_1x1_1_relu (ReLU)                                            v_1x1_1_bn[0][0]']               \n",
            "                                                                                                  \n",
            " regnetx002_Stage_3_XBlock_4_co  (None, 7, 7, 368)   26496       ['regnetx002_Stage_3_XBlock_4_con\n",
            " nv_3x3 (Conv2D)                                                 v_1x1_1_relu[0][0]']             \n",
            "                                                                                                  \n",
            " regnetx002_Stage_3_XBlock_4_co  (None, 7, 7, 368)   1472        ['regnetx002_Stage_3_XBlock_4_con\n",
            " nv_3x3_bn (BatchNormalization)                                  v_3x3[0][0]']                    \n",
            "                                                                                                  \n",
            " regnetx002_Stage_3_XBlock_4_co  (None, 7, 7, 368)   0           ['regnetx002_Stage_3_XBlock_4_con\n",
            " nv_3x3_relu (ReLU)                                              v_3x3_bn[0][0]']                 \n",
            "                                                                                                  \n",
            " regnetx002_Stage_3_XBlock_4_co  (None, 7, 7, 368)   135424      ['regnetx002_Stage_3_XBlock_4_con\n",
            " nv_1x1_2 (Conv2D)                                               v_3x3_relu[0][0]']               \n",
            "                                                                                                  \n",
            " regnetx002_Stage_3_XBlock_4_co  (None, 7, 7, 368)   1472        ['regnetx002_Stage_3_XBlock_4_con\n",
            " nv_1x1_2_bn (BatchNormalizatio                                  v_1x1_2[0][0]']                  \n",
            " n)                                                                                               \n",
            "                                                                                                  \n",
            " tf.__operators__.add_10 (TFOpL  (None, 7, 7, 368)   0           ['regnetx002_Stage_3_XBlock_4_con\n",
            " ambda)                                                          v_1x1_2_bn[0][0]',               \n",
            "                                                                  'regnetx002_Stage_3_XBlock_3_exi\n",
            "                                                                 t_relu[0][0]']                   \n",
            "                                                                                                  \n",
            " regnetx002_Stage_3_XBlock_4_ex  (None, 7, 7, 368)   0           ['tf.__operators__.add_10[0][0]']\n",
            " it_relu (ReLU)                                                                                   \n",
            "                                                                                                  \n",
            " regnetx002_Stage_3_XBlock_5_co  (None, 7, 7, 368)   135424      ['regnetx002_Stage_3_XBlock_4_exi\n",
            " nv_1x1_1 (Conv2D)                                               t_relu[0][0]']                   \n",
            "                                                                                                  \n",
            " regnetx002_Stage_3_XBlock_5_co  (None, 7, 7, 368)   1472        ['regnetx002_Stage_3_XBlock_5_con\n",
            " nv_1x1_1_bn (BatchNormalizatio                                  v_1x1_1[0][0]']                  \n",
            " n)                                                                                               \n",
            "                                                                                                  \n",
            " regnetx002_Stage_3_XBlock_5_co  (None, 7, 7, 368)   0           ['regnetx002_Stage_3_XBlock_5_con\n",
            " nv_1x1_1_relu (ReLU)                                            v_1x1_1_bn[0][0]']               \n",
            "                                                                                                  \n",
            " regnetx002_Stage_3_XBlock_5_co  (None, 7, 7, 368)   26496       ['regnetx002_Stage_3_XBlock_5_con\n",
            " nv_3x3 (Conv2D)                                                 v_1x1_1_relu[0][0]']             \n",
            "                                                                                                  \n",
            " regnetx002_Stage_3_XBlock_5_co  (None, 7, 7, 368)   1472        ['regnetx002_Stage_3_XBlock_5_con\n",
            " nv_3x3_bn (BatchNormalization)                                  v_3x3[0][0]']                    \n",
            "                                                                                                  \n",
            " regnetx002_Stage_3_XBlock_5_co  (None, 7, 7, 368)   0           ['regnetx002_Stage_3_XBlock_5_con\n",
            " nv_3x3_relu (ReLU)                                              v_3x3_bn[0][0]']                 \n",
            "                                                                                                  \n",
            " regnetx002_Stage_3_XBlock_5_co  (None, 7, 7, 368)   135424      ['regnetx002_Stage_3_XBlock_5_con\n",
            " nv_1x1_2 (Conv2D)                                               v_3x3_relu[0][0]']               \n",
            "                                                                                                  \n",
            " regnetx002_Stage_3_XBlock_5_co  (None, 7, 7, 368)   1472        ['regnetx002_Stage_3_XBlock_5_con\n",
            " nv_1x1_2_bn (BatchNormalizatio                                  v_1x1_2[0][0]']                  \n",
            " n)                                                                                               \n",
            "                                                                                                  \n",
            " tf.__operators__.add_11 (TFOpL  (None, 7, 7, 368)   0           ['regnetx002_Stage_3_XBlock_5_con\n",
            " ambda)                                                          v_1x1_2_bn[0][0]',               \n",
            "                                                                  'regnetx002_Stage_3_XBlock_4_exi\n",
            "                                                                 t_relu[0][0]']                   \n",
            "                                                                                                  \n",
            " regnetx002_Stage_3_XBlock_5_ex  (None, 7, 7, 368)   0           ['tf.__operators__.add_11[0][0]']\n",
            " it_relu (ReLU)                                                                                   \n",
            "                                                                                                  \n",
            " regnetx002_Stage_3_XBlock_6_co  (None, 7, 7, 368)   135424      ['regnetx002_Stage_3_XBlock_5_exi\n",
            " nv_1x1_1 (Conv2D)                                               t_relu[0][0]']                   \n",
            "                                                                                                  \n",
            " regnetx002_Stage_3_XBlock_6_co  (None, 7, 7, 368)   1472        ['regnetx002_Stage_3_XBlock_6_con\n",
            " nv_1x1_1_bn (BatchNormalizatio                                  v_1x1_1[0][0]']                  \n",
            " n)                                                                                               \n",
            "                                                                                                  \n",
            " regnetx002_Stage_3_XBlock_6_co  (None, 7, 7, 368)   0           ['regnetx002_Stage_3_XBlock_6_con\n",
            " nv_1x1_1_relu (ReLU)                                            v_1x1_1_bn[0][0]']               \n",
            "                                                                                                  \n",
            " regnetx002_Stage_3_XBlock_6_co  (None, 7, 7, 368)   26496       ['regnetx002_Stage_3_XBlock_6_con\n",
            " nv_3x3 (Conv2D)                                                 v_1x1_1_relu[0][0]']             \n",
            "                                                                                                  \n",
            " regnetx002_Stage_3_XBlock_6_co  (None, 7, 7, 368)   1472        ['regnetx002_Stage_3_XBlock_6_con\n",
            " nv_3x3_bn (BatchNormalization)                                  v_3x3[0][0]']                    \n",
            "                                                                                                  \n",
            " regnetx002_Stage_3_XBlock_6_co  (None, 7, 7, 368)   0           ['regnetx002_Stage_3_XBlock_6_con\n",
            " nv_3x3_relu (ReLU)                                              v_3x3_bn[0][0]']                 \n",
            "                                                                                                  \n",
            " regnetx002_Stage_3_XBlock_6_co  (None, 7, 7, 368)   135424      ['regnetx002_Stage_3_XBlock_6_con\n",
            " nv_1x1_2 (Conv2D)                                               v_3x3_relu[0][0]']               \n",
            "                                                                                                  \n",
            " regnetx002_Stage_3_XBlock_6_co  (None, 7, 7, 368)   1472        ['regnetx002_Stage_3_XBlock_6_con\n",
            " nv_1x1_2_bn (BatchNormalizatio                                  v_1x1_2[0][0]']                  \n",
            " n)                                                                                               \n",
            "                                                                                                  \n",
            " tf.__operators__.add_12 (TFOpL  (None, 7, 7, 368)   0           ['regnetx002_Stage_3_XBlock_6_con\n",
            " ambda)                                                          v_1x1_2_bn[0][0]',               \n",
            "                                                                  'regnetx002_Stage_3_XBlock_5_exi\n",
            "                                                                 t_relu[0][0]']                   \n",
            "                                                                                                  \n",
            " regnetx002_Stage_3_XBlock_6_ex  (None, 7, 7, 368)   0           ['tf.__operators__.add_12[0][0]']\n",
            " it_relu (ReLU)                                                                                   \n",
            "                                                                                                  \n",
            " global_max_pooling2d (GlobalMa  (None, 368)         0           ['regnetx002_Stage_3_XBlock_6_exi\n",
            " xPooling2D)                                                     t_relu[0][0]']                   \n",
            "                                                                                                  \n",
            " dense (Dense)                  (None, 512)          188928      ['global_max_pooling2d[0][0]']   \n",
            "                                                                                                  \n",
            " dropout (Dropout)              (None, 512)          0           ['dense[0][0]']                  \n",
            "                                                                                                  \n",
            " dense_1 (Dense)                (None, 3)            1539        ['dropout[0][0]']                \n",
            "                                                                                                  \n",
            "==================================================================================================\n",
            "Total params: 2,527,107\n",
            "Trainable params: 211,315\n",
            "Non-trainable params: 2,315,792\n",
            "__________________________________________________________________________________________________\n"
          ]
        }
      ],
      "source": [
        "model.summary()"
      ]
    },
    {
      "cell_type": "code",
      "execution_count": 26,
      "metadata": {
        "colab": {
          "base_uri": "https://localhost:8080/"
        },
        "id": "uV0NlqnKpLIw",
        "outputId": "4d9ce888-6ba3-4a1f-9bba-d6654165a4f5"
      },
      "outputs": [
        {
          "output_type": "stream",
          "name": "stdout",
          "text": [
            "Looking in indexes: https://pypi.org/simple, https://us-python.pkg.dev/colab-wheels/public/simple/\n",
            "Collecting tensorflow_addons\n",
            "  Downloading tensorflow_addons-0.19.0-cp38-cp38-manylinux_2_17_x86_64.manylinux2014_x86_64.whl (1.1 MB)\n",
            "\u001b[2K     \u001b[90m━━━━━━━━━━━━━━━━━━━━━━━━━━━━━━━━━━━━━━━━\u001b[0m \u001b[32m1.1/1.1 MB\u001b[0m \u001b[31m14.4 MB/s\u001b[0m eta \u001b[36m0:00:00\u001b[0m\n",
            "\u001b[?25hRequirement already satisfied: typeguard>=2.7 in /usr/local/lib/python3.8/dist-packages (from tensorflow_addons) (2.7.1)\n",
            "Requirement already satisfied: packaging in /usr/local/lib/python3.8/dist-packages (from tensorflow_addons) (21.3)\n",
            "Requirement already satisfied: pyparsing!=3.0.5,>=2.0.2 in /usr/local/lib/python3.8/dist-packages (from packaging->tensorflow_addons) (3.0.9)\n",
            "Installing collected packages: tensorflow_addons\n",
            "Successfully installed tensorflow_addons-0.19.0\n"
          ]
        }
      ],
      "source": [
        "!pip install tensorflow_addons"
      ]
    },
    {
      "cell_type": "code",
      "execution_count": null,
      "metadata": {
        "id": "P__SbxH0YJaE"
      },
      "outputs": [],
      "source": [
        "#model.summary()\n"
      ]
    },
    {
      "cell_type": "code",
      "execution_count": 27,
      "metadata": {
        "id": "Y4K54-hsYmK4"
      },
      "outputs": [],
      "source": [
        "train_datagen = ImageDataGenerator(rotation_range=45, width_shift_range=0.2, height_shift_range=0.2,\n",
        "                                   shear_range=0.2, zoom_range=0.2, fill_mode='nearest')\n",
        "\n",
        "train_datagen.fit(X_train)\n",
        "\n",
        "val_datagen = ImageDataGenerator()\n",
        "val_datagen.fit(X_val)"
      ]
    },
    {
      "cell_type": "code",
      "execution_count": null,
      "metadata": {
        "id": "gaxbgtNgYv8l"
      },
      "outputs": [],
      "source": [
        "# batch_size = 32\n",
        "# epochs = 5\n",
        "# history = model.fit_generator(train_datagen.flow(X_train,y_train, batch_size=batch_size),\n",
        "#                               epochs = epochs, validation_data = val_datagen.flow(X_val, y_val),\n",
        "#                               verbose = 1, steps_per_epoch=(X_train.shape[0] // batch_size), \n",
        "#                               validation_steps=(X_val.shape[0] // batch_size))"
      ]
    },
    {
      "cell_type": "code",
      "execution_count": null,
      "metadata": {
        "id": "Lzd3KuIlapKA"
      },
      "outputs": [],
      "source": [
        "# plt.plot(history.history['loss'])\n",
        "# plt.plot(history.history['val_loss'])\n",
        "# plt.title('Model loss')\n",
        "# plt.ylabel('Loss')\n",
        "# plt.xlabel('Epoch')\n",
        "# plt.legend(['Train', 'Val'], loc='upper left')\n",
        "# plt.show()"
      ]
    },
    {
      "cell_type": "code",
      "execution_count": null,
      "metadata": {
        "id": "k5MDe5nZhzEK"
      },
      "outputs": [],
      "source": [
        "# plt.plot(history.history['accuracy'])\n",
        "# plt.plot(history.history['val_accuracy'])\n",
        "# plt.title('Model accuracy')\n",
        "# plt.ylabel('Accuracy')\n",
        "# plt.xlabel('Epoch')\n",
        "# plt.legend(['Train', 'Val'], loc='upper left')\n",
        "# plt.show()"
      ]
    },
    {
      "cell_type": "code",
      "execution_count": 32,
      "metadata": {
        "colab": {
          "base_uri": "https://localhost:8080/",
          "height": 35
        },
        "id": "y4ZMQSWWMTEg",
        "outputId": "fe0d1368-bce0-4ebf-99ff-0be7f143a608"
      },
      "outputs": [
        {
          "output_type": "execute_result",
          "data": {
            "text/plain": [
              "'regnetx002_Stage_3_XBlock_4_conv_1x1_2_bn'"
            ],
            "application/vnd.google.colaboratory.intrinsic+json": {
              "type": "string"
            }
          },
          "metadata": {},
          "execution_count": 32
        }
      ],
      "source": [
        "pre_trained_model.layers[120].name\n"
      ]
    },
    {
      "cell_type": "code",
      "execution_count": 33,
      "metadata": {
        "id": "a9bsjqGCSMly"
      },
      "outputs": [],
      "source": [
        "for layer in pre_trained_model.layers[120:]:\n",
        "    layer.trainable = True"
      ]
    },
    {
      "cell_type": "code",
      "execution_count": 34,
      "metadata": {
        "colab": {
          "base_uri": "https://localhost:8080/"
        },
        "id": "NUcXzbJcSUkq",
        "outputId": "0a899894-4f9c-4ad4-bbed-fddeca4d85c8"
      },
      "outputs": [
        {
          "output_type": "stream",
          "name": "stderr",
          "text": [
            "/usr/local/lib/python3.8/dist-packages/keras/optimizers/optimizer_v2/adam.py:110: UserWarning: The `lr` argument is deprecated, use `learning_rate` instead.\n",
            "  super(Adam, self).__init__(name, **kwargs)\n"
          ]
        }
      ],
      "source": [
        "optimizer = Adam(lr=0.0001, beta_1=0.9, beta_2=0.999, epsilon=None, decay=0.0, amsgrad=False)\n",
        "model.compile(loss='categorical_crossentropy',\n",
        "              optimizer=optimizer,\n",
        "              metrics=['acc'])"
      ]
    },
    {
      "cell_type": "code",
      "execution_count": 35,
      "metadata": {
        "id": "hQjIDIST0E36",
        "colab": {
          "base_uri": "https://localhost:8080/"
        },
        "outputId": "d2d75a6c-767e-4a71-b907-8f4ca87778f0"
      },
      "outputs": [
        {
          "output_type": "stream",
          "name": "stdout",
          "text": [
            "Model: \"model\"\n",
            "__________________________________________________________________________________________________\n",
            " Layer (type)                   Output Shape         Param #     Connected to                     \n",
            "==================================================================================================\n",
            " input_1 (InputLayer)           [(None, 224, 224, 3  0           []                               \n",
            "                                )]                                                                \n",
            "                                                                                                  \n",
            " regnetx002_prestem_rescaling (  (None, 224, 224, 3)  0          ['input_1[0][0]']                \n",
            " Rescaling)                                                                                       \n",
            "                                                                                                  \n",
            " regnetx002_stem_conv (Conv2D)  (None, 112, 112, 32  864         ['regnetx002_prestem_rescaling[0]\n",
            "                                )                                [0]']                            \n",
            "                                                                                                  \n",
            " regnetx002_stem_bn (BatchNorma  (None, 112, 112, 32  128        ['regnetx002_stem_conv[0][0]']   \n",
            " lization)                      )                                                                 \n",
            "                                                                                                  \n",
            " regnetx002_stem_relu (ReLU)    (None, 112, 112, 32  0           ['regnetx002_stem_bn[0][0]']     \n",
            "                                )                                                                 \n",
            "                                                                                                  \n",
            " regnetx002_Stage_0_XBlock_0_co  (None, 112, 112, 24  768        ['regnetx002_stem_relu[0][0]']   \n",
            " nv_1x1_1 (Conv2D)              )                                                                 \n",
            "                                                                                                  \n",
            " regnetx002_Stage_0_XBlock_0_co  (None, 112, 112, 24  96         ['regnetx002_Stage_0_XBlock_0_con\n",
            " nv_1x1_1_bn (BatchNormalizatio  )                               v_1x1_1[0][0]']                  \n",
            " n)                                                                                               \n",
            "                                                                                                  \n",
            " regnetx002_Stage_0_XBlock_0_co  (None, 112, 112, 24  0          ['regnetx002_Stage_0_XBlock_0_con\n",
            " nv_1x1_1_relu (ReLU)           )                                v_1x1_1_bn[0][0]']               \n",
            "                                                                                                  \n",
            " regnetx002_Stage_0_XBlock_0_co  (None, 56, 56, 24)  1728        ['regnetx002_Stage_0_XBlock_0_con\n",
            " nv_3x3 (Conv2D)                                                 v_1x1_1_relu[0][0]']             \n",
            "                                                                                                  \n",
            " regnetx002_Stage_0_XBlock_0_co  (None, 56, 56, 24)  96          ['regnetx002_Stage_0_XBlock_0_con\n",
            " nv_3x3_bn (BatchNormalization)                                  v_3x3[0][0]']                    \n",
            "                                                                                                  \n",
            " regnetx002_Stage_0_XBlock_0_co  (None, 56, 56, 24)  0           ['regnetx002_Stage_0_XBlock_0_con\n",
            " nv_3x3_relu (ReLU)                                              v_3x3_bn[0][0]']                 \n",
            "                                                                                                  \n",
            " regnetx002_Stage_0_XBlock_0_co  (None, 56, 56, 24)  576         ['regnetx002_Stage_0_XBlock_0_con\n",
            " nv_1x1_2 (Conv2D)                                               v_3x3_relu[0][0]']               \n",
            "                                                                                                  \n",
            " regnetx002_Stage_0_XBlock_0_sk  (None, 56, 56, 24)  768         ['regnetx002_stem_relu[0][0]']   \n",
            " ip_1x1 (Conv2D)                                                                                  \n",
            "                                                                                                  \n",
            " regnetx002_Stage_0_XBlock_0_co  (None, 56, 56, 24)  96          ['regnetx002_Stage_0_XBlock_0_con\n",
            " nv_1x1_2_bn (BatchNormalizatio                                  v_1x1_2[0][0]']                  \n",
            " n)                                                                                               \n",
            "                                                                                                  \n",
            " regnetx002_Stage_0_XBlock_0_sk  (None, 56, 56, 24)  96          ['regnetx002_Stage_0_XBlock_0_ski\n",
            " ip_bn (BatchNormalization)                                      p_1x1[0][0]']                    \n",
            "                                                                                                  \n",
            " tf.__operators__.add (TFOpLamb  (None, 56, 56, 24)  0           ['regnetx002_Stage_0_XBlock_0_con\n",
            " da)                                                             v_1x1_2_bn[0][0]',               \n",
            "                                                                  'regnetx002_Stage_0_XBlock_0_ski\n",
            "                                                                 p_bn[0][0]']                     \n",
            "                                                                                                  \n",
            " regnetx002_Stage_0_XBlock_0_ex  (None, 56, 56, 24)  0           ['tf.__operators__.add[0][0]']   \n",
            " it_relu (ReLU)                                                                                   \n",
            "                                                                                                  \n",
            " regnetx002_Stage_1_XBlock_0_co  (None, 56, 56, 56)  1344        ['regnetx002_Stage_0_XBlock_0_exi\n",
            " nv_1x1_1 (Conv2D)                                               t_relu[0][0]']                   \n",
            "                                                                                                  \n",
            " regnetx002_Stage_1_XBlock_0_co  (None, 56, 56, 56)  224         ['regnetx002_Stage_1_XBlock_0_con\n",
            " nv_1x1_1_bn (BatchNormalizatio                                  v_1x1_1[0][0]']                  \n",
            " n)                                                                                               \n",
            "                                                                                                  \n",
            " regnetx002_Stage_1_XBlock_0_co  (None, 56, 56, 56)  0           ['regnetx002_Stage_1_XBlock_0_con\n",
            " nv_1x1_1_relu (ReLU)                                            v_1x1_1_bn[0][0]']               \n",
            "                                                                                                  \n",
            " regnetx002_Stage_1_XBlock_0_co  (None, 28, 28, 56)  4032        ['regnetx002_Stage_1_XBlock_0_con\n",
            " nv_3x3 (Conv2D)                                                 v_1x1_1_relu[0][0]']             \n",
            "                                                                                                  \n",
            " regnetx002_Stage_1_XBlock_0_co  (None, 28, 28, 56)  224         ['regnetx002_Stage_1_XBlock_0_con\n",
            " nv_3x3_bn (BatchNormalization)                                  v_3x3[0][0]']                    \n",
            "                                                                                                  \n",
            " regnetx002_Stage_1_XBlock_0_co  (None, 28, 28, 56)  0           ['regnetx002_Stage_1_XBlock_0_con\n",
            " nv_3x3_relu (ReLU)                                              v_3x3_bn[0][0]']                 \n",
            "                                                                                                  \n",
            " regnetx002_Stage_1_XBlock_0_co  (None, 28, 28, 56)  3136        ['regnetx002_Stage_1_XBlock_0_con\n",
            " nv_1x1_2 (Conv2D)                                               v_3x3_relu[0][0]']               \n",
            "                                                                                                  \n",
            " regnetx002_Stage_1_XBlock_0_sk  (None, 28, 28, 56)  1344        ['regnetx002_Stage_0_XBlock_0_exi\n",
            " ip_1x1 (Conv2D)                                                 t_relu[0][0]']                   \n",
            "                                                                                                  \n",
            " regnetx002_Stage_1_XBlock_0_co  (None, 28, 28, 56)  224         ['regnetx002_Stage_1_XBlock_0_con\n",
            " nv_1x1_2_bn (BatchNormalizatio                                  v_1x1_2[0][0]']                  \n",
            " n)                                                                                               \n",
            "                                                                                                  \n",
            " regnetx002_Stage_1_XBlock_0_sk  (None, 28, 28, 56)  224         ['regnetx002_Stage_1_XBlock_0_ski\n",
            " ip_bn (BatchNormalization)                                      p_1x1[0][0]']                    \n",
            "                                                                                                  \n",
            " tf.__operators__.add_1 (TFOpLa  (None, 28, 28, 56)  0           ['regnetx002_Stage_1_XBlock_0_con\n",
            " mbda)                                                           v_1x1_2_bn[0][0]',               \n",
            "                                                                  'regnetx002_Stage_1_XBlock_0_ski\n",
            "                                                                 p_bn[0][0]']                     \n",
            "                                                                                                  \n",
            " regnetx002_Stage_1_XBlock_0_ex  (None, 28, 28, 56)  0           ['tf.__operators__.add_1[0][0]'] \n",
            " it_relu (ReLU)                                                                                   \n",
            "                                                                                                  \n",
            " regnetx002_Stage_2_XBlock_0_co  (None, 28, 28, 152)  8512       ['regnetx002_Stage_1_XBlock_0_exi\n",
            " nv_1x1_1 (Conv2D)                                               t_relu[0][0]']                   \n",
            "                                                                                                  \n",
            " regnetx002_Stage_2_XBlock_0_co  (None, 28, 28, 152)  608        ['regnetx002_Stage_2_XBlock_0_con\n",
            " nv_1x1_1_bn (BatchNormalizatio                                  v_1x1_1[0][0]']                  \n",
            " n)                                                                                               \n",
            "                                                                                                  \n",
            " regnetx002_Stage_2_XBlock_0_co  (None, 28, 28, 152)  0          ['regnetx002_Stage_2_XBlock_0_con\n",
            " nv_1x1_1_relu (ReLU)                                            v_1x1_1_bn[0][0]']               \n",
            "                                                                                                  \n",
            " regnetx002_Stage_2_XBlock_0_co  (None, 14, 14, 152)  10944      ['regnetx002_Stage_2_XBlock_0_con\n",
            " nv_3x3 (Conv2D)                                                 v_1x1_1_relu[0][0]']             \n",
            "                                                                                                  \n",
            " regnetx002_Stage_2_XBlock_0_co  (None, 14, 14, 152)  608        ['regnetx002_Stage_2_XBlock_0_con\n",
            " nv_3x3_bn (BatchNormalization)                                  v_3x3[0][0]']                    \n",
            "                                                                                                  \n",
            " regnetx002_Stage_2_XBlock_0_co  (None, 14, 14, 152)  0          ['regnetx002_Stage_2_XBlock_0_con\n",
            " nv_3x3_relu (ReLU)                                              v_3x3_bn[0][0]']                 \n",
            "                                                                                                  \n",
            " regnetx002_Stage_2_XBlock_0_co  (None, 14, 14, 152)  23104      ['regnetx002_Stage_2_XBlock_0_con\n",
            " nv_1x1_2 (Conv2D)                                               v_3x3_relu[0][0]']               \n",
            "                                                                                                  \n",
            " regnetx002_Stage_2_XBlock_0_sk  (None, 14, 14, 152)  8512       ['regnetx002_Stage_1_XBlock_0_exi\n",
            " ip_1x1 (Conv2D)                                                 t_relu[0][0]']                   \n",
            "                                                                                                  \n",
            " regnetx002_Stage_2_XBlock_0_co  (None, 14, 14, 152)  608        ['regnetx002_Stage_2_XBlock_0_con\n",
            " nv_1x1_2_bn (BatchNormalizatio                                  v_1x1_2[0][0]']                  \n",
            " n)                                                                                               \n",
            "                                                                                                  \n",
            " regnetx002_Stage_2_XBlock_0_sk  (None, 14, 14, 152)  608        ['regnetx002_Stage_2_XBlock_0_ski\n",
            " ip_bn (BatchNormalization)                                      p_1x1[0][0]']                    \n",
            "                                                                                                  \n",
            " tf.__operators__.add_2 (TFOpLa  (None, 14, 14, 152)  0          ['regnetx002_Stage_2_XBlock_0_con\n",
            " mbda)                                                           v_1x1_2_bn[0][0]',               \n",
            "                                                                  'regnetx002_Stage_2_XBlock_0_ski\n",
            "                                                                 p_bn[0][0]']                     \n",
            "                                                                                                  \n",
            " regnetx002_Stage_2_XBlock_0_ex  (None, 14, 14, 152)  0          ['tf.__operators__.add_2[0][0]'] \n",
            " it_relu (ReLU)                                                                                   \n",
            "                                                                                                  \n",
            " regnetx002_Stage_2_XBlock_1_co  (None, 14, 14, 152)  23104      ['regnetx002_Stage_2_XBlock_0_exi\n",
            " nv_1x1_1 (Conv2D)                                               t_relu[0][0]']                   \n",
            "                                                                                                  \n",
            " regnetx002_Stage_2_XBlock_1_co  (None, 14, 14, 152)  608        ['regnetx002_Stage_2_XBlock_1_con\n",
            " nv_1x1_1_bn (BatchNormalizatio                                  v_1x1_1[0][0]']                  \n",
            " n)                                                                                               \n",
            "                                                                                                  \n",
            " regnetx002_Stage_2_XBlock_1_co  (None, 14, 14, 152)  0          ['regnetx002_Stage_2_XBlock_1_con\n",
            " nv_1x1_1_relu (ReLU)                                            v_1x1_1_bn[0][0]']               \n",
            "                                                                                                  \n",
            " regnetx002_Stage_2_XBlock_1_co  (None, 14, 14, 152)  10944      ['regnetx002_Stage_2_XBlock_1_con\n",
            " nv_3x3 (Conv2D)                                                 v_1x1_1_relu[0][0]']             \n",
            "                                                                                                  \n",
            " regnetx002_Stage_2_XBlock_1_co  (None, 14, 14, 152)  608        ['regnetx002_Stage_2_XBlock_1_con\n",
            " nv_3x3_bn (BatchNormalization)                                  v_3x3[0][0]']                    \n",
            "                                                                                                  \n",
            " regnetx002_Stage_2_XBlock_1_co  (None, 14, 14, 152)  0          ['regnetx002_Stage_2_XBlock_1_con\n",
            " nv_3x3_relu (ReLU)                                              v_3x3_bn[0][0]']                 \n",
            "                                                                                                  \n",
            " regnetx002_Stage_2_XBlock_1_co  (None, 14, 14, 152)  23104      ['regnetx002_Stage_2_XBlock_1_con\n",
            " nv_1x1_2 (Conv2D)                                               v_3x3_relu[0][0]']               \n",
            "                                                                                                  \n",
            " regnetx002_Stage_2_XBlock_1_co  (None, 14, 14, 152)  608        ['regnetx002_Stage_2_XBlock_1_con\n",
            " nv_1x1_2_bn (BatchNormalizatio                                  v_1x1_2[0][0]']                  \n",
            " n)                                                                                               \n",
            "                                                                                                  \n",
            " tf.__operators__.add_3 (TFOpLa  (None, 14, 14, 152)  0          ['regnetx002_Stage_2_XBlock_1_con\n",
            " mbda)                                                           v_1x1_2_bn[0][0]',               \n",
            "                                                                  'regnetx002_Stage_2_XBlock_0_exi\n",
            "                                                                 t_relu[0][0]']                   \n",
            "                                                                                                  \n",
            " regnetx002_Stage_2_XBlock_1_ex  (None, 14, 14, 152)  0          ['tf.__operators__.add_3[0][0]'] \n",
            " it_relu (ReLU)                                                                                   \n",
            "                                                                                                  \n",
            " regnetx002_Stage_2_XBlock_2_co  (None, 14, 14, 152)  23104      ['regnetx002_Stage_2_XBlock_1_exi\n",
            " nv_1x1_1 (Conv2D)                                               t_relu[0][0]']                   \n",
            "                                                                                                  \n",
            " regnetx002_Stage_2_XBlock_2_co  (None, 14, 14, 152)  608        ['regnetx002_Stage_2_XBlock_2_con\n",
            " nv_1x1_1_bn (BatchNormalizatio                                  v_1x1_1[0][0]']                  \n",
            " n)                                                                                               \n",
            "                                                                                                  \n",
            " regnetx002_Stage_2_XBlock_2_co  (None, 14, 14, 152)  0          ['regnetx002_Stage_2_XBlock_2_con\n",
            " nv_1x1_1_relu (ReLU)                                            v_1x1_1_bn[0][0]']               \n",
            "                                                                                                  \n",
            " regnetx002_Stage_2_XBlock_2_co  (None, 14, 14, 152)  10944      ['regnetx002_Stage_2_XBlock_2_con\n",
            " nv_3x3 (Conv2D)                                                 v_1x1_1_relu[0][0]']             \n",
            "                                                                                                  \n",
            " regnetx002_Stage_2_XBlock_2_co  (None, 14, 14, 152)  608        ['regnetx002_Stage_2_XBlock_2_con\n",
            " nv_3x3_bn (BatchNormalization)                                  v_3x3[0][0]']                    \n",
            "                                                                                                  \n",
            " regnetx002_Stage_2_XBlock_2_co  (None, 14, 14, 152)  0          ['regnetx002_Stage_2_XBlock_2_con\n",
            " nv_3x3_relu (ReLU)                                              v_3x3_bn[0][0]']                 \n",
            "                                                                                                  \n",
            " regnetx002_Stage_2_XBlock_2_co  (None, 14, 14, 152)  23104      ['regnetx002_Stage_2_XBlock_2_con\n",
            " nv_1x1_2 (Conv2D)                                               v_3x3_relu[0][0]']               \n",
            "                                                                                                  \n",
            " regnetx002_Stage_2_XBlock_2_co  (None, 14, 14, 152)  608        ['regnetx002_Stage_2_XBlock_2_con\n",
            " nv_1x1_2_bn (BatchNormalizatio                                  v_1x1_2[0][0]']                  \n",
            " n)                                                                                               \n",
            "                                                                                                  \n",
            " tf.__operators__.add_4 (TFOpLa  (None, 14, 14, 152)  0          ['regnetx002_Stage_2_XBlock_2_con\n",
            " mbda)                                                           v_1x1_2_bn[0][0]',               \n",
            "                                                                  'regnetx002_Stage_2_XBlock_1_exi\n",
            "                                                                 t_relu[0][0]']                   \n",
            "                                                                                                  \n",
            " regnetx002_Stage_2_XBlock_2_ex  (None, 14, 14, 152)  0          ['tf.__operators__.add_4[0][0]'] \n",
            " it_relu (ReLU)                                                                                   \n",
            "                                                                                                  \n",
            " regnetx002_Stage_2_XBlock_3_co  (None, 14, 14, 152)  23104      ['regnetx002_Stage_2_XBlock_2_exi\n",
            " nv_1x1_1 (Conv2D)                                               t_relu[0][0]']                   \n",
            "                                                                                                  \n",
            " regnetx002_Stage_2_XBlock_3_co  (None, 14, 14, 152)  608        ['regnetx002_Stage_2_XBlock_3_con\n",
            " nv_1x1_1_bn (BatchNormalizatio                                  v_1x1_1[0][0]']                  \n",
            " n)                                                                                               \n",
            "                                                                                                  \n",
            " regnetx002_Stage_2_XBlock_3_co  (None, 14, 14, 152)  0          ['regnetx002_Stage_2_XBlock_3_con\n",
            " nv_1x1_1_relu (ReLU)                                            v_1x1_1_bn[0][0]']               \n",
            "                                                                                                  \n",
            " regnetx002_Stage_2_XBlock_3_co  (None, 14, 14, 152)  10944      ['regnetx002_Stage_2_XBlock_3_con\n",
            " nv_3x3 (Conv2D)                                                 v_1x1_1_relu[0][0]']             \n",
            "                                                                                                  \n",
            " regnetx002_Stage_2_XBlock_3_co  (None, 14, 14, 152)  608        ['regnetx002_Stage_2_XBlock_3_con\n",
            " nv_3x3_bn (BatchNormalization)                                  v_3x3[0][0]']                    \n",
            "                                                                                                  \n",
            " regnetx002_Stage_2_XBlock_3_co  (None, 14, 14, 152)  0          ['regnetx002_Stage_2_XBlock_3_con\n",
            " nv_3x3_relu (ReLU)                                              v_3x3_bn[0][0]']                 \n",
            "                                                                                                  \n",
            " regnetx002_Stage_2_XBlock_3_co  (None, 14, 14, 152)  23104      ['regnetx002_Stage_2_XBlock_3_con\n",
            " nv_1x1_2 (Conv2D)                                               v_3x3_relu[0][0]']               \n",
            "                                                                                                  \n",
            " regnetx002_Stage_2_XBlock_3_co  (None, 14, 14, 152)  608        ['regnetx002_Stage_2_XBlock_3_con\n",
            " nv_1x1_2_bn (BatchNormalizatio                                  v_1x1_2[0][0]']                  \n",
            " n)                                                                                               \n",
            "                                                                                                  \n",
            " tf.__operators__.add_5 (TFOpLa  (None, 14, 14, 152)  0          ['regnetx002_Stage_2_XBlock_3_con\n",
            " mbda)                                                           v_1x1_2_bn[0][0]',               \n",
            "                                                                  'regnetx002_Stage_2_XBlock_2_exi\n",
            "                                                                 t_relu[0][0]']                   \n",
            "                                                                                                  \n",
            " regnetx002_Stage_2_XBlock_3_ex  (None, 14, 14, 152)  0          ['tf.__operators__.add_5[0][0]'] \n",
            " it_relu (ReLU)                                                                                   \n",
            "                                                                                                  \n",
            " regnetx002_Stage_3_XBlock_0_co  (None, 14, 14, 368)  55936      ['regnetx002_Stage_2_XBlock_3_exi\n",
            " nv_1x1_1 (Conv2D)                                               t_relu[0][0]']                   \n",
            "                                                                                                  \n",
            " regnetx002_Stage_3_XBlock_0_co  (None, 14, 14, 368)  1472       ['regnetx002_Stage_3_XBlock_0_con\n",
            " nv_1x1_1_bn (BatchNormalizatio                                  v_1x1_1[0][0]']                  \n",
            " n)                                                                                               \n",
            "                                                                                                  \n",
            " regnetx002_Stage_3_XBlock_0_co  (None, 14, 14, 368)  0          ['regnetx002_Stage_3_XBlock_0_con\n",
            " nv_1x1_1_relu (ReLU)                                            v_1x1_1_bn[0][0]']               \n",
            "                                                                                                  \n",
            " regnetx002_Stage_3_XBlock_0_co  (None, 7, 7, 368)   26496       ['regnetx002_Stage_3_XBlock_0_con\n",
            " nv_3x3 (Conv2D)                                                 v_1x1_1_relu[0][0]']             \n",
            "                                                                                                  \n",
            " regnetx002_Stage_3_XBlock_0_co  (None, 7, 7, 368)   1472        ['regnetx002_Stage_3_XBlock_0_con\n",
            " nv_3x3_bn (BatchNormalization)                                  v_3x3[0][0]']                    \n",
            "                                                                                                  \n",
            " regnetx002_Stage_3_XBlock_0_co  (None, 7, 7, 368)   0           ['regnetx002_Stage_3_XBlock_0_con\n",
            " nv_3x3_relu (ReLU)                                              v_3x3_bn[0][0]']                 \n",
            "                                                                                                  \n",
            " regnetx002_Stage_3_XBlock_0_co  (None, 7, 7, 368)   135424      ['regnetx002_Stage_3_XBlock_0_con\n",
            " nv_1x1_2 (Conv2D)                                               v_3x3_relu[0][0]']               \n",
            "                                                                                                  \n",
            " regnetx002_Stage_3_XBlock_0_sk  (None, 7, 7, 368)   55936       ['regnetx002_Stage_2_XBlock_3_exi\n",
            " ip_1x1 (Conv2D)                                                 t_relu[0][0]']                   \n",
            "                                                                                                  \n",
            " regnetx002_Stage_3_XBlock_0_co  (None, 7, 7, 368)   1472        ['regnetx002_Stage_3_XBlock_0_con\n",
            " nv_1x1_2_bn (BatchNormalizatio                                  v_1x1_2[0][0]']                  \n",
            " n)                                                                                               \n",
            "                                                                                                  \n",
            " regnetx002_Stage_3_XBlock_0_sk  (None, 7, 7, 368)   1472        ['regnetx002_Stage_3_XBlock_0_ski\n",
            " ip_bn (BatchNormalization)                                      p_1x1[0][0]']                    \n",
            "                                                                                                  \n",
            " tf.__operators__.add_6 (TFOpLa  (None, 7, 7, 368)   0           ['regnetx002_Stage_3_XBlock_0_con\n",
            " mbda)                                                           v_1x1_2_bn[0][0]',               \n",
            "                                                                  'regnetx002_Stage_3_XBlock_0_ski\n",
            "                                                                 p_bn[0][0]']                     \n",
            "                                                                                                  \n",
            " regnetx002_Stage_3_XBlock_0_ex  (None, 7, 7, 368)   0           ['tf.__operators__.add_6[0][0]'] \n",
            " it_relu (ReLU)                                                                                   \n",
            "                                                                                                  \n",
            " regnetx002_Stage_3_XBlock_1_co  (None, 7, 7, 368)   135424      ['regnetx002_Stage_3_XBlock_0_exi\n",
            " nv_1x1_1 (Conv2D)                                               t_relu[0][0]']                   \n",
            "                                                                                                  \n",
            " regnetx002_Stage_3_XBlock_1_co  (None, 7, 7, 368)   1472        ['regnetx002_Stage_3_XBlock_1_con\n",
            " nv_1x1_1_bn (BatchNormalizatio                                  v_1x1_1[0][0]']                  \n",
            " n)                                                                                               \n",
            "                                                                                                  \n",
            " regnetx002_Stage_3_XBlock_1_co  (None, 7, 7, 368)   0           ['regnetx002_Stage_3_XBlock_1_con\n",
            " nv_1x1_1_relu (ReLU)                                            v_1x1_1_bn[0][0]']               \n",
            "                                                                                                  \n",
            " regnetx002_Stage_3_XBlock_1_co  (None, 7, 7, 368)   26496       ['regnetx002_Stage_3_XBlock_1_con\n",
            " nv_3x3 (Conv2D)                                                 v_1x1_1_relu[0][0]']             \n",
            "                                                                                                  \n",
            " regnetx002_Stage_3_XBlock_1_co  (None, 7, 7, 368)   1472        ['regnetx002_Stage_3_XBlock_1_con\n",
            " nv_3x3_bn (BatchNormalization)                                  v_3x3[0][0]']                    \n",
            "                                                                                                  \n",
            " regnetx002_Stage_3_XBlock_1_co  (None, 7, 7, 368)   0           ['regnetx002_Stage_3_XBlock_1_con\n",
            " nv_3x3_relu (ReLU)                                              v_3x3_bn[0][0]']                 \n",
            "                                                                                                  \n",
            " regnetx002_Stage_3_XBlock_1_co  (None, 7, 7, 368)   135424      ['regnetx002_Stage_3_XBlock_1_con\n",
            " nv_1x1_2 (Conv2D)                                               v_3x3_relu[0][0]']               \n",
            "                                                                                                  \n",
            " regnetx002_Stage_3_XBlock_1_co  (None, 7, 7, 368)   1472        ['regnetx002_Stage_3_XBlock_1_con\n",
            " nv_1x1_2_bn (BatchNormalizatio                                  v_1x1_2[0][0]']                  \n",
            " n)                                                                                               \n",
            "                                                                                                  \n",
            " tf.__operators__.add_7 (TFOpLa  (None, 7, 7, 368)   0           ['regnetx002_Stage_3_XBlock_1_con\n",
            " mbda)                                                           v_1x1_2_bn[0][0]',               \n",
            "                                                                  'regnetx002_Stage_3_XBlock_0_exi\n",
            "                                                                 t_relu[0][0]']                   \n",
            "                                                                                                  \n",
            " regnetx002_Stage_3_XBlock_1_ex  (None, 7, 7, 368)   0           ['tf.__operators__.add_7[0][0]'] \n",
            " it_relu (ReLU)                                                                                   \n",
            "                                                                                                  \n",
            " regnetx002_Stage_3_XBlock_2_co  (None, 7, 7, 368)   135424      ['regnetx002_Stage_3_XBlock_1_exi\n",
            " nv_1x1_1 (Conv2D)                                               t_relu[0][0]']                   \n",
            "                                                                                                  \n",
            " regnetx002_Stage_3_XBlock_2_co  (None, 7, 7, 368)   1472        ['regnetx002_Stage_3_XBlock_2_con\n",
            " nv_1x1_1_bn (BatchNormalizatio                                  v_1x1_1[0][0]']                  \n",
            " n)                                                                                               \n",
            "                                                                                                  \n",
            " regnetx002_Stage_3_XBlock_2_co  (None, 7, 7, 368)   0           ['regnetx002_Stage_3_XBlock_2_con\n",
            " nv_1x1_1_relu (ReLU)                                            v_1x1_1_bn[0][0]']               \n",
            "                                                                                                  \n",
            " regnetx002_Stage_3_XBlock_2_co  (None, 7, 7, 368)   26496       ['regnetx002_Stage_3_XBlock_2_con\n",
            " nv_3x3 (Conv2D)                                                 v_1x1_1_relu[0][0]']             \n",
            "                                                                                                  \n",
            " regnetx002_Stage_3_XBlock_2_co  (None, 7, 7, 368)   1472        ['regnetx002_Stage_3_XBlock_2_con\n",
            " nv_3x3_bn (BatchNormalization)                                  v_3x3[0][0]']                    \n",
            "                                                                                                  \n",
            " regnetx002_Stage_3_XBlock_2_co  (None, 7, 7, 368)   0           ['regnetx002_Stage_3_XBlock_2_con\n",
            " nv_3x3_relu (ReLU)                                              v_3x3_bn[0][0]']                 \n",
            "                                                                                                  \n",
            " regnetx002_Stage_3_XBlock_2_co  (None, 7, 7, 368)   135424      ['regnetx002_Stage_3_XBlock_2_con\n",
            " nv_1x1_2 (Conv2D)                                               v_3x3_relu[0][0]']               \n",
            "                                                                                                  \n",
            " regnetx002_Stage_3_XBlock_2_co  (None, 7, 7, 368)   1472        ['regnetx002_Stage_3_XBlock_2_con\n",
            " nv_1x1_2_bn (BatchNormalizatio                                  v_1x1_2[0][0]']                  \n",
            " n)                                                                                               \n",
            "                                                                                                  \n",
            " tf.__operators__.add_8 (TFOpLa  (None, 7, 7, 368)   0           ['regnetx002_Stage_3_XBlock_2_con\n",
            " mbda)                                                           v_1x1_2_bn[0][0]',               \n",
            "                                                                  'regnetx002_Stage_3_XBlock_1_exi\n",
            "                                                                 t_relu[0][0]']                   \n",
            "                                                                                                  \n",
            " regnetx002_Stage_3_XBlock_2_ex  (None, 7, 7, 368)   0           ['tf.__operators__.add_8[0][0]'] \n",
            " it_relu (ReLU)                                                                                   \n",
            "                                                                                                  \n",
            " regnetx002_Stage_3_XBlock_3_co  (None, 7, 7, 368)   135424      ['regnetx002_Stage_3_XBlock_2_exi\n",
            " nv_1x1_1 (Conv2D)                                               t_relu[0][0]']                   \n",
            "                                                                                                  \n",
            " regnetx002_Stage_3_XBlock_3_co  (None, 7, 7, 368)   1472        ['regnetx002_Stage_3_XBlock_3_con\n",
            " nv_1x1_1_bn (BatchNormalizatio                                  v_1x1_1[0][0]']                  \n",
            " n)                                                                                               \n",
            "                                                                                                  \n",
            " regnetx002_Stage_3_XBlock_3_co  (None, 7, 7, 368)   0           ['regnetx002_Stage_3_XBlock_3_con\n",
            " nv_1x1_1_relu (ReLU)                                            v_1x1_1_bn[0][0]']               \n",
            "                                                                                                  \n",
            " regnetx002_Stage_3_XBlock_3_co  (None, 7, 7, 368)   26496       ['regnetx002_Stage_3_XBlock_3_con\n",
            " nv_3x3 (Conv2D)                                                 v_1x1_1_relu[0][0]']             \n",
            "                                                                                                  \n",
            " regnetx002_Stage_3_XBlock_3_co  (None, 7, 7, 368)   1472        ['regnetx002_Stage_3_XBlock_3_con\n",
            " nv_3x3_bn (BatchNormalization)                                  v_3x3[0][0]']                    \n",
            "                                                                                                  \n",
            " regnetx002_Stage_3_XBlock_3_co  (None, 7, 7, 368)   0           ['regnetx002_Stage_3_XBlock_3_con\n",
            " nv_3x3_relu (ReLU)                                              v_3x3_bn[0][0]']                 \n",
            "                                                                                                  \n",
            " regnetx002_Stage_3_XBlock_3_co  (None, 7, 7, 368)   135424      ['regnetx002_Stage_3_XBlock_3_con\n",
            " nv_1x1_2 (Conv2D)                                               v_3x3_relu[0][0]']               \n",
            "                                                                                                  \n",
            " regnetx002_Stage_3_XBlock_3_co  (None, 7, 7, 368)   1472        ['regnetx002_Stage_3_XBlock_3_con\n",
            " nv_1x1_2_bn (BatchNormalizatio                                  v_1x1_2[0][0]']                  \n",
            " n)                                                                                               \n",
            "                                                                                                  \n",
            " tf.__operators__.add_9 (TFOpLa  (None, 7, 7, 368)   0           ['regnetx002_Stage_3_XBlock_3_con\n",
            " mbda)                                                           v_1x1_2_bn[0][0]',               \n",
            "                                                                  'regnetx002_Stage_3_XBlock_2_exi\n",
            "                                                                 t_relu[0][0]']                   \n",
            "                                                                                                  \n",
            " regnetx002_Stage_3_XBlock_3_ex  (None, 7, 7, 368)   0           ['tf.__operators__.add_9[0][0]'] \n",
            " it_relu (ReLU)                                                                                   \n",
            "                                                                                                  \n",
            " regnetx002_Stage_3_XBlock_4_co  (None, 7, 7, 368)   135424      ['regnetx002_Stage_3_XBlock_3_exi\n",
            " nv_1x1_1 (Conv2D)                                               t_relu[0][0]']                   \n",
            "                                                                                                  \n",
            " regnetx002_Stage_3_XBlock_4_co  (None, 7, 7, 368)   1472        ['regnetx002_Stage_3_XBlock_4_con\n",
            " nv_1x1_1_bn (BatchNormalizatio                                  v_1x1_1[0][0]']                  \n",
            " n)                                                                                               \n",
            "                                                                                                  \n",
            " regnetx002_Stage_3_XBlock_4_co  (None, 7, 7, 368)   0           ['regnetx002_Stage_3_XBlock_4_con\n",
            " nv_1x1_1_relu (ReLU)                                            v_1x1_1_bn[0][0]']               \n",
            "                                                                                                  \n",
            " regnetx002_Stage_3_XBlock_4_co  (None, 7, 7, 368)   26496       ['regnetx002_Stage_3_XBlock_4_con\n",
            " nv_3x3 (Conv2D)                                                 v_1x1_1_relu[0][0]']             \n",
            "                                                                                                  \n",
            " regnetx002_Stage_3_XBlock_4_co  (None, 7, 7, 368)   1472        ['regnetx002_Stage_3_XBlock_4_con\n",
            " nv_3x3_bn (BatchNormalization)                                  v_3x3[0][0]']                    \n",
            "                                                                                                  \n",
            " regnetx002_Stage_3_XBlock_4_co  (None, 7, 7, 368)   0           ['regnetx002_Stage_3_XBlock_4_con\n",
            " nv_3x3_relu (ReLU)                                              v_3x3_bn[0][0]']                 \n",
            "                                                                                                  \n",
            " regnetx002_Stage_3_XBlock_4_co  (None, 7, 7, 368)   135424      ['regnetx002_Stage_3_XBlock_4_con\n",
            " nv_1x1_2 (Conv2D)                                               v_3x3_relu[0][0]']               \n",
            "                                                                                                  \n",
            " regnetx002_Stage_3_XBlock_4_co  (None, 7, 7, 368)   1472        ['regnetx002_Stage_3_XBlock_4_con\n",
            " nv_1x1_2_bn (BatchNormalizatio                                  v_1x1_2[0][0]']                  \n",
            " n)                                                                                               \n",
            "                                                                                                  \n",
            " tf.__operators__.add_10 (TFOpL  (None, 7, 7, 368)   0           ['regnetx002_Stage_3_XBlock_4_con\n",
            " ambda)                                                          v_1x1_2_bn[0][0]',               \n",
            "                                                                  'regnetx002_Stage_3_XBlock_3_exi\n",
            "                                                                 t_relu[0][0]']                   \n",
            "                                                                                                  \n",
            " regnetx002_Stage_3_XBlock_4_ex  (None, 7, 7, 368)   0           ['tf.__operators__.add_10[0][0]']\n",
            " it_relu (ReLU)                                                                                   \n",
            "                                                                                                  \n",
            " regnetx002_Stage_3_XBlock_5_co  (None, 7, 7, 368)   135424      ['regnetx002_Stage_3_XBlock_4_exi\n",
            " nv_1x1_1 (Conv2D)                                               t_relu[0][0]']                   \n",
            "                                                                                                  \n",
            " regnetx002_Stage_3_XBlock_5_co  (None, 7, 7, 368)   1472        ['regnetx002_Stage_3_XBlock_5_con\n",
            " nv_1x1_1_bn (BatchNormalizatio                                  v_1x1_1[0][0]']                  \n",
            " n)                                                                                               \n",
            "                                                                                                  \n",
            " regnetx002_Stage_3_XBlock_5_co  (None, 7, 7, 368)   0           ['regnetx002_Stage_3_XBlock_5_con\n",
            " nv_1x1_1_relu (ReLU)                                            v_1x1_1_bn[0][0]']               \n",
            "                                                                                                  \n",
            " regnetx002_Stage_3_XBlock_5_co  (None, 7, 7, 368)   26496       ['regnetx002_Stage_3_XBlock_5_con\n",
            " nv_3x3 (Conv2D)                                                 v_1x1_1_relu[0][0]']             \n",
            "                                                                                                  \n",
            " regnetx002_Stage_3_XBlock_5_co  (None, 7, 7, 368)   1472        ['regnetx002_Stage_3_XBlock_5_con\n",
            " nv_3x3_bn (BatchNormalization)                                  v_3x3[0][0]']                    \n",
            "                                                                                                  \n",
            " regnetx002_Stage_3_XBlock_5_co  (None, 7, 7, 368)   0           ['regnetx002_Stage_3_XBlock_5_con\n",
            " nv_3x3_relu (ReLU)                                              v_3x3_bn[0][0]']                 \n",
            "                                                                                                  \n",
            " regnetx002_Stage_3_XBlock_5_co  (None, 7, 7, 368)   135424      ['regnetx002_Stage_3_XBlock_5_con\n",
            " nv_1x1_2 (Conv2D)                                               v_3x3_relu[0][0]']               \n",
            "                                                                                                  \n",
            " regnetx002_Stage_3_XBlock_5_co  (None, 7, 7, 368)   1472        ['regnetx002_Stage_3_XBlock_5_con\n",
            " nv_1x1_2_bn (BatchNormalizatio                                  v_1x1_2[0][0]']                  \n",
            " n)                                                                                               \n",
            "                                                                                                  \n",
            " tf.__operators__.add_11 (TFOpL  (None, 7, 7, 368)   0           ['regnetx002_Stage_3_XBlock_5_con\n",
            " ambda)                                                          v_1x1_2_bn[0][0]',               \n",
            "                                                                  'regnetx002_Stage_3_XBlock_4_exi\n",
            "                                                                 t_relu[0][0]']                   \n",
            "                                                                                                  \n",
            " regnetx002_Stage_3_XBlock_5_ex  (None, 7, 7, 368)   0           ['tf.__operators__.add_11[0][0]']\n",
            " it_relu (ReLU)                                                                                   \n",
            "                                                                                                  \n",
            " regnetx002_Stage_3_XBlock_6_co  (None, 7, 7, 368)   135424      ['regnetx002_Stage_3_XBlock_5_exi\n",
            " nv_1x1_1 (Conv2D)                                               t_relu[0][0]']                   \n",
            "                                                                                                  \n",
            " regnetx002_Stage_3_XBlock_6_co  (None, 7, 7, 368)   1472        ['regnetx002_Stage_3_XBlock_6_con\n",
            " nv_1x1_1_bn (BatchNormalizatio                                  v_1x1_1[0][0]']                  \n",
            " n)                                                                                               \n",
            "                                                                                                  \n",
            " regnetx002_Stage_3_XBlock_6_co  (None, 7, 7, 368)   0           ['regnetx002_Stage_3_XBlock_6_con\n",
            " nv_1x1_1_relu (ReLU)                                            v_1x1_1_bn[0][0]']               \n",
            "                                                                                                  \n",
            " regnetx002_Stage_3_XBlock_6_co  (None, 7, 7, 368)   26496       ['regnetx002_Stage_3_XBlock_6_con\n",
            " nv_3x3 (Conv2D)                                                 v_1x1_1_relu[0][0]']             \n",
            "                                                                                                  \n",
            " regnetx002_Stage_3_XBlock_6_co  (None, 7, 7, 368)   1472        ['regnetx002_Stage_3_XBlock_6_con\n",
            " nv_3x3_bn (BatchNormalization)                                  v_3x3[0][0]']                    \n",
            "                                                                                                  \n",
            " regnetx002_Stage_3_XBlock_6_co  (None, 7, 7, 368)   0           ['regnetx002_Stage_3_XBlock_6_con\n",
            " nv_3x3_relu (ReLU)                                              v_3x3_bn[0][0]']                 \n",
            "                                                                                                  \n",
            " regnetx002_Stage_3_XBlock_6_co  (None, 7, 7, 368)   135424      ['regnetx002_Stage_3_XBlock_6_con\n",
            " nv_1x1_2 (Conv2D)                                               v_3x3_relu[0][0]']               \n",
            "                                                                                                  \n",
            " regnetx002_Stage_3_XBlock_6_co  (None, 7, 7, 368)   1472        ['regnetx002_Stage_3_XBlock_6_con\n",
            " nv_1x1_2_bn (BatchNormalizatio                                  v_1x1_2[0][0]']                  \n",
            " n)                                                                                               \n",
            "                                                                                                  \n",
            " tf.__operators__.add_12 (TFOpL  (None, 7, 7, 368)   0           ['regnetx002_Stage_3_XBlock_6_con\n",
            " ambda)                                                          v_1x1_2_bn[0][0]',               \n",
            "                                                                  'regnetx002_Stage_3_XBlock_5_exi\n",
            "                                                                 t_relu[0][0]']                   \n",
            "                                                                                                  \n",
            " regnetx002_Stage_3_XBlock_6_ex  (None, 7, 7, 368)   0           ['tf.__operators__.add_12[0][0]']\n",
            " it_relu (ReLU)                                                                                   \n",
            "                                                                                                  \n",
            " global_max_pooling2d (GlobalMa  (None, 368)         0           ['regnetx002_Stage_3_XBlock_6_exi\n",
            " xPooling2D)                                                     t_relu[0][0]']                   \n",
            "                                                                                                  \n",
            " dense (Dense)                  (None, 512)          188928      ['global_max_pooling2d[0][0]']   \n",
            "                                                                                                  \n",
            " dropout (Dropout)              (None, 512)          0           ['dense[0][0]']                  \n",
            "                                                                                                  \n",
            " dense_1 (Dense)                (None, 3)            1539        ['dropout[0][0]']                \n",
            "                                                                                                  \n",
            "==================================================================================================\n",
            "Total params: 2,527,107\n",
            "Trainable params: 806,003\n",
            "Non-trainable params: 1,721,104\n",
            "__________________________________________________________________________________________________\n"
          ]
        }
      ],
      "source": [
        "model.summary()"
      ]
    },
    {
      "cell_type": "code",
      "execution_count": 36,
      "metadata": {
        "id": "7LFOlxUcSU2B"
      },
      "outputs": [],
      "source": [
        "learning_rate_reduction = ReduceLROnPlateau(monitor='val_acc', patience=3, verbose=1, factor=0.5, \n",
        "                                            min_lr=0.0001, cooldown=2)"
      ]
    },
    {
      "cell_type": "code",
      "execution_count": 38,
      "metadata": {
        "colab": {
          "base_uri": "https://localhost:8080/"
        },
        "id": "dMFvSqtXSVM_",
        "outputId": "53e08611-76cd-4eb0-b058-8afafb5228f7"
      },
      "outputs": [
        {
          "output_type": "stream",
          "name": "stderr",
          "text": [
            "<ipython-input-38-62995ea68b8c>:3: UserWarning: `Model.fit_generator` is deprecated and will be removed in a future version. Please use `Model.fit`, which supports generators.\n",
            "  history = model.fit_generator(train_datagen.flow(X_train,y_train, batch_size=batch_size),\n"
          ]
        },
        {
          "output_type": "stream",
          "name": "stdout",
          "text": [
            "Epoch 1/30\n",
            "79/79 [==============================] - 51s 642ms/step - loss: 1.6255 - acc: 0.6062 - val_loss: 0.8714 - val_acc: 0.7484 - lr: 1.0000e-04\n",
            "Epoch 2/30\n",
            "79/79 [==============================] - 47s 589ms/step - loss: 1.0272 - acc: 0.6867 - val_loss: 0.5881 - val_acc: 0.7911 - lr: 1.0000e-04\n",
            "Epoch 3/30\n",
            "79/79 [==============================] - 46s 584ms/step - loss: 0.7867 - acc: 0.7338 - val_loss: 0.5211 - val_acc: 0.7961 - lr: 1.0000e-04\n",
            "Epoch 4/30\n",
            "79/79 [==============================] - 47s 594ms/step - loss: 0.6568 - acc: 0.7575 - val_loss: 0.5360 - val_acc: 0.8076 - lr: 1.0000e-04\n",
            "Epoch 5/30\n",
            "79/79 [==============================] - 46s 583ms/step - loss: 0.6042 - acc: 0.7708 - val_loss: 0.5692 - val_acc: 0.7829 - lr: 1.0000e-04\n",
            "Epoch 6/30\n",
            "79/79 [==============================] - 47s 587ms/step - loss: 0.5528 - acc: 0.7886 - val_loss: 0.4977 - val_acc: 0.7993 - lr: 1.0000e-04\n",
            "Epoch 7/30\n",
            "79/79 [==============================] - 47s 587ms/step - loss: 0.5169 - acc: 0.8047 - val_loss: 0.4924 - val_acc: 0.8306 - lr: 1.0000e-04\n",
            "Epoch 8/30\n",
            "79/79 [==============================] - 47s 589ms/step - loss: 0.5105 - acc: 0.8025 - val_loss: 0.4713 - val_acc: 0.8224 - lr: 1.0000e-04\n",
            "Epoch 9/30\n",
            "79/79 [==============================] - 46s 585ms/step - loss: 0.5021 - acc: 0.8125 - val_loss: 0.4423 - val_acc: 0.8372 - lr: 1.0000e-04\n",
            "Epoch 10/30\n",
            "79/79 [==============================] - 46s 580ms/step - loss: 0.4711 - acc: 0.8194 - val_loss: 0.4346 - val_acc: 0.8339 - lr: 1.0000e-04\n",
            "Epoch 11/30\n",
            "79/79 [==============================] - 46s 582ms/step - loss: 0.4619 - acc: 0.8260 - val_loss: 0.4198 - val_acc: 0.8355 - lr: 1.0000e-04\n",
            "Epoch 12/30\n",
            "79/79 [==============================] - 46s 579ms/step - loss: 0.4424 - acc: 0.8312 - val_loss: 0.4359 - val_acc: 0.8536 - lr: 1.0000e-04\n",
            "Epoch 13/30\n",
            "79/79 [==============================] - 46s 581ms/step - loss: 0.4276 - acc: 0.8278 - val_loss: 0.4230 - val_acc: 0.8470 - lr: 1.0000e-04\n",
            "Epoch 14/30\n",
            "79/79 [==============================] - 46s 580ms/step - loss: 0.4273 - acc: 0.8338 - val_loss: 0.4103 - val_acc: 0.8618 - lr: 1.0000e-04\n",
            "Epoch 15/30\n",
            "79/79 [==============================] - 46s 579ms/step - loss: 0.4176 - acc: 0.8406 - val_loss: 0.4206 - val_acc: 0.8635 - lr: 1.0000e-04\n",
            "Epoch 16/30\n",
            "79/79 [==============================] - 46s 579ms/step - loss: 0.4035 - acc: 0.8434 - val_loss: 0.4171 - val_acc: 0.8503 - lr: 1.0000e-04\n",
            "Epoch 17/30\n",
            "79/79 [==============================] - 46s 586ms/step - loss: 0.3931 - acc: 0.8523 - val_loss: 0.4159 - val_acc: 0.8388 - lr: 1.0000e-04\n",
            "Epoch 18/30\n",
            "79/79 [==============================] - 46s 581ms/step - loss: 0.3761 - acc: 0.8613 - val_loss: 0.4582 - val_acc: 0.8289 - lr: 1.0000e-04\n",
            "Epoch 19/30\n",
            "79/79 [==============================] - 46s 582ms/step - loss: 0.3557 - acc: 0.8647 - val_loss: 0.4103 - val_acc: 0.8553 - lr: 1.0000e-04\n",
            "Epoch 20/30\n",
            "79/79 [==============================] - 46s 583ms/step - loss: 0.3517 - acc: 0.8629 - val_loss: 0.3458 - val_acc: 0.8832 - lr: 1.0000e-04\n",
            "Epoch 21/30\n",
            "79/79 [==============================] - 46s 583ms/step - loss: 0.3560 - acc: 0.8595 - val_loss: 0.4036 - val_acc: 0.8618 - lr: 1.0000e-04\n",
            "Epoch 22/30\n",
            "79/79 [==============================] - 47s 598ms/step - loss: 0.3398 - acc: 0.8643 - val_loss: 0.4305 - val_acc: 0.8503 - lr: 1.0000e-04\n",
            "Epoch 23/30\n",
            "79/79 [==============================] - 46s 580ms/step - loss: 0.3328 - acc: 0.8733 - val_loss: 0.3899 - val_acc: 0.8717 - lr: 1.0000e-04\n",
            "Epoch 24/30\n",
            "79/79 [==============================] - 46s 581ms/step - loss: 0.3245 - acc: 0.8737 - val_loss: 0.3661 - val_acc: 0.8618 - lr: 1.0000e-04\n",
            "Epoch 25/30\n",
            "79/79 [==============================] - 46s 582ms/step - loss: 0.2999 - acc: 0.8828 - val_loss: 0.4049 - val_acc: 0.8717 - lr: 1.0000e-04\n",
            "Epoch 26/30\n",
            "79/79 [==============================] - 46s 582ms/step - loss: 0.3056 - acc: 0.8786 - val_loss: 0.4290 - val_acc: 0.8586 - lr: 1.0000e-04\n",
            "Epoch 27/30\n",
            "79/79 [==============================] - 46s 582ms/step - loss: 0.2941 - acc: 0.8824 - val_loss: 0.3978 - val_acc: 0.8635 - lr: 1.0000e-04\n",
            "Epoch 28/30\n",
            "79/79 [==============================] - 46s 584ms/step - loss: 0.2809 - acc: 0.8902 - val_loss: 0.3841 - val_acc: 0.8816 - lr: 1.0000e-04\n",
            "Epoch 29/30\n",
            "79/79 [==============================] - 46s 579ms/step - loss: 0.2681 - acc: 0.8966 - val_loss: 0.3474 - val_acc: 0.8799 - lr: 1.0000e-04\n",
            "Epoch 30/30\n",
            "79/79 [==============================] - 47s 588ms/step - loss: 0.2810 - acc: 0.8896 - val_loss: 0.3556 - val_acc: 0.8734 - lr: 1.0000e-04\n"
          ]
        }
      ],
      "source": [
        "batch_size = 64\n",
        "epochs = 30\n",
        "history = model.fit_generator(train_datagen.flow(X_train,y_train, batch_size=batch_size),\n",
        "                              epochs = epochs,  validation_data = val_datagen.flow(X_val, y_val),\n",
        "                              verbose = 1, steps_per_epoch=(X_train.shape[0] // batch_size),\n",
        "                              validation_steps=(X_val.shape[0] // batch_size),\n",
        "                              callbacks=[learning_rate_reduction])"
      ]
    },
    {
      "cell_type": "code",
      "execution_count": 39,
      "metadata": {
        "colab": {
          "base_uri": "https://localhost:8080/"
        },
        "id": "TJGJAPQku_K1",
        "outputId": "7d3a1c30-5a63-4203-f214-04d868fa0e71"
      },
      "outputs": [
        {
          "output_type": "stream",
          "name": "stdout",
          "text": [
            "Looking in indexes: https://pypi.org/simple, https://us-python.pkg.dev/colab-wheels/public/simple/\n",
            "\u001b[31mERROR: Could not find a version that satisfies the requirement pickle (from versions: none)\u001b[0m\u001b[31m\n",
            "\u001b[0m\u001b[31mERROR: No matching distribution found for pickle\u001b[0m\u001b[31m\n",
            "\u001b[0m"
          ]
        }
      ],
      "source": [
        "!pip install pickle"
      ]
    },
    {
      "cell_type": "code",
      "execution_count": 40,
      "metadata": {
        "id": "YsEjwZYMu_K1"
      },
      "outputs": [],
      "source": [
        "import pickle"
      ]
    },
    {
      "cell_type": "code",
      "execution_count": 41,
      "metadata": {
        "colab": {
          "base_uri": "https://localhost:8080/"
        },
        "id": "LkIoJZ5Qu_K1",
        "outputId": "e4fe4c2e-73ed-43b5-cb5e-51b075907983"
      },
      "outputs": [
        {
          "output_type": "stream",
          "name": "stderr",
          "text": [
            "WARNING:absl:Found untraced functions such as _jit_compiled_convolution_op, _jit_compiled_convolution_op, _jit_compiled_convolution_op, _jit_compiled_convolution_op, _jit_compiled_convolution_op while saving (showing 5 of 31). These functions will not be directly callable after loading.\n"
          ]
        }
      ],
      "source": [
        "pickle.dump(model, open('model_multi.sav', 'wb'))"
      ]
    },
    {
      "cell_type": "code",
      "execution_count": 42,
      "metadata": {
        "colab": {
          "base_uri": "https://localhost:8080/"
        },
        "id": "ZtZyJSjES9w0",
        "outputId": "a50bbdc9-e34f-4109-b21e-152928b6f7f4"
      },
      "outputs": [
        {
          "output_type": "stream",
          "name": "stdout",
          "text": [
            "40/40 [==============================] - 3s 59ms/step - loss: 0.3858 - acc: 0.8756\n",
            "Validation: accuracy = 0.875591  ;  loss_v = 0.385790\n"
          ]
        }
      ],
      "source": [
        "loss_val, acc_val = model.evaluate(X_val, y_val, verbose=1)\n",
        "print(\"Validation: accuracy = %f  ;  loss_v = %f\" % (acc_val, loss_val))"
      ]
    },
    {
      "cell_type": "code",
      "execution_count": 43,
      "metadata": {
        "colab": {
          "base_uri": "https://localhost:8080/"
        },
        "id": "aGT5fJX_wNbO",
        "outputId": "3f64bb56-f0d1-473f-ed21-38803665231c"
      },
      "outputs": [
        {
          "output_type": "stream",
          "name": "stdout",
          "text": [
            "40/40 [==============================] - 2s 21ms/step\n"
          ]
        }
      ],
      "source": [
        "prediction = model.predict(X_val)"
      ]
    },
    {
      "cell_type": "code",
      "execution_count": 44,
      "metadata": {
        "id": "-jMwSsK0w_XB"
      },
      "outputs": [],
      "source": [
        "y_pred = np.argmax(prediction, axis=1)"
      ]
    },
    {
      "cell_type": "code",
      "execution_count": 45,
      "metadata": {
        "colab": {
          "base_uri": "https://localhost:8080/"
        },
        "id": "EaR-0ekVx-fl",
        "outputId": "4867d81a-ae86-4d4f-cf5d-4fd238163e7e"
      },
      "outputs": [
        {
          "output_type": "execute_result",
          "data": {
            "text/plain": [
              "array([0, 1, 2])"
            ]
          },
          "metadata": {},
          "execution_count": 45
        }
      ],
      "source": [
        "np.unique(y_pred)"
      ]
    },
    {
      "cell_type": "code",
      "execution_count": 46,
      "metadata": {
        "id": "kHSQNrOhxyq0"
      },
      "outputs": [],
      "source": [
        "from sklearn import preprocessing\n",
        "le = preprocessing.LabelEncoder()\n",
        "le.fit(test_labels_lbp)\n",
        "test_labels_encoded = le.transform(test_labels_lbp)"
      ]
    },
    {
      "cell_type": "code",
      "execution_count": 47,
      "metadata": {
        "colab": {
          "base_uri": "https://localhost:8080/"
        },
        "id": "c-TW3EqxxFu_",
        "outputId": "f4708309-ae9a-464d-daf7-1c9d1b665081"
      },
      "outputs": [
        {
          "output_type": "execute_result",
          "data": {
            "text/plain": [
              "array([0, 1, 2])"
            ]
          },
          "metadata": {},
          "execution_count": 47
        }
      ],
      "source": [
        "np.unique(test_labels_encoded)"
      ]
    },
    {
      "cell_type": "code",
      "execution_count": 48,
      "metadata": {
        "colab": {
          "base_uri": "https://localhost:8080/"
        },
        "id": "1nO2b0HzxJwu",
        "outputId": "e31c302c-4209-4f05-e4c6-c998474567bb"
      },
      "outputs": [
        {
          "output_type": "stream",
          "name": "stdout",
          "text": [
            "0.7674596478866711\n"
          ]
        }
      ],
      "source": [
        "from sklearn.metrics import cohen_kappa_score\n",
        "kappa = cohen_kappa_score(y_pred, test_labels_encoded)\n",
        "print(kappa)"
      ]
    },
    {
      "cell_type": "code",
      "execution_count": 49,
      "metadata": {
        "colab": {
          "base_uri": "https://localhost:8080/",
          "height": 295
        },
        "id": "Bfn66KHVvU2I",
        "outputId": "48090e11-f181-4c71-c846-8c225f4cd37b"
      },
      "outputs": [
        {
          "output_type": "display_data",
          "data": {
            "text/plain": [
              "<Figure size 432x288 with 1 Axes>"
            ],
            "image/png": "[encoded data removed]"
          },
          "metadata": {
            "needs_background": "light"
          }
        }
      ],
      "source": [
        "plt.plot(history.history['loss'])\n",
        "plt.plot(history.history['val_loss'])\n",
        "plt.title('Model loss')\n",
        "plt.ylabel('Loss')\n",
        "plt.xlabel('Epoch')\n",
        "plt.legend(['Train', 'Val'], loc='upper left')\n",
        "plt.show()"
      ]
    },
    {
      "cell_type": "code",
      "execution_count": 50,
      "metadata": {
        "colab": {
          "base_uri": "https://localhost:8080/",
          "height": 295
        },
        "id": "am9sZP65vcXQ",
        "outputId": "34a5aa8e-896c-4050-e81f-d2616283adc8"
      },
      "outputs": [
        {
          "output_type": "display_data",
          "data": {
            "text/plain": [
              "<Figure size 432x288 with 1 Axes>"
            ],
            "image/png": "[encoded data removed]"
          },
          "metadata": {
            "needs_background": "light"
          }
        }
      ],
      "source": [
        "plt.plot(history.history['acc'])\n",
        "plt.plot(history.history['val_acc'])\n",
        "plt.title('Model accuracy')\n",
        "plt.ylabel('Accuracy')\n",
        "plt.xlabel('Epoch')\n",
        "plt.legend(['Train', 'Val'], loc='upper left')\n",
        "plt.show()"
      ]
    },
    {
      "cell_type": "code",
      "execution_count": null,
      "metadata": {
        "colab": {
          "base_uri": "https://localhost:8080/"
        },
        "id": "HBUCTffdozNk",
        "outputId": "f3e91df9-f7a0-4ca2-c493-9e474929bcae"
      },
      "outputs": [
        {
          "name": "stdout",
          "output_type": "stream",
          "text": [
            "Looking in indexes: https://pypi.org/simple, https://us-python.pkg.dev/colab-wheels/public/simple/\n",
            "Requirement already satisfied: tensorflow_addons in /usr/local/lib/python3.8/dist-packages (0.19.0)\n",
            "Requirement already satisfied: packaging in /usr/local/lib/python3.8/dist-packages (from tensorflow_addons) (21.3)\n",
            "Requirement already satisfied: typeguard>=2.7 in /usr/local/lib/python3.8/dist-packages (from tensorflow_addons) (2.7.1)\n",
            "Requirement already satisfied: pyparsing!=3.0.5,>=2.0.2 in /usr/local/lib/python3.8/dist-packages (from packaging->tensorflow_addons) (3.0.9)\n"
          ]
        }
      ],
      "source": [
        "!pip install tensorflow_addons"
      ]
    }
  ],
  "metadata": {
    "accelerator": "GPU",
    "colab": {
      "machine_shape": "hm",
      "provenance": [],
      "include_colab_link": true
    },
    "gpuClass": "standard",
    "kernelspec": {
      "display_name": "Python 3 (ipykernel)",
      "language": "python",
      "name": "python3"
    },
    "language_info": {
      "codemirror_mode": {
        "name": "ipython",
        "version": 3
      },
      "file_extension": ".py",
      "mimetype": "text/x-python",
      "name": "python",
      "nbconvert_exporter": "python",
      "pygments_lexer": "ipython3",
      "version": "3.10.6"
    }
  },
  "nbformat": 4,
  "nbformat_minor": 0
}