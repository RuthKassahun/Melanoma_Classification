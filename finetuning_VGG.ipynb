{
  "cells": [
    {
      "cell_type": "markdown",
      "metadata": {
        "id": "view-in-github",
        "colab_type": "text"
      },
      "source": [
        "<a href=\"https://colab.research.google.com/github/RuthKassahun/Melanoma_Classification/blob/main/finetuning_VGG.ipynb\" target=\"_parent\"><img src=\"https://colab.research.google.com/assets/colab-badge.svg\" alt=\"Open In Colab\"/></a>"
      ]
    },
    {
      "cell_type": "code",
      "execution_count": 1,
      "metadata": {
        "id": "m19hdxiiu_Kl"
      },
      "outputs": [],
      "source": [
        "import tensorflow as tf"
      ]
    },
    {
      "cell_type": "code",
      "execution_count": null,
      "metadata": {
        "id": "6zRAdpWsu_Kq",
        "outputId": "79f40d9d-4e6d-489c-d445-0c5b67a60e53"
      },
      "outputs": [
        {
          "name": "stdout",
          "output_type": "stream",
          "text": [
            "Num GPUs Available:  3\n",
            "3 Physical GPUs,  1 Logical GPU\n"
          ]
        },
        {
          "name": "stderr",
          "output_type": "stream",
          "text": [
            "2023-01-14 23:30:27.210739: I tensorflow/core/platform/cpu_feature_guard.cc:193] This TensorFlow binary is optimized with oneAPI Deep Neural Network Library (oneDNN) to use the following CPU instructions in performance-critical operations:  AVX2 AVX512F AVX512_VNNI FMA\n",
            "To enable them in other operations, rebuild TensorFlow with the appropriate compiler flags.\n",
            "2023-01-14 23:30:31.174888: I tensorflow/core/common_runtime/gpu/gpu_device.cc:1613] Created device /job:localhost/replica:0/task:0/device:GPU:0 with 22104 MB memory:  -> device: 2, name: NVIDIA A30, pci bus id: 0000:ca:00.0, compute capability: 8.0\n"
          ]
        }
      ],
      "source": [
        "selected_gpu = 2 # here you select the GPU used (0, 1 or 2)\n",
        "gpus = tf.config.experimental.list_physical_devices('GPU')\n",
        "print(\"Num GPUs Available: \", len(gpus))\n",
        "if gpus:\n",
        "    try:\n",
        "        tf.config.set_visible_devices(gpus[selected_gpu], 'GPU')\n",
        "        logical_gpus = tf.config.list_logical_devices('GPU')\n",
        "        print(len(gpus), \"Physical GPUs, \", len(logical_gpus),\"Logical GPU\")\n",
        "    except RuntimeError as e:\n",
        "    # Visible devices must be set before GPUs have been initialized\n",
        "        print(e)"
      ]
    },
    {
      "cell_type": "code",
      "execution_count": 2,
      "metadata": {
        "id": "g22aFLCzu_Kr"
      },
      "outputs": [],
      "source": [
        "from keras.applications.vgg16 import VGG16"
      ]
    },
    {
      "cell_type": "code",
      "execution_count": 3,
      "metadata": {
        "id": "Jz25dwwbOB5q"
      },
      "outputs": [],
      "source": [
        "import os\n",
        "from glob import glob\n",
        "import cv2\n",
        "import glob\n",
        "\n",
        "import pandas as pd\n",
        "import numpy as np\n",
        "from sklearn.model_selection import train_test_split\n",
        "from keras.utils.np_utils import to_categorical # convert to one-hot-encoding\n",
        "from sklearn import preprocessing\n",
        "from keras.preprocessing.image import ImageDataGenerator\n",
        "from keras import layers\n",
        "from keras import Model\n",
        "from keras.applications.densenet import DenseNet201\n",
        "from keras.applications.efficientnet import EfficientNetB0\n",
        "from keras.applications.mobilenet_v2 import MobileNetV2\n",
        "from keras.optimizers import Adam\n",
        "from keras.callbacks import ReduceLROnPlateau\n",
        "import keras.backend as K\n",
        "\n",
        "%matplotlib inline\n",
        "import matplotlib.pyplot as plt"
      ]
    },
    {
      "cell_type": "code",
      "source": [
        "from google.colab import drive\n",
        "drive.mount('/content/drive')"
      ],
      "metadata": {
        "colab": {
          "base_uri": "https://localhost:8080/"
        },
        "id": "jXJ3WgHvvee4",
        "outputId": "7d357e9b-d5b7-4e38-c731-8fe86690f031"
      },
      "execution_count": 4,
      "outputs": [
        {
          "output_type": "stream",
          "name": "stdout",
          "text": [
            "Mounted at /content/drive\n"
          ]
        }
      ]
    },
    {
      "cell_type": "code",
      "execution_count": 5,
      "metadata": {
        "id": "-lpAcRkOOkZe"
      },
      "outputs": [],
      "source": [
        "SIZE = 224\n",
        "train_images_lbp = []\n",
        "train_labels_lbp = []\n",
        "for directory_path in glob.glob(\"/content/drive/MyDrive/MultiClass_Skin_lesion/train/*\"):\n",
        "    label_lbp_train = directory_path.split(\"/\")[-1]\n",
        "    label = directory_path.split(\"/\")[-1]\n",
        "    #print(label_lbp_train)\n",
        "    for img_path in glob.glob(os.path.join(directory_path, \"*.jpg\")):\n",
        "        #print(img_path)\n",
        "        img1 = cv2.imread(img_path,1) #Reading color images\n",
        "        img1 = cv2.resize(img1, (SIZE, SIZE)) #Resize images\n",
        "        arr = np.array(img1) # convert the image to numpy array\n",
        "        train_images_lbp.append(arr)\n",
        "        train_labels_lbp.append(label_lbp_train)\n",
        "\n",
        "train_images_lbp =np.array(train_images_lbp)\n",
        "trait_labels_lbp =np.array(train_labels_lbp)"
      ]
    },
    {
      "cell_type": "code",
      "execution_count": 6,
      "metadata": {
        "id": "XfZaW1FUu_Ks"
      },
      "outputs": [],
      "source": [
        "from sklearn.utils import class_weight"
      ]
    },
    {
      "cell_type": "code",
      "execution_count": 7,
      "metadata": {
        "id": "eUONlmTxzcet"
      },
      "outputs": [],
      "source": [
        "from sklearn.utils.class_weight import compute_class_weight\n",
        "class_weights = compute_class_weight(class_weight = \"balanced\", classes= np.unique(trait_labels_lbp), y= trait_labels_lbp)"
      ]
    },
    {
      "cell_type": "code",
      "execution_count": null,
      "metadata": {
        "id": "VmXrk32NPKpF"
      },
      "outputs": [],
      "source": [
        "#train_images_lbp.shape"
      ]
    },
    {
      "cell_type": "code",
      "execution_count": null,
      "metadata": {
        "id": "vd2CCcplQo2O"
      },
      "outputs": [],
      "source": [
        "#trait_labels_lbp.shape"
      ]
    },
    {
      "cell_type": "code",
      "execution_count": 8,
      "metadata": {
        "id": "VMrFyqwwPSK1"
      },
      "outputs": [],
      "source": [
        "test_images_lbp = []\n",
        "test_labels_lbp = [] \n",
        "#for directory_path in glob.glob(\"cell_images/train/*\"):\n",
        "for directory_path in glob.glob(\"/content/drive/MyDrive/MultiClass_Skin_lesion/val/*\"):\n",
        "    label_lbp_test = directory_path.split(\"/\")[-1]\n",
        "    label = directory_path.split(\"/\")[-1]\n",
        "    #print(label_lbp_test)\n",
        "    for img_path in glob.glob(os.path.join(directory_path, \"*.jpg\")):\n",
        "        #print(img_path)\n",
        "        img2 = cv2.imread(img_path,1) #Reading color images\n",
        "        img2 = cv2.resize(img2, (SIZE, SIZE)) #Resize images\n",
        "        arr = np.array(img2) # convert the image to numpy array\n",
        "        test_images_lbp.append(arr)\n",
        "        test_labels_lbp.append(label_lbp_test)\n",
        "\n",
        "test_images_lbp =np.array(test_images_lbp)\n",
        "test_labels_lbp =np.array(test_labels_lbp)"
      ]
    },
    {
      "cell_type": "code",
      "execution_count": 9,
      "metadata": {
        "colab": {
          "base_uri": "https://localhost:8080/"
        },
        "id": "wcbgCL8dP06v",
        "outputId": "9f3e90f8-ec69-4c3b-d899-77bf75684825"
      },
      "outputs": [
        {
          "output_type": "execute_result",
          "data": {
            "text/plain": [
              "(1270, 224, 224, 3)"
            ]
          },
          "metadata": {},
          "execution_count": 9
        }
      ],
      "source": [
        "test_images_lbp.shape"
      ]
    },
    {
      "cell_type": "code",
      "execution_count": 10,
      "metadata": {
        "id": "-CGE6IGqQ6Ck"
      },
      "outputs": [],
      "source": [
        "X_train, y_train , X_val, y_val = train_images_lbp,trait_labels_lbp,test_images_lbp,test_labels_lbp"
      ]
    },
    {
      "cell_type": "code",
      "execution_count": null,
      "metadata": {
        "id": "ukdps1CuRXEm"
      },
      "outputs": [],
      "source": [
        "#X_train.shape"
      ]
    },
    {
      "cell_type": "code",
      "execution_count": null,
      "metadata": {
        "id": "xtXByy5CWK6W"
      },
      "outputs": [],
      "source": [
        "#X_val.shape"
      ]
    },
    {
      "cell_type": "code",
      "execution_count": null,
      "metadata": {
        "id": "fMOxXoAkWQED"
      },
      "outputs": [],
      "source": [
        "#y_train.shape"
      ]
    },
    {
      "cell_type": "code",
      "execution_count": null,
      "metadata": {
        "id": "ic26qfuWWSCQ"
      },
      "outputs": [],
      "source": [
        "#y_val.shape"
      ]
    },
    {
      "cell_type": "code",
      "execution_count": 11,
      "metadata": {
        "id": "G--IK7cRRrHb"
      },
      "outputs": [],
      "source": [
        "from keras.utils.np_utils import to_categorical"
      ]
    },
    {
      "cell_type": "code",
      "execution_count": 12,
      "metadata": {
        "id": "hn9cVKg-SAgq"
      },
      "outputs": [],
      "source": [
        "le = preprocessing.LabelEncoder()\n",
        "le.fit(y_val)\n",
        "y_val = le.transform(y_val)\n",
        "le.fit(y_train)\n",
        "y_train = le.transform(y_train)"
      ]
    },
    {
      "cell_type": "code",
      "execution_count": 13,
      "metadata": {
        "id": "ON_UZRZuVCkH"
      },
      "outputs": [],
      "source": [
        "y_train = to_categorical(y_train)\n",
        "y_val = to_categorical(y_val)"
      ]
    },
    {
      "cell_type": "code",
      "execution_count": null,
      "metadata": {
        "id": "DGbRhbMpSirS"
      },
      "outputs": [],
      "source": [
        "#y_val.shape"
      ]
    },
    {
      "cell_type": "code",
      "execution_count": null,
      "metadata": {
        "id": "6JMIhuIqVBVP"
      },
      "outputs": [],
      "source": [
        "#y_train.shape"
      ]
    },
    {
      "cell_type": "code",
      "execution_count": null,
      "metadata": {
        "id": "9imlFAuelBKW"
      },
      "outputs": [],
      "source": []
    },
    {
      "cell_type": "code",
      "execution_count": 14,
      "metadata": {
        "colab": {
          "base_uri": "https://localhost:8080/"
        },
        "id": "Hz5dqUIMWp9z",
        "outputId": "cbc57fdc-0404-4deb-a451-62b304a4dea2"
      },
      "outputs": [
        {
          "output_type": "stream",
          "name": "stdout",
          "text": [
            "Downloading data from https://storage.googleapis.com/tensorflow/keras-applications/vgg16/vgg16_weights_tf_dim_ordering_tf_kernels_notop.h5\n",
            "58889256/58889256 [==============================] - 0s 0us/step\n"
          ]
        }
      ],
      "source": [
        "pre_trained_model = VGG16(input_shape=(224, 224, 3), include_top=False, weights=\"imagenet\")"
      ]
    },
    {
      "cell_type": "code",
      "execution_count": null,
      "metadata": {
        "colab": {
          "base_uri": "https://localhost:8080/"
        },
        "id": "Ilm8wexeVaCL",
        "outputId": "e1539edf-80e9-4502-f56a-ab422f431d69"
      },
      "outputs": [
        {
          "name": "stdout",
          "output_type": "stream",
          "text": [
            "Downloading data from https://storage.googleapis.com/tensorflow/keras-applications/densenet/densenet201_weights_tf_dim_ordering_tf_kernels_notop.h5\n",
            "74836368/74836368 [==============================] - 4s 0us/step\n"
          ]
        }
      ],
      "source": [
        "#pre_trained_model = DenseNet201(input_shape=(224, 224, 3), include_top=False, weights=\"imagenet\")\n"
      ]
    },
    {
      "cell_type": "code",
      "execution_count": 15,
      "metadata": {
        "id": "XijHdVvtXlfE"
      },
      "outputs": [],
      "source": [
        "for layer in pre_trained_model.layers:\n",
        "    #print(layer.name)\n",
        "    if hasattr(layer, 'moving_mean') and hasattr(layer, 'moving_variance'):\n",
        "        layer.trainable = True\n",
        "        K.eval(K.update(layer.moving_mean, K.zeros_like(layer.moving_mean)))\n",
        "        K.eval(K.update(layer.moving_variance, K.zeros_like(layer.moving_variance)))\n",
        "    else:\n",
        "        layer.trainable = False\n",
        "\n",
        "#print(len(pre_trained_model.layers))"
      ]
    },
    {
      "cell_type": "code",
      "execution_count": 16,
      "metadata": {
        "colab": {
          "base_uri": "https://localhost:8080/"
        },
        "id": "5NUgKJz_W4my",
        "outputId": "b02a8726-aa84-4099-d12d-19b81b16fb0d"
      },
      "outputs": [
        {
          "output_type": "stream",
          "name": "stdout",
          "text": [
            "Model: \"vgg16\"\n",
            "_________________________________________________________________\n",
            " Layer (type)                Output Shape              Param #   \n",
            "=================================================================\n",
            " input_1 (InputLayer)        [(None, 224, 224, 3)]     0         \n",
            "                                                                 \n",
            " block1_conv1 (Conv2D)       (None, 224, 224, 64)      1792      \n",
            "                                                                 \n",
            " block1_conv2 (Conv2D)       (None, 224, 224, 64)      36928     \n",
            "                                                                 \n",
            " block1_pool (MaxPooling2D)  (None, 112, 112, 64)      0         \n",
            "                                                                 \n",
            " block2_conv1 (Conv2D)       (None, 112, 112, 128)     73856     \n",
            "                                                                 \n",
            " block2_conv2 (Conv2D)       (None, 112, 112, 128)     147584    \n",
            "                                                                 \n",
            " block2_pool (MaxPooling2D)  (None, 56, 56, 128)       0         \n",
            "                                                                 \n",
            " block3_conv1 (Conv2D)       (None, 56, 56, 256)       295168    \n",
            "                                                                 \n",
            " block3_conv2 (Conv2D)       (None, 56, 56, 256)       590080    \n",
            "                                                                 \n",
            " block3_conv3 (Conv2D)       (None, 56, 56, 256)       590080    \n",
            "                                                                 \n",
            " block3_pool (MaxPooling2D)  (None, 28, 28, 256)       0         \n",
            "                                                                 \n",
            " block4_conv1 (Conv2D)       (None, 28, 28, 512)       1180160   \n",
            "                                                                 \n",
            " block4_conv2 (Conv2D)       (None, 28, 28, 512)       2359808   \n",
            "                                                                 \n",
            " block4_conv3 (Conv2D)       (None, 28, 28, 512)       2359808   \n",
            "                                                                 \n",
            " block4_pool (MaxPooling2D)  (None, 14, 14, 512)       0         \n",
            "                                                                 \n",
            " block5_conv1 (Conv2D)       (None, 14, 14, 512)       2359808   \n",
            "                                                                 \n",
            " block5_conv2 (Conv2D)       (None, 14, 14, 512)       2359808   \n",
            "                                                                 \n",
            " block5_conv3 (Conv2D)       (None, 14, 14, 512)       2359808   \n",
            "                                                                 \n",
            " block5_pool (MaxPooling2D)  (None, 7, 7, 512)         0         \n",
            "                                                                 \n",
            "=================================================================\n",
            "Total params: 14,714,688\n",
            "Trainable params: 0\n",
            "Non-trainable params: 14,714,688\n",
            "_________________________________________________________________\n"
          ]
        }
      ],
      "source": [
        "pre_trained_model.summary()"
      ]
    },
    {
      "cell_type": "code",
      "execution_count": 17,
      "metadata": {
        "colab": {
          "base_uri": "https://localhost:8080/"
        },
        "id": "a5ioKDI1Xqhb",
        "outputId": "fd53c18f-99eb-40a5-9082-5bd491a7729e"
      },
      "outputs": [
        {
          "output_type": "stream",
          "name": "stdout",
          "text": [
            "last layer output shape: (None, 7, 7, 512)\n"
          ]
        }
      ],
      "source": [
        "last_layer = pre_trained_model.get_layer('block5_pool')\n",
        "print('last layer output shape:', last_layer.output_shape)\n",
        "last_output = last_layer.output"
      ]
    },
    {
      "cell_type": "code",
      "execution_count": 18,
      "metadata": {
        "id": "CoPYAJ24X9MX"
      },
      "outputs": [],
      "source": [
        "# Flatten the output layer to 1 dimension\n",
        "x = layers.GlobalMaxPooling2D()(last_output)\n",
        "# Add a fully connected layer with 512 hidden units and ReLU activation\n",
        "x = layers.Dense(512, activation='relu')(x)\n",
        "# Add a dropout rate of 0.5\n",
        "x = layers.Dropout(0.5)(x)\n",
        "# Add a final sigmoid layer for classification\n",
        "x = layers.Dense(3, activation='softmax')(x)\n",
        "\n",
        "# Configure and compile the model\n",
        "\n",
        "model = Model(pre_trained_model.input, x)\n"
      ]
    },
    {
      "cell_type": "code",
      "execution_count": 19,
      "metadata": {
        "colab": {
          "base_uri": "https://localhost:8080/"
        },
        "id": "by3PSM4UYzYE",
        "outputId": "7171bf4b-36cd-4f62-d572-c148041a22bf"
      },
      "outputs": [
        {
          "output_type": "stream",
          "name": "stdout",
          "text": [
            "Model: \"model\"\n",
            "_________________________________________________________________\n",
            " Layer (type)                Output Shape              Param #   \n",
            "=================================================================\n",
            " input_1 (InputLayer)        [(None, 224, 224, 3)]     0         \n",
            "                                                                 \n",
            " block1_conv1 (Conv2D)       (None, 224, 224, 64)      1792      \n",
            "                                                                 \n",
            " block1_conv2 (Conv2D)       (None, 224, 224, 64)      36928     \n",
            "                                                                 \n",
            " block1_pool (MaxPooling2D)  (None, 112, 112, 64)      0         \n",
            "                                                                 \n",
            " block2_conv1 (Conv2D)       (None, 112, 112, 128)     73856     \n",
            "                                                                 \n",
            " block2_conv2 (Conv2D)       (None, 112, 112, 128)     147584    \n",
            "                                                                 \n",
            " block2_pool (MaxPooling2D)  (None, 56, 56, 128)       0         \n",
            "                                                                 \n",
            " block3_conv1 (Conv2D)       (None, 56, 56, 256)       295168    \n",
            "                                                                 \n",
            " block3_conv2 (Conv2D)       (None, 56, 56, 256)       590080    \n",
            "                                                                 \n",
            " block3_conv3 (Conv2D)       (None, 56, 56, 256)       590080    \n",
            "                                                                 \n",
            " block3_pool (MaxPooling2D)  (None, 28, 28, 256)       0         \n",
            "                                                                 \n",
            " block4_conv1 (Conv2D)       (None, 28, 28, 512)       1180160   \n",
            "                                                                 \n",
            " block4_conv2 (Conv2D)       (None, 28, 28, 512)       2359808   \n",
            "                                                                 \n",
            " block4_conv3 (Conv2D)       (None, 28, 28, 512)       2359808   \n",
            "                                                                 \n",
            " block4_pool (MaxPooling2D)  (None, 14, 14, 512)       0         \n",
            "                                                                 \n",
            " block5_conv1 (Conv2D)       (None, 14, 14, 512)       2359808   \n",
            "                                                                 \n",
            " block5_conv2 (Conv2D)       (None, 14, 14, 512)       2359808   \n",
            "                                                                 \n",
            " block5_conv3 (Conv2D)       (None, 14, 14, 512)       2359808   \n",
            "                                                                 \n",
            " block5_pool (MaxPooling2D)  (None, 7, 7, 512)         0         \n",
            "                                                                 \n",
            " global_max_pooling2d (Globa  (None, 512)              0         \n",
            " lMaxPooling2D)                                                  \n",
            "                                                                 \n",
            " dense (Dense)               (None, 512)               262656    \n",
            "                                                                 \n",
            " dropout (Dropout)           (None, 512)               0         \n",
            "                                                                 \n",
            " dense_1 (Dense)             (None, 3)                 1539      \n",
            "                                                                 \n",
            "=================================================================\n",
            "Total params: 14,978,883\n",
            "Trainable params: 264,195\n",
            "Non-trainable params: 14,714,688\n",
            "_________________________________________________________________\n"
          ]
        }
      ],
      "source": [
        "model.summary()"
      ]
    },
    {
      "cell_type": "code",
      "execution_count": 20,
      "metadata": {
        "colab": {
          "base_uri": "https://localhost:8080/"
        },
        "id": "uV0NlqnKpLIw",
        "outputId": "3d3a96bf-ab2f-419d-f675-8df245a26ec4"
      },
      "outputs": [
        {
          "output_type": "stream",
          "name": "stdout",
          "text": [
            "Looking in indexes: https://pypi.org/simple, https://us-python.pkg.dev/colab-wheels/public/simple/\n",
            "Collecting tensorflow_addons\n",
            "  Downloading tensorflow_addons-0.19.0-cp38-cp38-manylinux_2_17_x86_64.manylinux2014_x86_64.whl (1.1 MB)\n",
            "\u001b[2K     \u001b[90m━━━━━━━━━━━━━━━━━━━━━━━━━━━━━━━━━━━━━━━━\u001b[0m \u001b[32m1.1/1.1 MB\u001b[0m \u001b[31m17.3 MB/s\u001b[0m eta \u001b[36m0:00:00\u001b[0m\n",
            "\u001b[?25hRequirement already satisfied: typeguard>=2.7 in /usr/local/lib/python3.8/dist-packages (from tensorflow_addons) (2.7.1)\n",
            "Requirement already satisfied: packaging in /usr/local/lib/python3.8/dist-packages (from tensorflow_addons) (21.3)\n",
            "Requirement already satisfied: pyparsing!=3.0.5,>=2.0.2 in /usr/local/lib/python3.8/dist-packages (from packaging->tensorflow_addons) (3.0.9)\n",
            "Installing collected packages: tensorflow_addons\n",
            "Successfully installed tensorflow_addons-0.19.0\n"
          ]
        }
      ],
      "source": [
        "!pip install tensorflow_addons"
      ]
    },
    {
      "cell_type": "code",
      "execution_count": null,
      "metadata": {
        "id": "P__SbxH0YJaE"
      },
      "outputs": [],
      "source": [
        "#model.summary()\n"
      ]
    },
    {
      "cell_type": "code",
      "execution_count": 21,
      "metadata": {
        "id": "Y4K54-hsYmK4"
      },
      "outputs": [],
      "source": [
        "train_datagen = ImageDataGenerator(rotation_range=45, width_shift_range=0.2, height_shift_range=0.2,\n",
        "                                   shear_range=0.2, zoom_range=0.2, fill_mode='nearest')\n",
        "\n",
        "train_datagen.fit(X_train)\n",
        "\n",
        "val_datagen = ImageDataGenerator()\n",
        "val_datagen.fit(X_val)"
      ]
    },
    {
      "cell_type": "code",
      "execution_count": null,
      "metadata": {
        "id": "gaxbgtNgYv8l"
      },
      "outputs": [],
      "source": [
        "# batch_size = 32\n",
        "# epochs = 5\n",
        "# history = model.fit_generator(train_datagen.flow(X_train,y_train, batch_size=batch_size),\n",
        "#                               epochs = epochs, validation_data = val_datagen.flow(X_val, y_val),\n",
        "#                               verbose = 1, steps_per_epoch=(X_train.shape[0] // batch_size), \n",
        "#                               validation_steps=(X_val.shape[0] // batch_size))"
      ]
    },
    {
      "cell_type": "code",
      "execution_count": null,
      "metadata": {
        "id": "Lzd3KuIlapKA"
      },
      "outputs": [],
      "source": [
        "# plt.plot(history.history['loss'])\n",
        "# plt.plot(history.history['val_loss'])\n",
        "# plt.title('Model loss')\n",
        "# plt.ylabel('Loss')\n",
        "# plt.xlabel('Epoch')\n",
        "# plt.legend(['Train', 'Val'], loc='upper left')\n",
        "# plt.show()"
      ]
    },
    {
      "cell_type": "code",
      "execution_count": null,
      "metadata": {
        "id": "k5MDe5nZhzEK"
      },
      "outputs": [],
      "source": [
        "# plt.plot(history.history['accuracy'])\n",
        "# plt.plot(history.history['val_accuracy'])\n",
        "# plt.title('Model accuracy')\n",
        "# plt.ylabel('Accuracy')\n",
        "# plt.xlabel('Epoch')\n",
        "# plt.legend(['Train', 'Val'], loc='upper left')\n",
        "# plt.show()"
      ]
    },
    {
      "cell_type": "code",
      "execution_count": 37,
      "metadata": {
        "colab": {
          "base_uri": "https://localhost:8080/",
          "height": 35
        },
        "id": "y4ZMQSWWMTEg",
        "outputId": "eab144e6-80cb-44d0-e46d-f9532741de30"
      },
      "outputs": [
        {
          "output_type": "execute_result",
          "data": {
            "text/plain": [
              "'block5_conv1'"
            ],
            "application/vnd.google.colaboratory.intrinsic+json": {
              "type": "string"
            }
          },
          "metadata": {},
          "execution_count": 37
        }
      ],
      "source": [
        "#pre_trained_model.layers[15].name\n"
      ]
    },
    {
      "cell_type": "code",
      "execution_count": 38,
      "metadata": {
        "id": "a9bsjqGCSMly"
      },
      "outputs": [],
      "source": [
        "# for layer in pre_trained_model.layers[15:]:\n",
        "#     layer.trainable = True"
      ]
    },
    {
      "cell_type": "code",
      "source": [
        "model = Model(pre_trained_model.input, x)"
      ],
      "metadata": {
        "id": "p42VChlg-SYP"
      },
      "execution_count": 22,
      "outputs": []
    },
    {
      "cell_type": "code",
      "execution_count": 23,
      "metadata": {
        "colab": {
          "base_uri": "https://localhost:8080/"
        },
        "id": "NUcXzbJcSUkq",
        "outputId": "f88b0d06-6499-4646-a504-3fe77473627d"
      },
      "outputs": [
        {
          "output_type": "stream",
          "name": "stderr",
          "text": [
            "/usr/local/lib/python3.8/dist-packages/keras/optimizers/optimizer_v2/adam.py:110: UserWarning: The `lr` argument is deprecated, use `learning_rate` instead.\n",
            "  super(Adam, self).__init__(name, **kwargs)\n"
          ]
        }
      ],
      "source": [
        "optimizer = Adam(lr=0.0001, beta_1=0.9, beta_2=0.999, epsilon=None, decay=0.0, amsgrad=False)\n",
        "model.compile(loss='categorical_crossentropy',\n",
        "              optimizer=optimizer,\n",
        "              metrics=['acc'])"
      ]
    },
    {
      "cell_type": "code",
      "execution_count": 24,
      "metadata": {
        "id": "hQjIDIST0E36",
        "colab": {
          "base_uri": "https://localhost:8080/"
        },
        "outputId": "e44bcbc7-16af-429a-c154-d021b6cd793d"
      },
      "outputs": [
        {
          "output_type": "stream",
          "name": "stdout",
          "text": [
            "Model: \"model_1\"\n",
            "_________________________________________________________________\n",
            " Layer (type)                Output Shape              Param #   \n",
            "=================================================================\n",
            " input_1 (InputLayer)        [(None, 224, 224, 3)]     0         \n",
            "                                                                 \n",
            " block1_conv1 (Conv2D)       (None, 224, 224, 64)      1792      \n",
            "                                                                 \n",
            " block1_conv2 (Conv2D)       (None, 224, 224, 64)      36928     \n",
            "                                                                 \n",
            " block1_pool (MaxPooling2D)  (None, 112, 112, 64)      0         \n",
            "                                                                 \n",
            " block2_conv1 (Conv2D)       (None, 112, 112, 128)     73856     \n",
            "                                                                 \n",
            " block2_conv2 (Conv2D)       (None, 112, 112, 128)     147584    \n",
            "                                                                 \n",
            " block2_pool (MaxPooling2D)  (None, 56, 56, 128)       0         \n",
            "                                                                 \n",
            " block3_conv1 (Conv2D)       (None, 56, 56, 256)       295168    \n",
            "                                                                 \n",
            " block3_conv2 (Conv2D)       (None, 56, 56, 256)       590080    \n",
            "                                                                 \n",
            " block3_conv3 (Conv2D)       (None, 56, 56, 256)       590080    \n",
            "                                                                 \n",
            " block3_pool (MaxPooling2D)  (None, 28, 28, 256)       0         \n",
            "                                                                 \n",
            " block4_conv1 (Conv2D)       (None, 28, 28, 512)       1180160   \n",
            "                                                                 \n",
            " block4_conv2 (Conv2D)       (None, 28, 28, 512)       2359808   \n",
            "                                                                 \n",
            " block4_conv3 (Conv2D)       (None, 28, 28, 512)       2359808   \n",
            "                                                                 \n",
            " block4_pool (MaxPooling2D)  (None, 14, 14, 512)       0         \n",
            "                                                                 \n",
            " block5_conv1 (Conv2D)       (None, 14, 14, 512)       2359808   \n",
            "                                                                 \n",
            " block5_conv2 (Conv2D)       (None, 14, 14, 512)       2359808   \n",
            "                                                                 \n",
            " block5_conv3 (Conv2D)       (None, 14, 14, 512)       2359808   \n",
            "                                                                 \n",
            " block5_pool (MaxPooling2D)  (None, 7, 7, 512)         0         \n",
            "                                                                 \n",
            " global_max_pooling2d (Globa  (None, 512)              0         \n",
            " lMaxPooling2D)                                                  \n",
            "                                                                 \n",
            " dense (Dense)               (None, 512)               262656    \n",
            "                                                                 \n",
            " dropout (Dropout)           (None, 512)               0         \n",
            "                                                                 \n",
            " dense_1 (Dense)             (None, 3)                 1539      \n",
            "                                                                 \n",
            "=================================================================\n",
            "Total params: 14,978,883\n",
            "Trainable params: 264,195\n",
            "Non-trainable params: 14,714,688\n",
            "_________________________________________________________________\n"
          ]
        }
      ],
      "source": [
        "model.summary()"
      ]
    },
    {
      "cell_type": "code",
      "execution_count": 25,
      "metadata": {
        "id": "7LFOlxUcSU2B"
      },
      "outputs": [],
      "source": [
        "learning_rate_reduction = ReduceLROnPlateau(monitor='val_acc', patience=3, verbose=1, factor=0.5, \n",
        "                                            min_lr=0.0001, cooldown=2)"
      ]
    },
    {
      "cell_type": "code",
      "execution_count": 26,
      "metadata": {
        "colab": {
          "base_uri": "https://localhost:8080/"
        },
        "id": "dMFvSqtXSVM_",
        "outputId": "00efd571-01fe-437c-dd0f-c64d8de3b9ca"
      },
      "outputs": [
        {
          "output_type": "stream",
          "name": "stderr",
          "text": [
            "<ipython-input-26-ecaf99983759>:3: UserWarning: `Model.fit_generator` is deprecated and will be removed in a future version. Please use `Model.fit`, which supports generators.\n",
            "  history = model.fit_generator(train_datagen.flow(X_train,y_train, batch_size=batch_size),\n"
          ]
        },
        {
          "output_type": "stream",
          "name": "stdout",
          "text": [
            "Epoch 1/50\n",
            "79/79 [==============================] - 68s 698ms/step - loss: 12.1239 - acc: 0.5438 - val_loss: 4.6861 - val_acc: 0.6924 - lr: 1.0000e-04\n",
            "Epoch 2/50\n",
            "79/79 [==============================] - 52s 650ms/step - loss: 7.8416 - acc: 0.6116 - val_loss: 3.3612 - val_acc: 0.7220 - lr: 1.0000e-04\n",
            "Epoch 3/50\n",
            "79/79 [==============================] - 53s 670ms/step - loss: 5.6222 - acc: 0.6433 - val_loss: 2.7967 - val_acc: 0.7270 - lr: 1.0000e-04\n",
            "Epoch 4/50\n",
            "79/79 [==============================] - 52s 653ms/step - loss: 4.4426 - acc: 0.6471 - val_loss: 2.1647 - val_acc: 0.7138 - lr: 1.0000e-04\n",
            "Epoch 5/50\n",
            "79/79 [==============================] - 52s 658ms/step - loss: 3.4067 - acc: 0.6618 - val_loss: 1.6813 - val_acc: 0.7204 - lr: 1.0000e-04\n",
            "Epoch 6/50\n",
            "79/79 [==============================] - 52s 650ms/step - loss: 2.6612 - acc: 0.6734 - val_loss: 1.6442 - val_acc: 0.7336 - lr: 1.0000e-04\n",
            "Epoch 7/50\n",
            "79/79 [==============================] - 52s 653ms/step - loss: 2.2716 - acc: 0.6687 - val_loss: 1.4158 - val_acc: 0.7484 - lr: 1.0000e-04\n",
            "Epoch 8/50\n",
            "79/79 [==============================] - 52s 654ms/step - loss: 1.7939 - acc: 0.6817 - val_loss: 1.1315 - val_acc: 0.7352 - lr: 1.0000e-04\n",
            "Epoch 9/50\n",
            "79/79 [==============================] - 52s 654ms/step - loss: 1.5188 - acc: 0.6762 - val_loss: 1.1791 - val_acc: 0.7336 - lr: 1.0000e-04\n",
            "Epoch 10/50\n",
            "79/79 [==============================] - 52s 653ms/step - loss: 1.2977 - acc: 0.6758 - val_loss: 1.0182 - val_acc: 0.7319 - lr: 1.0000e-04\n",
            "Epoch 11/50\n",
            "79/79 [==============================] - 52s 650ms/step - loss: 1.1483 - acc: 0.6776 - val_loss: 0.9185 - val_acc: 0.7385 - lr: 1.0000e-04\n",
            "Epoch 12/50\n",
            "79/79 [==============================] - 51s 649ms/step - loss: 1.0603 - acc: 0.6827 - val_loss: 0.9880 - val_acc: 0.7385 - lr: 1.0000e-04\n",
            "Epoch 13/50\n",
            "79/79 [==============================] - 52s 651ms/step - loss: 1.0307 - acc: 0.6790 - val_loss: 0.8667 - val_acc: 0.7204 - lr: 1.0000e-04\n",
            "Epoch 14/50\n",
            "79/79 [==============================] - 52s 654ms/step - loss: 0.9507 - acc: 0.6915 - val_loss: 0.8282 - val_acc: 0.7270 - lr: 1.0000e-04\n",
            "Epoch 15/50\n",
            "79/79 [==============================] - 52s 652ms/step - loss: 0.8816 - acc: 0.6873 - val_loss: 0.8187 - val_acc: 0.7484 - lr: 1.0000e-04\n",
            "Epoch 16/50\n",
            "79/79 [==============================] - 52s 659ms/step - loss: 0.8354 - acc: 0.6989 - val_loss: 0.8461 - val_acc: 0.7253 - lr: 1.0000e-04\n",
            "Epoch 17/50\n",
            "79/79 [==============================] - 52s 656ms/step - loss: 0.7919 - acc: 0.7037 - val_loss: 0.7688 - val_acc: 0.7434 - lr: 1.0000e-04\n",
            "Epoch 18/50\n",
            "79/79 [==============================] - 52s 661ms/step - loss: 0.7995 - acc: 0.7005 - val_loss: 0.7048 - val_acc: 0.7484 - lr: 1.0000e-04\n",
            "Epoch 19/50\n",
            "79/79 [==============================] - 52s 654ms/step - loss: 0.7690 - acc: 0.7092 - val_loss: 0.7372 - val_acc: 0.7319 - lr: 1.0000e-04\n",
            "Epoch 20/50\n",
            "79/79 [==============================] - 52s 650ms/step - loss: 0.7358 - acc: 0.7079 - val_loss: 0.7536 - val_acc: 0.7418 - lr: 1.0000e-04\n",
            "Epoch 21/50\n",
            "79/79 [==============================] - 52s 656ms/step - loss: 0.7158 - acc: 0.7200 - val_loss: 0.6862 - val_acc: 0.7500 - lr: 1.0000e-04\n",
            "Epoch 22/50\n",
            "79/79 [==============================] - 52s 652ms/step - loss: 0.7127 - acc: 0.7200 - val_loss: 0.6985 - val_acc: 0.7747 - lr: 1.0000e-04\n",
            "Epoch 23/50\n",
            "79/79 [==============================] - 52s 656ms/step - loss: 0.6954 - acc: 0.7220 - val_loss: 0.7096 - val_acc: 0.7385 - lr: 1.0000e-04\n",
            "Epoch 24/50\n",
            "79/79 [==============================] - 52s 656ms/step - loss: 0.7123 - acc: 0.7210 - val_loss: 0.6507 - val_acc: 0.7697 - lr: 1.0000e-04\n",
            "Epoch 25/50\n",
            "79/79 [==============================] - 52s 651ms/step - loss: 0.6875 - acc: 0.7326 - val_loss: 0.6576 - val_acc: 0.7500 - lr: 1.0000e-04\n",
            "Epoch 26/50\n",
            "79/79 [==============================] - 52s 652ms/step - loss: 0.6537 - acc: 0.7399 - val_loss: 0.6713 - val_acc: 0.7632 - lr: 1.0000e-04\n",
            "Epoch 27/50\n",
            "79/79 [==============================] - 52s 654ms/step - loss: 0.6664 - acc: 0.7306 - val_loss: 0.6259 - val_acc: 0.7730 - lr: 1.0000e-04\n",
            "Epoch 28/50\n",
            "79/79 [==============================] - 52s 653ms/step - loss: 0.6375 - acc: 0.7455 - val_loss: 0.6780 - val_acc: 0.7484 - lr: 1.0000e-04\n",
            "Epoch 29/50\n",
            "79/79 [==============================] - 52s 654ms/step - loss: 0.6587 - acc: 0.7415 - val_loss: 0.6466 - val_acc: 0.7566 - lr: 1.0000e-04\n",
            "Epoch 30/50\n",
            "79/79 [==============================] - 52s 653ms/step - loss: 0.6379 - acc: 0.7473 - val_loss: 0.6059 - val_acc: 0.7747 - lr: 1.0000e-04\n",
            "Epoch 31/50\n",
            "79/79 [==============================] - 51s 645ms/step - loss: 0.6455 - acc: 0.7399 - val_loss: 0.6501 - val_acc: 0.7615 - lr: 1.0000e-04\n",
            "Epoch 32/50\n",
            "79/79 [==============================] - 52s 652ms/step - loss: 0.6348 - acc: 0.7481 - val_loss: 0.6538 - val_acc: 0.7697 - lr: 1.0000e-04\n",
            "Epoch 33/50\n",
            "79/79 [==============================] - 52s 649ms/step - loss: 0.6223 - acc: 0.7541 - val_loss: 0.6019 - val_acc: 0.7763 - lr: 1.0000e-04\n",
            "Epoch 34/50\n",
            "79/79 [==============================] - 52s 653ms/step - loss: 0.6035 - acc: 0.7603 - val_loss: 0.6149 - val_acc: 0.7582 - lr: 1.0000e-04\n",
            "Epoch 35/50\n",
            "79/79 [==============================] - 53s 667ms/step - loss: 0.6143 - acc: 0.7533 - val_loss: 0.6094 - val_acc: 0.7714 - lr: 1.0000e-04\n",
            "Epoch 36/50\n",
            "79/79 [==============================] - 52s 655ms/step - loss: 0.5990 - acc: 0.7565 - val_loss: 0.6247 - val_acc: 0.7747 - lr: 1.0000e-04\n",
            "Epoch 37/50\n",
            "79/79 [==============================] - 52s 649ms/step - loss: 0.6137 - acc: 0.7557 - val_loss: 0.6192 - val_acc: 0.7582 - lr: 1.0000e-04\n",
            "Epoch 38/50\n",
            "79/79 [==============================] - 52s 654ms/step - loss: 0.6018 - acc: 0.7561 - val_loss: 0.5903 - val_acc: 0.7747 - lr: 1.0000e-04\n",
            "Epoch 39/50\n",
            "79/79 [==============================] - 52s 662ms/step - loss: 0.5854 - acc: 0.7660 - val_loss: 0.6451 - val_acc: 0.7648 - lr: 1.0000e-04\n",
            "Epoch 40/50\n",
            "79/79 [==============================] - 53s 670ms/step - loss: 0.6039 - acc: 0.7650 - val_loss: 0.6295 - val_acc: 0.7681 - lr: 1.0000e-04\n",
            "Epoch 41/50\n",
            "79/79 [==============================] - 52s 650ms/step - loss: 0.5877 - acc: 0.7644 - val_loss: 0.6653 - val_acc: 0.7467 - lr: 1.0000e-04\n",
            "Epoch 42/50\n",
            "79/79 [==============================] - 52s 655ms/step - loss: 0.5965 - acc: 0.7615 - val_loss: 0.6006 - val_acc: 0.7763 - lr: 1.0000e-04\n",
            "Epoch 43/50\n",
            "79/79 [==============================] - 52s 653ms/step - loss: 0.5901 - acc: 0.7662 - val_loss: 0.6010 - val_acc: 0.7878 - lr: 1.0000e-04\n",
            "Epoch 44/50\n",
            "79/79 [==============================] - 52s 655ms/step - loss: 0.5775 - acc: 0.7712 - val_loss: 0.5460 - val_acc: 0.8043 - lr: 1.0000e-04\n",
            "Epoch 45/50\n",
            "79/79 [==============================] - 52s 653ms/step - loss: 0.5907 - acc: 0.7587 - val_loss: 0.5691 - val_acc: 0.7730 - lr: 1.0000e-04\n",
            "Epoch 46/50\n",
            "79/79 [==============================] - 52s 651ms/step - loss: 0.5844 - acc: 0.7674 - val_loss: 0.5431 - val_acc: 0.8026 - lr: 1.0000e-04\n",
            "Epoch 47/50\n",
            "79/79 [==============================] - 53s 663ms/step - loss: 0.5830 - acc: 0.7646 - val_loss: 0.6064 - val_acc: 0.7730 - lr: 1.0000e-04\n",
            "Epoch 48/50\n",
            "79/79 [==============================] - 52s 649ms/step - loss: 0.5701 - acc: 0.7718 - val_loss: 0.5700 - val_acc: 0.7664 - lr: 1.0000e-04\n",
            "Epoch 49/50\n",
            "79/79 [==============================] - 52s 650ms/step - loss: 0.5733 - acc: 0.7704 - val_loss: 0.6150 - val_acc: 0.7632 - lr: 1.0000e-04\n",
            "Epoch 50/50\n",
            "79/79 [==============================] - 52s 658ms/step - loss: 0.5764 - acc: 0.7704 - val_loss: 0.5877 - val_acc: 0.7714 - lr: 1.0000e-04\n"
          ]
        }
      ],
      "source": [
        "batch_size = 64\n",
        "epochs = 50\n",
        "history = model.fit_generator(train_datagen.flow(X_train,y_train, batch_size=batch_size),\n",
        "                              epochs = epochs,  validation_data = val_datagen.flow(X_val, y_val),\n",
        "                              verbose = 1, steps_per_epoch=(X_train.shape[0] // batch_size),\n",
        "                              validation_steps=(X_val.shape[0] // batch_size),\n",
        "                              callbacks=[learning_rate_reduction])"
      ]
    },
    {
      "cell_type": "code",
      "execution_count": 27,
      "metadata": {
        "colab": {
          "base_uri": "https://localhost:8080/"
        },
        "id": "TJGJAPQku_K1",
        "outputId": "6be9338f-7354-4bf9-c570-d5ce2e91727f"
      },
      "outputs": [
        {
          "output_type": "stream",
          "name": "stdout",
          "text": [
            "Looking in indexes: https://pypi.org/simple, https://us-python.pkg.dev/colab-wheels/public/simple/\n",
            "\u001b[31mERROR: Could not find a version that satisfies the requirement pickle (from versions: none)\u001b[0m\u001b[31m\n",
            "\u001b[0m\u001b[31mERROR: No matching distribution found for pickle\u001b[0m\u001b[31m\n",
            "\u001b[0m"
          ]
        }
      ],
      "source": [
        "!pip install pickle"
      ]
    },
    {
      "cell_type": "code",
      "execution_count": 28,
      "metadata": {
        "id": "YsEjwZYMu_K1"
      },
      "outputs": [],
      "source": [
        "import pickle"
      ]
    },
    {
      "cell_type": "code",
      "execution_count": 29,
      "metadata": {
        "colab": {
          "base_uri": "https://localhost:8080/"
        },
        "id": "LkIoJZ5Qu_K1",
        "outputId": "b5803cd7-aa9f-4c8b-e91d-06e8168976eb"
      },
      "outputs": [
        {
          "output_type": "stream",
          "name": "stderr",
          "text": [
            "WARNING:absl:Found untraced functions such as _jit_compiled_convolution_op, _jit_compiled_convolution_op, _jit_compiled_convolution_op, _jit_compiled_convolution_op, _jit_compiled_convolution_op while saving (showing 5 of 13). These functions will not be directly callable after loading.\n"
          ]
        }
      ],
      "source": [
        "pickle.dump(model, open('model_multi.sav', 'wb'))"
      ]
    },
    {
      "cell_type": "code",
      "execution_count": 30,
      "metadata": {
        "colab": {
          "base_uri": "https://localhost:8080/"
        },
        "id": "ZtZyJSjES9w0",
        "outputId": "b5ea5a76-89b1-4018-84c2-abb7b58259c9"
      },
      "outputs": [
        {
          "output_type": "stream",
          "name": "stdout",
          "text": [
            "40/40 [==============================] - 9s 214ms/step - loss: 0.5687 - acc: 0.7811\n",
            "Validation: accuracy = 0.781102  ;  loss_v = 0.568734\n"
          ]
        }
      ],
      "source": [
        "loss_val, acc_val = model.evaluate(X_val, y_val, verbose=1)\n",
        "print(\"Validation: accuracy = %f  ;  loss_v = %f\" % (acc_val, loss_val))"
      ]
    },
    {
      "cell_type": "code",
      "execution_count": 31,
      "metadata": {
        "colab": {
          "base_uri": "https://localhost:8080/"
        },
        "id": "aGT5fJX_wNbO",
        "outputId": "bc5a4425-9a49-4c61-9913-fdb2155a8ccc"
      },
      "outputs": [
        {
          "output_type": "stream",
          "name": "stdout",
          "text": [
            "40/40 [==============================] - 6s 162ms/step\n"
          ]
        }
      ],
      "source": [
        "prediction = model.predict(X_val)"
      ]
    },
    {
      "cell_type": "code",
      "execution_count": 32,
      "metadata": {
        "id": "-jMwSsK0w_XB"
      },
      "outputs": [],
      "source": [
        "y_pred = np.argmax(prediction, axis=1)"
      ]
    },
    {
      "cell_type": "code",
      "execution_count": 33,
      "metadata": {
        "colab": {
          "base_uri": "https://localhost:8080/"
        },
        "id": "EaR-0ekVx-fl",
        "outputId": "f4c50caa-c8cb-4ace-edb5-71023660f2ad"
      },
      "outputs": [
        {
          "output_type": "execute_result",
          "data": {
            "text/plain": [
              "array([0, 1, 2])"
            ]
          },
          "metadata": {},
          "execution_count": 33
        }
      ],
      "source": [
        "np.unique(y_pred)"
      ]
    },
    {
      "cell_type": "code",
      "execution_count": 34,
      "metadata": {
        "id": "kHSQNrOhxyq0"
      },
      "outputs": [],
      "source": [
        "from sklearn import preprocessing\n",
        "le = preprocessing.LabelEncoder()\n",
        "le.fit(test_labels_lbp)\n",
        "test_labels_encoded = le.transform(test_labels_lbp)"
      ]
    },
    {
      "cell_type": "code",
      "execution_count": 35,
      "metadata": {
        "colab": {
          "base_uri": "https://localhost:8080/"
        },
        "id": "c-TW3EqxxFu_",
        "outputId": "dd4a9625-215f-40e9-a527-862b3d7ff107"
      },
      "outputs": [
        {
          "output_type": "execute_result",
          "data": {
            "text/plain": [
              "array([0, 1, 2])"
            ]
          },
          "metadata": {},
          "execution_count": 35
        }
      ],
      "source": [
        "np.unique(test_labels_encoded)"
      ]
    },
    {
      "cell_type": "code",
      "execution_count": 36,
      "metadata": {
        "colab": {
          "base_uri": "https://localhost:8080/"
        },
        "id": "1nO2b0HzxJwu",
        "outputId": "a1c90093-07e7-4a06-f2d7-56c4990619e1"
      },
      "outputs": [
        {
          "output_type": "stream",
          "name": "stdout",
          "text": [
            "0.5914924537296301\n"
          ]
        }
      ],
      "source": [
        "from sklearn.metrics import cohen_kappa_score\n",
        "kappa = cohen_kappa_score(y_pred, test_labels_encoded)\n",
        "print(kappa)"
      ]
    },
    {
      "cell_type": "code",
      "execution_count": 37,
      "metadata": {
        "colab": {
          "base_uri": "https://localhost:8080/",
          "height": 295
        },
        "id": "Bfn66KHVvU2I",
        "outputId": "95da8ae9-9ebf-4aab-cfd1-fbd052a98d13"
      },
      "outputs": [
        {
          "output_type": "display_data",
          "data": {
            "text/plain": [
              "<Figure size 432x288 with 1 Axes>"
            ],
            "image/png": "[encoded data removed]"
          },
          "metadata": {
            "needs_background": "light"
          }
        }
      ],
      "source": [
        "plt.plot(history.history['loss'])\n",
        "plt.plot(history.history['val_loss'])\n",
        "plt.title('Model loss')\n",
        "plt.ylabel('Loss')\n",
        "plt.xlabel('Epoch')\n",
        "plt.legend(['Train', 'Val'], loc='upper left')\n",
        "plt.show()"
      ]
    },
    {
      "cell_type": "code",
      "execution_count": 38,
      "metadata": {
        "colab": {
          "base_uri": "https://localhost:8080/",
          "height": 295
        },
        "id": "am9sZP65vcXQ",
        "outputId": "d5aadf65-7926-4140-f5d2-1c2a1ed7cfa2"
      },
      "outputs": [
        {
          "output_type": "display_data",
          "data": {
            "text/plain": [
              "<Figure size 432x288 with 1 Axes>"
            ],
            "image/png": "[encoded data removed]"
          },
          "metadata": {
            "needs_background": "light"
          }
        }
      ],
      "source": [
        "plt.plot(history.history['acc'])\n",
        "plt.plot(history.history['val_acc'])\n",
        "plt.title('Model accuracy')\n",
        "plt.ylabel('Accuracy')\n",
        "plt.xlabel('Epoch')\n",
        "plt.legend(['Train', 'Val'], loc='upper left')\n",
        "plt.show()"
      ]
    },
    {
      "cell_type": "code",
      "execution_count": null,
      "metadata": {
        "colab": {
          "base_uri": "https://localhost:8080/"
        },
        "id": "HBUCTffdozNk",
        "outputId": "f3e91df9-f7a0-4ca2-c493-9e474929bcae"
      },
      "outputs": [
        {
          "name": "stdout",
          "output_type": "stream",
          "text": [
            "Looking in indexes: https://pypi.org/simple, https://us-python.pkg.dev/colab-wheels/public/simple/\n",
            "Requirement already satisfied: tensorflow_addons in /usr/local/lib/python3.8/dist-packages (0.19.0)\n",
            "Requirement already satisfied: packaging in /usr/local/lib/python3.8/dist-packages (from tensorflow_addons) (21.3)\n",
            "Requirement already satisfied: typeguard>=2.7 in /usr/local/lib/python3.8/dist-packages (from tensorflow_addons) (2.7.1)\n",
            "Requirement already satisfied: pyparsing!=3.0.5,>=2.0.2 in /usr/local/lib/python3.8/dist-packages (from packaging->tensorflow_addons) (3.0.9)\n"
          ]
        }
      ],
      "source": [
        "!pip install tensorflow_addons"
      ]
    }
  ],
  "metadata": {
    "accelerator": "GPU",
    "colab": {
      "machine_shape": "hm",
      "provenance": [],
      "include_colab_link": true
    },
    "gpuClass": "standard",
    "kernelspec": {
      "display_name": "Python 3 (ipykernel)",
      "language": "python",
      "name": "python3"
    },
    "language_info": {
      "codemirror_mode": {
        "name": "ipython",
        "version": 3
      },
      "file_extension": ".py",
      "mimetype": "text/x-python",
      "name": "python",
      "nbconvert_exporter": "python",
      "pygments_lexer": "ipython3",
      "version": "3.10.6"
    }
  },
  "nbformat": 4,
  "nbformat_minor": 0
}